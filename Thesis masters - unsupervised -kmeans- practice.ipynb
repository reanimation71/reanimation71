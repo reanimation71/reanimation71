{
 "cells": [
  {
   "cell_type": "code",
   "execution_count": 1,
   "id": "d5585981",
   "metadata": {},
   "outputs": [],
   "source": [
    "#Importing libraries\n",
    "import numpy as np\n",
    "import pandas as pd\n",
    "pd.set_option('display.max_columns', None)\n",
    "import matplotlib.pyplot as plt\n",
    "import seaborn as sns\n",
    "import time"
   ]
  },
  {
   "cell_type": "code",
   "execution_count": 2,
   "id": "38a2796d",
   "metadata": {},
   "outputs": [],
   "source": [
    "#loading the train data and test data\n",
    "train=pd.read_csv(\"Dataset/20percent_labelled.csv\")\n",
    "test=pd.read_csv(\"Dataset/Test.csv\")"
   ]
  },
  {
   "cell_type": "markdown",
   "id": "589f58dc",
   "metadata": {},
   "source": [
    "# Target Variable"
   ]
  },
  {
   "cell_type": "markdown",
   "id": "fdd3ff84",
   "metadata": {},
   "source": [
    "Relation between target variable and categorical behavior"
   ]
  },
  {
   "cell_type": "markdown",
   "id": "72c4fc91",
   "metadata": {},
   "source": [
    "# Data Preprocessing"
   ]
  },
  {
   "cell_type": "code",
   "execution_count": 3,
   "id": "bba5e7ee",
   "metadata": {},
   "outputs": [],
   "source": [
    "train.replace([np.inf, -np.inf], np.nan, inplace=True)"
   ]
  },
  {
   "cell_type": "code",
   "execution_count": 4,
   "id": "1b6920eb",
   "metadata": {},
   "outputs": [],
   "source": [
    "train=train.dropna(subset=['Service'])"
   ]
  },
  {
   "cell_type": "code",
   "execution_count": 5,
   "id": "d63c367b",
   "metadata": {},
   "outputs": [
    {
     "data": {
      "text/plain": [
       "['Protocol_type', 'Flag', 'Service']"
      ]
     },
     "execution_count": 5,
     "metadata": {},
     "output_type": "execute_result"
    }
   ],
   "source": [
    "#finding categoritcal features\n",
    "numeric_columns=train._get_numeric_data().columns\n",
    "categorical_columns=list(set(train.columns)-set(numeric_columns))\n",
    "categorical_columns.remove('Result')\n",
    "categorical_columns"
   ]
  },
  {
   "cell_type": "code",
   "execution_count": 6,
   "id": "8a4052e1",
   "metadata": {},
   "outputs": [
    {
     "data": {
      "text/plain": [
       "['Protocol_type', 'Flag', 'Service']"
      ]
     },
     "execution_count": 6,
     "metadata": {},
     "output_type": "execute_result"
    }
   ],
   "source": [
    "numeric_columns=train._get_numeric_data().columns\n",
    "categorical_columns=list(set(train.columns)-set(numeric_columns))\n",
    "categorical_columns.remove('Result')\n",
    "categorical_columns"
   ]
  },
  {
   "cell_type": "code",
   "execution_count": 7,
   "id": "61500268",
   "metadata": {},
   "outputs": [],
   "source": [
    "#converting categorical values into numeric \n",
    "#can be done in this way as well\n",
    "#from sklearn import preprocessing\n",
    "#label_encoder=preprocessing.LabelEncoder()\n",
    "#train['Flag']=label_encoder.fit_transform(train['Flag'])\n",
    "train.Protocol_type=train.Protocol_type.map({\"tcp\":0,\"udp\":1,\"icmp\":2})\n",
    "train.Service=train.Service.map({\"ftp_data\":0,\"other\":1,\"private\":2,\"http\":3,\"remote_job\":4,\"name\":5,\"netbios_dgm\":6,\"eco_i\":7,\"mtp\":8,\"telnet\":9,\"finger\":10,\"domain_u\":11,\"supdup\":12,\"uucp_path\":13,\"Z39_50\":14,\"smtp\":15,\"csnet_ns\":16,\"uucp\":17,\"netbios_dgm\":18,\"urp_i\":19,\"auth\":20,\"domain\":21,\"ftp\":22,\"bgp\":23,\"ldap\":24,\"ecr_i\":25,\"gopher\":26,\"vmnet\":27,\"systat\":28,\"http_433\":29,\"efs\":30,\"whois\":31,\"imap4\":32,\"iso_tsap\":33,\"echo\":34,\"klogin\":35,\"link\":36,\"sunrpc\":37,\"login\":38,\"kshell\":39,\"sql_net\":40,\"time\":41,\"hostnames\":42,\"exec\":43,\"ntp_u\":44,\"discard\":45,\"nntp\":46,\"courier\":47,\"ctf\":48,\"ssh\":49,\"daytime\":50,\"shell\":51,\"netstat\":52,\"pop3\":53,\"nnsp\":54,\"IRC\":55,\"pop_2\":56,\"printer\":57,\"tim_i\":58,\"pm_dump\":59,\"red_i\":60,\"netbios_ssn\":61,\"rje\":62,\"X11\":63,\"urh_i\":64,\"http_8001\":65,\"aol\":66,\"http_2784\":67,\"tftp_u\":68,\"harvest\":69})\n",
    "train.Flag=train.Flag.map({\"SF\":0,\"S0\":1,\"REJ\":2,\"RSTR\":3,\"SH\":4,\"RSTO\":5,\"S1\":6,\"RSTOS0\":7,\"S3\":8,\"S2\":9,\"OTH\":10})"
   ]
  },
  {
   "cell_type": "markdown",
   "id": "f40ddc1d",
   "metadata": {},
   "source": [
    "# Model Building"
   ]
  },
  {
   "cell_type": "code",
   "execution_count": 8,
   "id": "252433b4",
   "metadata": {},
   "outputs": [],
   "source": [
    "predictors = train[train.columns.difference(['Result'])]"
   ]
  },
  {
   "cell_type": "code",
   "execution_count": 9,
   "id": "eabf78d6",
   "metadata": {},
   "outputs": [
    {
     "data": {
      "text/plain": [
       "Index(['Count', 'Diff_srv_rate', 'Dst_bytes', 'Dst_host_count',\n",
       "       'Dst_host_diff_ srv_rate', 'Dst_host_rerro r_rate',\n",
       "       'Dst_host_same\\n_srv_rate', 'Dst_host_same _src_port_rate',\n",
       "       'Dst_host_serro r_rate', 'Dst_host_srv_ diff_host_rate',\n",
       "       'Dst_host_srv_count', 'Dst_host_srv_r error_rate',\n",
       "       'Dst_host_srv_s error_rate', 'Duration', 'Flag', 'Hot',\n",
       "       'Is_guest_login', 'Is_hot_login', 'Land', 'Logged_in',\n",
       "       'Num_access_files', 'Num_compromised', 'Num_failed_logins',\n",
       "       'Num_file_creations', 'Num_outbound_cmds', 'Num_root', 'Num_shells',\n",
       "       'Protocol_type', 'Rerror_rate', 'Root_shell', 'Same_srv_rate',\n",
       "       'Serror_rate', 'Service', 'Src_bytes', 'Srv_count',\n",
       "       'Srv_diff_host_ rate', 'Srv_error_rate', 'Srv_serror_rate',\n",
       "       'Su_attempted', 'Urgent', 'Wrong_fragment'],\n",
       "      dtype='object')"
      ]
     },
     "execution_count": 9,
     "metadata": {},
     "output_type": "execute_result"
    }
   ],
   "source": [
    "predictors.columns"
   ]
  },
  {
   "cell_type": "code",
   "execution_count": 10,
   "id": "74741213",
   "metadata": {},
   "outputs": [],
   "source": [
    "#allocating the targeted columns\n",
    "X=predictors.values\n",
    "#assigning target variable\n",
    "Y=train.Result"
   ]
  },
  {
   "cell_type": "code",
   "execution_count": 11,
   "id": "ba34aeaa",
   "metadata": {},
   "outputs": [
    {
     "data": {
      "text/plain": [
       "(array([[2.00e+00, 0.00e+00, 0.00e+00, ..., 0.00e+00, 0.00e+00, 0.00e+00],\n",
       "        [1.30e+01, 1.50e-01, 0.00e+00, ..., 0.00e+00, 0.00e+00, 0.00e+00],\n",
       "        [1.23e+02, 7.00e-02, 0.00e+00, ..., 0.00e+00, 0.00e+00, 0.00e+00],\n",
       "        ...,\n",
       "        [1.05e+02, 7.00e-02, 0.00e+00, ..., 0.00e+00, 0.00e+00, 0.00e+00],\n",
       "        [1.29e+02, 6.00e-02, 0.00e+00, ..., 0.00e+00, 0.00e+00, 0.00e+00],\n",
       "        [3.80e+01, 1.10e-01, 0.00e+00, ..., 0.00e+00, 0.00e+00, 0.00e+00]]),\n",
       " 0             normal\n",
       " 1             normal\n",
       " 2            neptune\n",
       " 3             normal\n",
       " 4             normal\n",
       "             ...     \n",
       " 25187        neptune\n",
       " 25188    warezclient\n",
       " 25189        neptune\n",
       " 25190        neptune\n",
       " 25191        neptune\n",
       " Name: Result, Length: 25192, dtype: object)"
      ]
     },
     "execution_count": 11,
     "metadata": {},
     "output_type": "execute_result"
    }
   ],
   "source": [
    "X,Y"
   ]
  },
  {
   "cell_type": "code",
   "execution_count": 12,
   "id": "8a334598",
   "metadata": {},
   "outputs": [],
   "source": [
    "#using train_test_split function from sklearn to divide the train dataset\n",
    "#importing library\n",
    "from sklearn.model_selection import train_test_split"
   ]
  },
  {
   "cell_type": "code",
   "execution_count": 13,
   "id": "5b36e2e8",
   "metadata": {},
   "outputs": [],
   "source": [
    "#split the data into train and cross validation \n",
    "#same train and test sets across different executions hence random_state=0.\n",
    "X_train,X_test,y_train,y_test=train_test_split(X,Y,test_size=0.3,random_state=0)"
   ]
  },
  {
   "cell_type": "code",
   "execution_count": 14,
   "id": "e46414da",
   "metadata": {},
   "outputs": [
    {
     "data": {
      "text/plain": [
       "((17634, 41), (7558, 41), (17634,), (7558,))"
      ]
     },
     "execution_count": 14,
     "metadata": {},
     "output_type": "execute_result"
    }
   ],
   "source": [
    "#shaping the dimension of the data\n",
    "X_train.shape,X_test.shape,y_train.shape,y_test.shape"
   ]
  },
  {
   "cell_type": "code",
   "execution_count": 15,
   "id": "7825f557",
   "metadata": {},
   "outputs": [],
   "source": [
    "#importing decision tree and accuracy_score from sklearn\n",
    "from sklearn.cluster import KMeans\n",
    "from sklearn.metrics import accuracy_score\n",
    "from sklearn import metrics\n"
   ]
  },
  {
   "cell_type": "code",
   "execution_count": 16,
   "id": "298af6bb",
   "metadata": {},
   "outputs": [
    {
     "data": {
      "text/plain": [
       "0"
      ]
     },
     "execution_count": 16,
     "metadata": {},
     "output_type": "execute_result"
    }
   ],
   "source": [
    "\n",
    "np.isnan(X_train).sum()\n",
    "\n",
    "\n",
    "np.isinf(X_train).sum()\n"
   ]
  },
  {
   "cell_type": "code",
   "execution_count": 17,
   "id": "a78cb948",
   "metadata": {},
   "outputs": [],
   "source": [
    "X_train = np.nan_to_num(X_train.astype(np.float32))\n",
    "X_test = np.nan_to_num(X_test.astype(np.float32))"
   ]
  },
  {
   "cell_type": "code",
   "execution_count": 18,
   "id": "8af85f0e",
   "metadata": {},
   "outputs": [
    {
     "data": {
      "text/plain": [
       "KMeans()"
      ]
     },
     "execution_count": 18,
     "metadata": {},
     "output_type": "execute_result"
    }
   ],
   "source": [
    "#fit the model\n",
    "kmeans=KMeans()\n",
    "kmeans.fit(X_train)#for building the tree"
   ]
  },
  {
   "cell_type": "code",
   "execution_count": 24,
   "id": "e1e1babf",
   "metadata": {},
   "outputs": [],
   "source": [
    "#calculating counts of cluster\n",
    "kmeans.labels_\n",
    "#prediction for new data\n",
    "prediction=kmeans.predict(X_test)\n",
    "#calculating the counts of cluster\n",
    "#unique,counts=np.unique(prediction,return_counts=True)\n",
    "#counts=counts.reshape(1,3)"
   ]
  },
  {
   "cell_type": "code",
   "execution_count": 26,
   "id": "62b38195",
   "metadata": {},
   "outputs": [
    {
     "data": {
      "text/plain": [
       "array([0, 0, 0, ..., 0, 0, 0])"
      ]
     },
     "execution_count": 26,
     "metadata": {},
     "output_type": "execute_result"
    }
   ],
   "source": [
    "kmeans.labels_"
   ]
  },
  {
   "cell_type": "code",
   "execution_count": null,
   "id": "ee855934",
   "metadata": {},
   "outputs": [],
   "source": [
    "print(\"the clusters are \",kmeans.labels_)\n",
    "print(\"the inertia is \", kmeans.inertia_)"
   ]
  },
  {
   "cell_type": "code",
   "execution_count": null,
   "id": "0c41bf91",
   "metadata": {},
   "outputs": [],
   "source": [
    "no_of_clusters=range(2,20)\n",
    "inertia=[]\n",
    "\n",
    "\n",
    "for f in no_of_clusters:\n",
    "    kmeans=KMeans(n_clusters=f,random_state=2)\n",
    "    kmeans=kmeans.fit(train)\n",
    "    u=kmeans.inertia_\n",
    "    inertia.append(u)\n",
    "    print(\"the inertia for \",f,\"cluster is\",u)"
   ]
  },
  {
   "cell_type": "code",
   "execution_count": null,
   "id": "e874907f",
   "metadata": {},
   "outputs": [],
   "source": [
    "#elbow method\n",
    "fig, (ax1)=plt.subplots(1,figsize=(16,6))\n",
    "xx=np.arange(len(no_of_clusters))\n",
    "ax1.plot(xx,inertia)\n",
    "ax1.set_xticks(xx)\n",
    "ax1.set_xticklabels(no_of_clusters,rotation=\"vertical\")\n",
    "plt.xlabel(\"No of clusters\")\n",
    "plt.ylabel(\"Inertia\")"
   ]
  },
  {
   "cell_type": "code",
   "execution_count": null,
   "id": "1dd8c1e0",
   "metadata": {},
   "outputs": [],
   "source": [
    "#centroid\n",
    "centroids=kmeans.cluster_centers_\n"
   ]
  },
  {
   "cell_type": "code",
   "execution_count": null,
   "id": "57fad198",
   "metadata": {},
   "outputs": [],
   "source": [
    "import matplotlib.colors as colors\n",
    "import matplotlib.cm as cmx"
   ]
  },
  {
   "cell_type": "code",
   "execution_count": null,
   "id": "0042eb10",
   "metadata": {},
   "outputs": [],
   "source": [
    "print(train[:, 0])"
   ]
  },
  {
   "cell_type": "code",
   "execution_count": null,
   "id": "5524d50a",
   "metadata": {},
   "outputs": [],
   "source": [
    "train[:, 1]\n"
   ]
  },
  {
   "cell_type": "code",
   "execution_count": null,
   "id": "afcaa00d",
   "metadata": {},
   "outputs": [],
   "source": [
    "plt.scatter(train[:, 0], train[:, 1], c=prediction, s=50, cmap='viridis')\n",
    "\n",
    "centroids = kmeans.cluster_centers_\n",
    "plt.scatter(centroids[:, 0], centroids[:, 1], c='black', s=200, alpha=0.5);"
   ]
  },
  {
   "cell_type": "code",
   "execution_count": null,
   "id": "a6228982",
   "metadata": {},
   "outputs": [],
   "source": []
  }
 ],
 "metadata": {
  "kernelspec": {
   "display_name": "Python 3 (ipykernel)",
   "language": "python",
   "name": "python3"
  },
  "language_info": {
   "codemirror_mode": {
    "name": "ipython",
    "version": 3
   },
   "file_extension": ".py",
   "mimetype": "text/x-python",
   "name": "python",
   "nbconvert_exporter": "python",
   "pygments_lexer": "ipython3",
   "version": "3.9.12"
  }
 },
 "nbformat": 4,
 "nbformat_minor": 5
}

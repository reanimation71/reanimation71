{
 "cells": [
  {
   "cell_type": "code",
   "execution_count": 7,
   "id": "03820aef",
   "metadata": {},
   "outputs": [
    {
     "name": "stdout",
     "output_type": "stream",
     "text": [
      "WIFI PASSWORD\n",
      "{'ssid': 'Guild_Hall', 'password': 'kernel126'}\n",
      "{'ssid': 'IIC WIFI', 'password': 'BrIst@lwIfI'}\n",
      "{'ssid': 'IT Academics', 'password': 'Generate$5'}\n",
      "{'ssid': 'Quarter1', 'password': 'Notebook@1997'}\n",
      "{'ssid': 'Tamor', 'password': 'kernel129'}\n",
      "{'ssid': 'RoyalAlbert_Hall', 'password': 'kernel124'}\n",
      "{'ssid': 'Aakash', 'password': 'aakash@1234'}\n",
      "{'ssid': 'Barun', 'password': 'kernel128'}\n",
      "{'ssid': 'Arun', 'password': 'kernel127'}\n",
      "{'ssid': 'Monty_Don@ClassicTech', 'password': 'bishwas@123'}\n"
     ]
    }
   ],
   "source": [
    "import subprocess\n",
    "import re\n",
    "\n",
    "print('WIFI PASSWORD')\n",
    "command_output = subprocess.run([\"netsh\", \"wlan\", \"show\", \"profiles\"], capture_output = True).stdout.decode()\n",
    "profile_names = (re.findall(\"All User Profile     : (.*)\\r\", command_output))\n",
    "wifi_list = []\n",
    "\n",
    "if len(profile_names) != 0:\n",
    "    for name in profile_names:\n",
    "        wifi_profile = {}\n",
    "        profile_info = subprocess.run([\"netsh\", \"wlan\", \"show\", \"profile\", name], capture_output = True).stdout.decode()\n",
    "\n",
    "        if re.search(\"Security key           : Absent\", profile_info):\n",
    "            continue\n",
    "            \n",
    "        else:\n",
    "            wifi_profile[\"ssid\"] = name\n",
    "            profile_info_pass = subprocess.run([\"netsh\", \"wlan\", \"show\", \"profile\", name, \"key=clear\"], capture_output = True).stdout.decode()\n",
    "            password = re.search(\"Key Content            : (.*)\\r\", profile_info_pass)\n",
    "\n",
    "            if password == None:\n",
    "                wifi_profile[\"password\"] = None\n",
    "                \n",
    "            else:\n",
    "                wifi_profile[\"password\"] = password[1]\n",
    "                \n",
    "            wifi_list.append(wifi_profile)\n",
    "\n",
    "for x in range(len(wifi_list)):\n",
    "    print(wifi_list[x])"
   ]
  },
  {
   "cell_type": "code",
   "execution_count": null,
   "id": "4ee7c73e",
   "metadata": {},
   "outputs": [],
   "source": []
  },
  {
   "cell_type": "code",
   "execution_count": null,
   "id": "edb379f2",
   "metadata": {},
   "outputs": [],
   "source": []
  },
  {
   "cell_type": "code",
   "execution_count": null,
   "id": "b951042c",
   "metadata": {},
   "outputs": [],
   "source": []
  }
 ],
 "metadata": {
  "kernelspec": {
   "display_name": "Python 3 (ipykernel)",
   "language": "python",
   "name": "python3"
  },
  "language_info": {
   "codemirror_mode": {
    "name": "ipython",
    "version": 3
   },
   "file_extension": ".py",
   "mimetype": "text/x-python",
   "name": "python",
   "nbconvert_exporter": "python",
   "pygments_lexer": "ipython3",
   "version": "3.9.12"
  }
 },
 "nbformat": 4,
 "nbformat_minor": 5
}

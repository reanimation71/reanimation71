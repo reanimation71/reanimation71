{
 "cells": [
  {
   "cell_type": "code",
   "execution_count": 1,
   "id": "d5585981",
   "metadata": {},
   "outputs": [],
   "source": [
    "#Importing libraries\n",
    "import numpy as np\n",
    "import pandas as pd\n",
    "pd.set_option('display.max_columns', None)\n",
    "import matplotlib.pyplot as plt\n",
    "import seaborn as sns\n",
    "import time"
   ]
  },
  {
   "cell_type": "code",
   "execution_count": 2,
   "id": "38a2796d",
   "metadata": {},
   "outputs": [],
   "source": [
    "#loading the train data and test data\n",
    "train=pd.read_csv(\"Dataset/Train.csv\")\n",
    "test=pd.read_csv(\"Dataset/Test.csv\")"
   ]
  },
  {
   "cell_type": "code",
   "execution_count": 3,
   "id": "bba5e7ee",
   "metadata": {},
   "outputs": [],
   "source": [
    "train.replace([np.inf, -np.inf], np.nan, inplace=True)"
   ]
  },
  {
   "cell_type": "code",
   "execution_count": 4,
   "id": "1b6920eb",
   "metadata": {},
   "outputs": [],
   "source": [
    "train=train.dropna(subset=['Service'])"
   ]
  },
  {
   "cell_type": "code",
   "execution_count": 5,
   "id": "32f5f7f2",
   "metadata": {},
   "outputs": [],
   "source": [
    "train.Protocol_type=train.Protocol_type.map({\"tcp\":0,\"udp\":1,\"icmp\":2})\n",
    "train.Service=train.Service.map({\"ftp_data\":0,\"other\":1,\"private\":2,\"http\":3,\"remote_job\":4,\"name\":5,\"netbios_dgm\":6,\"eco_i\":7,\"mtp\":8,\"telnet\":9,\"finger\":10,\"domain_u\":11,\"supdup\":12,\"uucp_path\":13,\"Z39_50\":14,\"smtp\":15,\"csnet_ns\":16,\"uucp\":17,\"netbios_dgm\":18,\"urp_i\":19,\"auth\":20,\"domain\":21,\"ftp\":22,\"bgp\":23,\"ldap\":24,\"ecr_i\":25,\"gopher\":26,\"vmnet\":27,\"systat\":28,\"http_433\":29,\"efs\":30,\"whois\":31,\"imap4\":32,\"iso_tsap\":33,\"echo\":34,\"klogin\":35,\"link\":36,\"sunrpc\":37,\"login\":38,\"kshell\":39,\"sql_net\":40,\"time\":41,\"hostnames\":42,\"exec\":43,\"ntp_u\":44,\"discard\":45,\"nntp\":46,\"courier\":47,\"ctf\":48,\"ssh\":49,\"daytime\":50,\"shell\":51,\"netstat\":52,\"pop3\":53,\"nnsp\":54,\"IRC\":55,\"pop_2\":56,\"printer\":57,\"tim_i\":58,\"pm_dump\":59,\"red_i\":60,\"netbios_ssn\":61,\"rje\":62,\"X11\":63,\"urh_i\":64,\"http_8001\":65,\"aol\":66,\"http_2784\":67,\"tftp_u\":68,\"harvest\":69})\n",
    "train.Flag=train.Flag.map({\"SF\":0,\"S0\":1,\"REJ\":2,\"RSTR\":3,\"SH\":4,\"RSTO\":5,\"S1\":6,\"RSTOS0\":7,\"S3\":8,\"S2\":9,\"OTH\":10})"
   ]
  },
  {
   "cell_type": "code",
   "execution_count": 6,
   "id": "a269401b",
   "metadata": {},
   "outputs": [],
   "source": [
    "a=train[train[\"Result\"]=='normal']"
   ]
  },
  {
   "cell_type": "code",
   "execution_count": 7,
   "id": "9591883e",
   "metadata": {},
   "outputs": [],
   "source": [
    "b=train[train[\"Result\"]=='neptune']"
   ]
  },
  {
   "cell_type": "code",
   "execution_count": 8,
   "id": "2a431944",
   "metadata": {},
   "outputs": [],
   "source": [
    "c=train[train[\"Result\"]=='warezclient']"
   ]
  },
  {
   "cell_type": "code",
   "execution_count": 9,
   "id": "65a55efe",
   "metadata": {},
   "outputs": [],
   "source": [
    "d=train[train[\"Result\"]=='ipsweep']"
   ]
  },
  {
   "cell_type": "code",
   "execution_count": 10,
   "id": "286e890a",
   "metadata": {},
   "outputs": [],
   "source": [
    "e=train[train[\"Result\"]=='portsweep']"
   ]
  },
  {
   "cell_type": "code",
   "execution_count": 11,
   "id": "efae3ad5",
   "metadata": {},
   "outputs": [],
   "source": [
    "f=train[train[\"Result\"]=='teardrop']"
   ]
  },
  {
   "cell_type": "code",
   "execution_count": 12,
   "id": "8280a882",
   "metadata": {},
   "outputs": [],
   "source": [
    "g=train[train[\"Result\"]=='nmap']"
   ]
  },
  {
   "cell_type": "code",
   "execution_count": 13,
   "id": "18a57806",
   "metadata": {},
   "outputs": [],
   "source": [
    "h=train[train[\"Result\"]=='satan']"
   ]
  },
  {
   "cell_type": "code",
   "execution_count": 14,
   "id": "1e534632",
   "metadata": {},
   "outputs": [],
   "source": [
    "i=train[train[\"Result\"]=='smurf']"
   ]
  },
  {
   "cell_type": "code",
   "execution_count": 15,
   "id": "749251c1",
   "metadata": {},
   "outputs": [],
   "source": [
    "j=train[train[\"Result\"]=='pod']"
   ]
  },
  {
   "cell_type": "code",
   "execution_count": 16,
   "id": "d58fcbd4",
   "metadata": {},
   "outputs": [],
   "source": [
    "k=train[train[\"Result\"]=='back']"
   ]
  },
  {
   "cell_type": "code",
   "execution_count": 17,
   "id": "e0acd8db",
   "metadata": {},
   "outputs": [],
   "source": [
    "l=train[train[\"Result\"]=='guess_passwd']"
   ]
  },
  {
   "cell_type": "code",
   "execution_count": 18,
   "id": "16130e30",
   "metadata": {},
   "outputs": [],
   "source": [
    "m=train[train[\"Result\"]=='ftp_write']"
   ]
  },
  {
   "cell_type": "code",
   "execution_count": 19,
   "id": "3b647fbd",
   "metadata": {},
   "outputs": [],
   "source": [
    "n=train[train[\"Result\"]=='multihop']"
   ]
  },
  {
   "cell_type": "code",
   "execution_count": 20,
   "id": "da022319",
   "metadata": {},
   "outputs": [],
   "source": [
    "o=train[train[\"Result\"]=='rootkit']"
   ]
  },
  {
   "cell_type": "code",
   "execution_count": 21,
   "id": "55f2d67c",
   "metadata": {},
   "outputs": [],
   "source": [
    "p=train[train[\"Result\"]=='buffer_overflow']"
   ]
  },
  {
   "cell_type": "code",
   "execution_count": 22,
   "id": "b417f218",
   "metadata": {},
   "outputs": [],
   "source": [
    "q=train[train[\"Result\"]=='imap']"
   ]
  },
  {
   "cell_type": "code",
   "execution_count": 23,
   "id": "c879ce8b",
   "metadata": {},
   "outputs": [],
   "source": [
    "r=train[train[\"Result\"]=='warezmaster']"
   ]
  },
  {
   "cell_type": "code",
   "execution_count": 24,
   "id": "5ff09437",
   "metadata": {},
   "outputs": [],
   "source": [
    "s=train[train[\"Result\"]=='phf']"
   ]
  },
  {
   "cell_type": "code",
   "execution_count": 25,
   "id": "9fdc38a4",
   "metadata": {},
   "outputs": [],
   "source": [
    "t=train[train[\"Result\"]=='land']"
   ]
  },
  {
   "cell_type": "code",
   "execution_count": 26,
   "id": "8a4c6415",
   "metadata": {},
   "outputs": [],
   "source": [
    "u=train[train[\"Result\"]=='loadmodule']"
   ]
  },
  {
   "cell_type": "code",
   "execution_count": 27,
   "id": "4bcc9750",
   "metadata": {},
   "outputs": [],
   "source": [
    "v=train[train[\"Result\"]=='spy']"
   ]
  },
  {
   "cell_type": "code",
   "execution_count": 28,
   "id": "712800d5",
   "metadata": {},
   "outputs": [],
   "source": [
    "w=train[train[\"Result\"]=='perl']"
   ]
  },
  {
   "cell_type": "code",
   "execution_count": 29,
   "id": "8b9702c2",
   "metadata": {},
   "outputs": [
    {
     "data": {
      "text/plain": [
       "2"
      ]
     },
     "execution_count": 29,
     "metadata": {},
     "output_type": "execute_result"
    }
   ],
   "source": [
    "len(a[\"Land\"].unique())"
   ]
  },
  {
   "cell_type": "code",
   "execution_count": 30,
   "id": "738e0844",
   "metadata": {},
   "outputs": [
    {
     "data": {
      "text/plain": [
       "1"
      ]
     },
     "execution_count": 30,
     "metadata": {},
     "output_type": "execute_result"
    }
   ],
   "source": [
    "len(b[\"Land\"].unique())"
   ]
  },
  {
   "cell_type": "code",
   "execution_count": 31,
   "id": "479d1060",
   "metadata": {},
   "outputs": [
    {
     "data": {
      "text/plain": [
       "1"
      ]
     },
     "execution_count": 31,
     "metadata": {},
     "output_type": "execute_result"
    }
   ],
   "source": [
    "len(c[\"Land\"].unique())"
   ]
  },
  {
   "cell_type": "code",
   "execution_count": 32,
   "id": "c5e85c39",
   "metadata": {},
   "outputs": [
    {
     "data": {
      "text/plain": [
       "1"
      ]
     },
     "execution_count": 32,
     "metadata": {},
     "output_type": "execute_result"
    }
   ],
   "source": [
    "len(d[\"Land\"].unique())"
   ]
  },
  {
   "cell_type": "code",
   "execution_count": 33,
   "id": "ac64999b",
   "metadata": {},
   "outputs": [
    {
     "data": {
      "text/plain": [
       "1"
      ]
     },
     "execution_count": 33,
     "metadata": {},
     "output_type": "execute_result"
    }
   ],
   "source": [
    "len(e[\"Land\"].unique())"
   ]
  },
  {
   "cell_type": "code",
   "execution_count": 34,
   "id": "d74d5021",
   "metadata": {},
   "outputs": [
    {
     "data": {
      "text/plain": [
       "1"
      ]
     },
     "execution_count": 34,
     "metadata": {},
     "output_type": "execute_result"
    }
   ],
   "source": [
    "len(f[\"Land\"].unique())"
   ]
  },
  {
   "cell_type": "code",
   "execution_count": 35,
   "id": "a657a134",
   "metadata": {},
   "outputs": [
    {
     "data": {
      "text/plain": [
       "1"
      ]
     },
     "execution_count": 35,
     "metadata": {},
     "output_type": "execute_result"
    }
   ],
   "source": [
    "len(g[\"Land\"].unique())"
   ]
  },
  {
   "cell_type": "code",
   "execution_count": 36,
   "id": "0ded26b5",
   "metadata": {},
   "outputs": [
    {
     "data": {
      "text/plain": [
       "1"
      ]
     },
     "execution_count": 36,
     "metadata": {},
     "output_type": "execute_result"
    }
   ],
   "source": [
    "len(h[\"Land\"].unique())"
   ]
  },
  {
   "cell_type": "code",
   "execution_count": 37,
   "id": "1644977f",
   "metadata": {},
   "outputs": [
    {
     "data": {
      "text/plain": [
       "1"
      ]
     },
     "execution_count": 37,
     "metadata": {},
     "output_type": "execute_result"
    }
   ],
   "source": [
    "len(i[\"Land\"].unique())"
   ]
  },
  {
   "cell_type": "code",
   "execution_count": 38,
   "id": "2f7f69cd",
   "metadata": {},
   "outputs": [
    {
     "data": {
      "text/plain": [
       "1"
      ]
     },
     "execution_count": 38,
     "metadata": {},
     "output_type": "execute_result"
    }
   ],
   "source": [
    "len(j[\"Land\"].unique())"
   ]
  },
  {
   "cell_type": "code",
   "execution_count": 39,
   "id": "6263ee5e",
   "metadata": {},
   "outputs": [
    {
     "data": {
      "text/plain": [
       "1"
      ]
     },
     "execution_count": 39,
     "metadata": {},
     "output_type": "execute_result"
    }
   ],
   "source": [
    "len(k[\"Land\"].unique())"
   ]
  },
  {
   "cell_type": "code",
   "execution_count": 40,
   "id": "8f5f2dac",
   "metadata": {},
   "outputs": [
    {
     "data": {
      "text/plain": [
       "1"
      ]
     },
     "execution_count": 40,
     "metadata": {},
     "output_type": "execute_result"
    }
   ],
   "source": [
    "len(l[\"Land\"].unique())"
   ]
  },
  {
   "cell_type": "code",
   "execution_count": 41,
   "id": "b5034fe2",
   "metadata": {},
   "outputs": [
    {
     "data": {
      "text/plain": [
       "1"
      ]
     },
     "execution_count": 41,
     "metadata": {},
     "output_type": "execute_result"
    }
   ],
   "source": [
    "len(m[\"Land\"].unique())"
   ]
  },
  {
   "cell_type": "code",
   "execution_count": 42,
   "id": "26ba53ff",
   "metadata": {},
   "outputs": [
    {
     "data": {
      "text/plain": [
       "1"
      ]
     },
     "execution_count": 42,
     "metadata": {},
     "output_type": "execute_result"
    }
   ],
   "source": [
    "len(n[\"Land\"].unique())"
   ]
  },
  {
   "cell_type": "code",
   "execution_count": 43,
   "id": "49c68c09",
   "metadata": {},
   "outputs": [
    {
     "data": {
      "text/plain": [
       "1"
      ]
     },
     "execution_count": 43,
     "metadata": {},
     "output_type": "execute_result"
    }
   ],
   "source": [
    "len(o[\"Land\"].unique())"
   ]
  },
  {
   "cell_type": "code",
   "execution_count": 44,
   "id": "54ba4afb",
   "metadata": {},
   "outputs": [
    {
     "data": {
      "text/plain": [
       "1"
      ]
     },
     "execution_count": 44,
     "metadata": {},
     "output_type": "execute_result"
    }
   ],
   "source": [
    "len(p[\"Land\"].unique())"
   ]
  },
  {
   "cell_type": "code",
   "execution_count": 45,
   "id": "0c153b1a",
   "metadata": {},
   "outputs": [
    {
     "data": {
      "text/plain": [
       "1"
      ]
     },
     "execution_count": 45,
     "metadata": {},
     "output_type": "execute_result"
    }
   ],
   "source": [
    "len(q[\"Land\"].unique())"
   ]
  },
  {
   "cell_type": "code",
   "execution_count": 46,
   "id": "7e8441a6",
   "metadata": {},
   "outputs": [
    {
     "data": {
      "text/plain": [
       "1"
      ]
     },
     "execution_count": 46,
     "metadata": {},
     "output_type": "execute_result"
    }
   ],
   "source": [
    "len(r[\"Land\"].unique())"
   ]
  },
  {
   "cell_type": "code",
   "execution_count": 47,
   "id": "362caff4",
   "metadata": {},
   "outputs": [
    {
     "data": {
      "text/plain": [
       "1"
      ]
     },
     "execution_count": 47,
     "metadata": {},
     "output_type": "execute_result"
    }
   ],
   "source": [
    "len(s[\"Land\"].unique())"
   ]
  },
  {
   "cell_type": "code",
   "execution_count": 48,
   "id": "f10d946a",
   "metadata": {},
   "outputs": [
    {
     "data": {
      "text/plain": [
       "1"
      ]
     },
     "execution_count": 48,
     "metadata": {},
     "output_type": "execute_result"
    }
   ],
   "source": [
    "len(t[\"Land\"].unique())"
   ]
  },
  {
   "cell_type": "code",
   "execution_count": 49,
   "id": "8538ca5c",
   "metadata": {},
   "outputs": [
    {
     "data": {
      "text/plain": [
       "1"
      ]
     },
     "execution_count": 49,
     "metadata": {},
     "output_type": "execute_result"
    }
   ],
   "source": [
    "len(u[\"Land\"].unique())"
   ]
  },
  {
   "cell_type": "code",
   "execution_count": 50,
   "id": "3db2a147",
   "metadata": {},
   "outputs": [
    {
     "data": {
      "text/plain": [
       "1"
      ]
     },
     "execution_count": 50,
     "metadata": {},
     "output_type": "execute_result"
    }
   ],
   "source": [
    "len(v[\"Land\"].unique())"
   ]
  },
  {
   "cell_type": "code",
   "execution_count": 51,
   "id": "83eeb7c2",
   "metadata": {},
   "outputs": [
    {
     "data": {
      "text/plain": [
       "1"
      ]
     },
     "execution_count": 51,
     "metadata": {},
     "output_type": "execute_result"
    }
   ],
   "source": [
    "len(w[\"Land\"].unique())"
   ]
  },
  {
   "cell_type": "code",
   "execution_count": 52,
   "id": "3ac0eda5",
   "metadata": {
    "scrolled": false
   },
   "outputs": [],
   "source": [
    "a=train[\"Result\"].value_counts()"
   ]
  },
  {
   "cell_type": "code",
   "execution_count": 53,
   "id": "b6a3cdf9",
   "metadata": {},
   "outputs": [
    {
     "data": {
      "text/plain": [
       "pandas.core.series.Series"
      ]
     },
     "execution_count": 53,
     "metadata": {},
     "output_type": "execute_result"
    }
   ],
   "source": [
    "type(a)"
   ]
  },
  {
   "cell_type": "code",
   "execution_count": 54,
   "id": "3e50bb61",
   "metadata": {},
   "outputs": [
    {
     "data": {
      "text/plain": [
       "normal             67343\n",
       "neptune            41214\n",
       "satan               3633\n",
       "ipsweep             3599\n",
       "portsweep           2931\n",
       "smurf               2646\n",
       "nmap                1493\n",
       "back                 956\n",
       "teardrop             892\n",
       "warezclient          890\n",
       "pod                  201\n",
       "guess_passwd          53\n",
       "buffer_overflow       30\n",
       "warezmaster           20\n",
       "land                  18\n",
       "imap                  11\n",
       "rootkit               10\n",
       "loadmodule             9\n",
       "ftp_write              8\n",
       "multihop               7\n",
       "phf                    4\n",
       "perl                   3\n",
       "spy                    2\n",
       "Name: Result, dtype: int64"
      ]
     },
     "execution_count": 54,
     "metadata": {},
     "output_type": "execute_result"
    }
   ],
   "source": [
    "a"
   ]
  },
  {
   "cell_type": "code",
   "execution_count": null,
   "id": "76195b77",
   "metadata": {},
   "outputs": [],
   "source": []
  },
  {
   "cell_type": "code",
   "execution_count": null,
   "id": "6d5930d8",
   "metadata": {},
   "outputs": [],
   "source": []
  },
  {
   "cell_type": "code",
   "execution_count": 55,
   "id": "d338b784",
   "metadata": {},
   "outputs": [
    {
     "name": "stdout",
     "output_type": "stream",
     "text": [
      "Defaulting to user installation because normal site-packages is not writeableNote: you may need to restart the kernel to use updated packages.\n",
      "Requirement already satisfied: mlxtend in c:\\users\\user\\appdata\\roaming\\python\\python39\\site-packages (0.20.0)\n",
      "Requirement already satisfied: pandas>=0.24.2 in c:\\programdata\\anaconda3\\lib\\site-packages (from mlxtend) (1.4.2)\n",
      "Requirement already satisfied: joblib>=0.13.2 in c:\\programdata\\anaconda3\\lib\\site-packages (from mlxtend) (1.1.0)\n",
      "Requirement already satisfied: matplotlib>=3.0.0 in c:\\programdata\\anaconda3\\lib\\site-packages (from mlxtend) (3.5.1)\n",
      "Requirement already satisfied: setuptools in c:\\programdata\\anaconda3\\lib\\site-packages (from mlxtend) (61.2.0)\n",
      "Requirement already satisfied: scikit-learn>=1.0.2 in c:\\programdata\\anaconda3\\lib\\site-packages (from mlxtend) (1.0.2)\n",
      "Requirement already satisfied: numpy>=1.16.2 in c:\\programdata\\anaconda3\\lib\\site-packages (from mlxtend) (1.21.5)\n",
      "Requirement already satisfied: scipy>=1.2.1 in c:\\programdata\\anaconda3\\lib\\site-packages (from mlxtend) (1.7.3)\n",
      "Requirement already satisfied: pillow>=6.2.0 in c:\\programdata\\anaconda3\\lib\\site-packages (from matplotlib>=3.0.0->mlxtend) (9.0.1)\n",
      "Requirement already satisfied: kiwisolver>=1.0.1 in c:\\programdata\\anaconda3\\lib\\site-packages (from matplotlib>=3.0.0->mlxtend) (1.3.2)\n",
      "Requirement already satisfied: python-dateutil>=2.7 in c:\\programdata\\anaconda3\\lib\\site-packages (from matplotlib>=3.0.0->mlxtend) (2.8.2)\n",
      "Requirement already satisfied: packaging>=20.0 in c:\\programdata\\anaconda3\\lib\\site-packages (from matplotlib>=3.0.0->mlxtend) (21.3)\n",
      "Requirement already satisfied: cycler>=0.10 in c:\\programdata\\anaconda3\\lib\\site-packages (from matplotlib>=3.0.0->mlxtend) (0.11.0)\n",
      "Requirement already satisfied: pyparsing>=2.2.1 in c:\\programdata\\anaconda3\\lib\\site-packages (from matplotlib>=3.0.0->mlxtend) (3.0.4)\n",
      "Requirement already satisfied: fonttools>=4.22.0 in c:\\programdata\\anaconda3\\lib\\site-packages (from matplotlib>=3.0.0->mlxtend) (4.25.0)\n",
      "Requirement already satisfied: pytz>=2020.1 in c:\\programdata\\anaconda3\\lib\\site-packages (from pandas>=0.24.2->mlxtend) (2021.3)\n",
      "Requirement already satisfied: six>=1.5 in c:\\programdata\\anaconda3\\lib\\site-packages (from python-dateutil>=2.7->matplotlib>=3.0.0->mlxtend) (1.16.0)\n",
      "Requirement already satisfied: threadpoolctl>=2.0.0 in c:\\programdata\\anaconda3\\lib\\site-packages (from scikit-learn>=1.0.2->mlxtend) (2.2.0)\n",
      "\n"
     ]
    }
   ],
   "source": [
    "pip install mlxtend"
   ]
  },
  {
   "cell_type": "code",
   "execution_count": null,
   "id": "8bbb3bbb",
   "metadata": {},
   "outputs": [],
   "source": []
  },
  {
   "cell_type": "code",
   "execution_count": 56,
   "id": "41bc64be",
   "metadata": {},
   "outputs": [],
   "source": [
    "import mlxtend\n",
    "from mlxtend.frequent_patterns import fpgrowth,association_rules"
   ]
  },
  {
   "cell_type": "code",
   "execution_count": 57,
   "id": "c8a4b0aa",
   "metadata": {},
   "outputs": [],
   "source": [
    "predictors = train[train.columns.difference(['Result'])]"
   ]
  },
  {
   "cell_type": "code",
   "execution_count": 58,
   "id": "9ae11744",
   "metadata": {},
   "outputs": [],
   "source": [
    "#predictors = np.nan_to_num(predictors.astype(np.float32))"
   ]
  },
  {
   "cell_type": "code",
   "execution_count": 59,
   "id": "598cf700",
   "metadata": {},
   "outputs": [
    {
     "name": "stderr",
     "output_type": "stream",
     "text": [
      "C:\\Users\\user\\AppData\\Local\\Temp\\ipykernel_14936\\3373567381.py:1: SettingWithCopyWarning: \n",
      "A value is trying to be set on a copy of a slice from a DataFrame.\n",
      "Try using .loc[row_indexer,col_indexer] = value instead\n",
      "\n",
      "See the caveats in the documentation: https://pandas.pydata.org/pandas-docs/stable/user_guide/indexing.html#returning-a-view-versus-a-copy\n",
      "  predictors[\"Diff_srv_rate\"]=predictors[\"Diff_srv_rate\"].astype(int)\n"
     ]
    }
   ],
   "source": [
    "predictors[\"Diff_srv_rate\"]=predictors[\"Diff_srv_rate\"].astype(int)"
   ]
  },
  {
   "cell_type": "code",
   "execution_count": 60,
   "id": "2a5526de",
   "metadata": {},
   "outputs": [
    {
     "name": "stderr",
     "output_type": "stream",
     "text": [
      "C:\\Users\\user\\AppData\\Local\\Temp\\ipykernel_14936\\3856144856.py:1: SettingWithCopyWarning: \n",
      "A value is trying to be set on a copy of a slice from a DataFrame.\n",
      "Try using .loc[row_indexer,col_indexer] = value instead\n",
      "\n",
      "See the caveats in the documentation: https://pandas.pydata.org/pandas-docs/stable/user_guide/indexing.html#returning-a-view-versus-a-copy\n",
      "  predictors[\"Serror_rate\"]=predictors[\"Serror_rate\"].astype(int)\n"
     ]
    }
   ],
   "source": [
    "predictors[\"Serror_rate\"]=predictors[\"Serror_rate\"].astype(int)"
   ]
  },
  {
   "cell_type": "code",
   "execution_count": 61,
   "id": "3cbed798",
   "metadata": {},
   "outputs": [
    {
     "name": "stderr",
     "output_type": "stream",
     "text": [
      "C:\\Users\\user\\AppData\\Local\\Temp\\ipykernel_14936\\3856144856.py:1: SettingWithCopyWarning: \n",
      "A value is trying to be set on a copy of a slice from a DataFrame.\n",
      "Try using .loc[row_indexer,col_indexer] = value instead\n",
      "\n",
      "See the caveats in the documentation: https://pandas.pydata.org/pandas-docs/stable/user_guide/indexing.html#returning-a-view-versus-a-copy\n",
      "  predictors[\"Serror_rate\"]=predictors[\"Serror_rate\"].astype(int)\n"
     ]
    }
   ],
   "source": [
    "predictors[\"Serror_rate\"]=predictors[\"Serror_rate\"].astype(int)"
   ]
  },
  {
   "cell_type": "code",
   "execution_count": 62,
   "id": "ff6766e7",
   "metadata": {},
   "outputs": [
    {
     "name": "stderr",
     "output_type": "stream",
     "text": [
      "C:\\Users\\user\\AppData\\Local\\Temp\\ipykernel_14936\\590565195.py:1: SettingWithCopyWarning: \n",
      "A value is trying to be set on a copy of a slice from a DataFrame.\n",
      "Try using .loc[row_indexer,col_indexer] = value instead\n",
      "\n",
      "See the caveats in the documentation: https://pandas.pydata.org/pandas-docs/stable/user_guide/indexing.html#returning-a-view-versus-a-copy\n",
      "  predictors[\"Srv_diff_host_ rate\"]=predictors[\"Srv_diff_host_ rate\"].astype(int)\n"
     ]
    }
   ],
   "source": [
    "predictors[\"Srv_diff_host_ rate\"]=predictors[\"Srv_diff_host_ rate\"].astype(int)"
   ]
  },
  {
   "cell_type": "code",
   "execution_count": 63,
   "id": "bc93b5a8",
   "metadata": {},
   "outputs": [
    {
     "name": "stderr",
     "output_type": "stream",
     "text": [
      "C:\\Users\\user\\AppData\\Local\\Temp\\ipykernel_14936\\3300745341.py:1: SettingWithCopyWarning: \n",
      "A value is trying to be set on a copy of a slice from a DataFrame.\n",
      "Try using .loc[row_indexer,col_indexer] = value instead\n",
      "\n",
      "See the caveats in the documentation: https://pandas.pydata.org/pandas-docs/stable/user_guide/indexing.html#returning-a-view-versus-a-copy\n",
      "  predictors[\"Srv_serror_rate\"]=predictors[\"Srv_serror_rate\"].astype(int)\n"
     ]
    }
   ],
   "source": [
    "predictors[\"Srv_serror_rate\"]=predictors[\"Srv_serror_rate\"].astype(int)"
   ]
  },
  {
   "cell_type": "code",
   "execution_count": 64,
   "id": "211e8eaf",
   "metadata": {},
   "outputs": [
    {
     "name": "stderr",
     "output_type": "stream",
     "text": [
      "C:\\Users\\user\\AppData\\Local\\Temp\\ipykernel_14936\\3848474479.py:1: SettingWithCopyWarning: \n",
      "A value is trying to be set on a copy of a slice from a DataFrame.\n",
      "Try using .loc[row_indexer,col_indexer] = value instead\n",
      "\n",
      "See the caveats in the documentation: https://pandas.pydata.org/pandas-docs/stable/user_guide/indexing.html#returning-a-view-versus-a-copy\n",
      "  predictors[\"Dst_host_srv_ diff_host_rate\"]=predictors[\"Dst_host_srv_ diff_host_rate\"].astype(int)\n"
     ]
    }
   ],
   "source": [
    "predictors[\"Dst_host_srv_ diff_host_rate\"]=predictors[\"Dst_host_srv_ diff_host_rate\"].astype(int)"
   ]
  },
  {
   "cell_type": "code",
   "execution_count": 65,
   "id": "f19ab283",
   "metadata": {},
   "outputs": [
    {
     "name": "stderr",
     "output_type": "stream",
     "text": [
      "C:\\Users\\user\\AppData\\Local\\Temp\\ipykernel_14936\\247662963.py:1: SettingWithCopyWarning: \n",
      "A value is trying to be set on a copy of a slice from a DataFrame.\n",
      "Try using .loc[row_indexer,col_indexer] = value instead\n",
      "\n",
      "See the caveats in the documentation: https://pandas.pydata.org/pandas-docs/stable/user_guide/indexing.html#returning-a-view-versus-a-copy\n",
      "  predictors[\"Dst_host_serro r_rate\"]=predictors[\"Dst_host_serro r_rate\"].astype(int)\n"
     ]
    }
   ],
   "source": [
    "predictors[\"Dst_host_serro r_rate\"]=predictors[\"Dst_host_serro r_rate\"].astype(int)"
   ]
  },
  {
   "cell_type": "code",
   "execution_count": 66,
   "id": "f49309d3",
   "metadata": {},
   "outputs": [
    {
     "name": "stderr",
     "output_type": "stream",
     "text": [
      "C:\\Users\\user\\AppData\\Local\\Temp\\ipykernel_14936\\3577385625.py:1: SettingWithCopyWarning: \n",
      "A value is trying to be set on a copy of a slice from a DataFrame.\n",
      "Try using .loc[row_indexer,col_indexer] = value instead\n",
      "\n",
      "See the caveats in the documentation: https://pandas.pydata.org/pandas-docs/stable/user_guide/indexing.html#returning-a-view-versus-a-copy\n",
      "  predictors[\"Dst_host_same _src_port_rate\"]=predictors[\"Dst_host_same _src_port_rate\"].astype(int)\n"
     ]
    }
   ],
   "source": [
    "predictors[\"Dst_host_same _src_port_rate\"]=predictors[\"Dst_host_same _src_port_rate\"].astype(int)"
   ]
  },
  {
   "cell_type": "code",
   "execution_count": 67,
   "id": "ade49a8b",
   "metadata": {},
   "outputs": [
    {
     "name": "stderr",
     "output_type": "stream",
     "text": [
      "C:\\Users\\user\\AppData\\Local\\Temp\\ipykernel_14936\\3052827666.py:1: SettingWithCopyWarning: \n",
      "A value is trying to be set on a copy of a slice from a DataFrame.\n",
      "Try using .loc[row_indexer,col_indexer] = value instead\n",
      "\n",
      "See the caveats in the documentation: https://pandas.pydata.org/pandas-docs/stable/user_guide/indexing.html#returning-a-view-versus-a-copy\n",
      "  predictors[\"Dst_host_same\\n_srv_rate\"]=predictors[\"Dst_host_same\\n_srv_rate\"].astype(int)\n"
     ]
    }
   ],
   "source": [
    "predictors[\"Dst_host_same\\n_srv_rate\"]=predictors[\"Dst_host_same\\n_srv_rate\"].astype(int)"
   ]
  },
  {
   "cell_type": "code",
   "execution_count": 68,
   "id": "0c8e0eed",
   "metadata": {},
   "outputs": [
    {
     "name": "stderr",
     "output_type": "stream",
     "text": [
      "C:\\Users\\user\\AppData\\Local\\Temp\\ipykernel_14936\\10587129.py:1: SettingWithCopyWarning: \n",
      "A value is trying to be set on a copy of a slice from a DataFrame.\n",
      "Try using .loc[row_indexer,col_indexer] = value instead\n",
      "\n",
      "See the caveats in the documentation: https://pandas.pydata.org/pandas-docs/stable/user_guide/indexing.html#returning-a-view-versus-a-copy\n",
      "  predictors[\"Dst_host_rerro r_rate\"]=predictors[\"Dst_host_rerro r_rate\"].astype(int)\n"
     ]
    }
   ],
   "source": [
    "predictors[\"Dst_host_rerro r_rate\"]=predictors[\"Dst_host_rerro r_rate\"].astype(int)"
   ]
  },
  {
   "cell_type": "code",
   "execution_count": 69,
   "id": "48c60658",
   "metadata": {},
   "outputs": [
    {
     "name": "stderr",
     "output_type": "stream",
     "text": [
      "C:\\Users\\user\\AppData\\Local\\Temp\\ipykernel_14936\\3709921183.py:1: SettingWithCopyWarning: \n",
      "A value is trying to be set on a copy of a slice from a DataFrame.\n",
      "Try using .loc[row_indexer,col_indexer] = value instead\n",
      "\n",
      "See the caveats in the documentation: https://pandas.pydata.org/pandas-docs/stable/user_guide/indexing.html#returning-a-view-versus-a-copy\n",
      "  predictors[\"Dst_host_diff_ srv_rate\"]=predictors[\"Dst_host_diff_ srv_rate\"].astype(int)\n"
     ]
    }
   ],
   "source": [
    "predictors[\"Dst_host_diff_ srv_rate\"]=predictors[\"Dst_host_diff_ srv_rate\"].astype(int)"
   ]
  },
  {
   "cell_type": "code",
   "execution_count": 70,
   "id": "b118469e",
   "metadata": {},
   "outputs": [],
   "source": [
    "# Defining the hot encoding function to make the data suitable \n",
    "# for the concerned libraries\n",
    "def hot_encode(x):\n",
    "    if(x<= 0):\n",
    "        return 0\n",
    "    if(x>=1):\n",
    "        return 1\n",
    "  \n",
    "  \n",
    "# Encoding the datasets\n",
    "encoded = predictors.applymap(hot_encode)"
   ]
  },
  {
   "cell_type": "code",
   "execution_count": 71,
   "id": "c0413a17",
   "metadata": {},
   "outputs": [
    {
     "data": {
      "text/html": [
       "<div>\n",
       "<style scoped>\n",
       "    .dataframe tbody tr th:only-of-type {\n",
       "        vertical-align: middle;\n",
       "    }\n",
       "\n",
       "    .dataframe tbody tr th {\n",
       "        vertical-align: top;\n",
       "    }\n",
       "\n",
       "    .dataframe thead th {\n",
       "        text-align: right;\n",
       "    }\n",
       "</style>\n",
       "<table border=\"1\" class=\"dataframe\">\n",
       "  <thead>\n",
       "    <tr style=\"text-align: right;\">\n",
       "      <th></th>\n",
       "      <th>Count</th>\n",
       "      <th>Diff_srv_rate</th>\n",
       "      <th>Dst_bytes</th>\n",
       "      <th>Dst_host_count</th>\n",
       "      <th>Dst_host_diff_ srv_rate</th>\n",
       "      <th>Dst_host_rerro r_rate</th>\n",
       "      <th>Dst_host_same\\n_srv_rate</th>\n",
       "      <th>Dst_host_same _src_port_rate</th>\n",
       "      <th>Dst_host_serro r_rate</th>\n",
       "      <th>Dst_host_srv_ diff_host_rate</th>\n",
       "      <th>Dst_host_srv_count</th>\n",
       "      <th>Dst_host_srv_r error_rate</th>\n",
       "      <th>Dst_host_srv_s error_rate</th>\n",
       "      <th>Duration</th>\n",
       "      <th>Flag</th>\n",
       "      <th>Hot</th>\n",
       "      <th>Is_guest_login</th>\n",
       "      <th>Is_hot_login</th>\n",
       "      <th>Land</th>\n",
       "      <th>Logged_in</th>\n",
       "      <th>Num_access_files</th>\n",
       "      <th>Num_compromised</th>\n",
       "      <th>Num_failed_logins</th>\n",
       "      <th>Num_file_creations</th>\n",
       "      <th>Num_outbound_cmds</th>\n",
       "      <th>Num_root</th>\n",
       "      <th>Num_shells</th>\n",
       "      <th>Protocol_type</th>\n",
       "      <th>Rerror_rate</th>\n",
       "      <th>Root_shell</th>\n",
       "      <th>Same_srv_rate</th>\n",
       "      <th>Serror_rate</th>\n",
       "      <th>Service</th>\n",
       "      <th>Src_bytes</th>\n",
       "      <th>Srv_count</th>\n",
       "      <th>Srv_diff_host_ rate</th>\n",
       "      <th>Srv_error_rate</th>\n",
       "      <th>Srv_serror_rate</th>\n",
       "      <th>Su_attempted</th>\n",
       "      <th>Urgent</th>\n",
       "      <th>Wrong_fragment</th>\n",
       "    </tr>\n",
       "  </thead>\n",
       "  <tbody>\n",
       "    <tr>\n",
       "      <th>0</th>\n",
       "      <td>1</td>\n",
       "      <td>0</td>\n",
       "      <td>0</td>\n",
       "      <td>1</td>\n",
       "      <td>0</td>\n",
       "      <td>0</td>\n",
       "      <td>0</td>\n",
       "      <td>0</td>\n",
       "      <td>0</td>\n",
       "      <td>0</td>\n",
       "      <td>1</td>\n",
       "      <td>0.0</td>\n",
       "      <td>0.0</td>\n",
       "      <td>0</td>\n",
       "      <td>0</td>\n",
       "      <td>0</td>\n",
       "      <td>0</td>\n",
       "      <td>0</td>\n",
       "      <td>0</td>\n",
       "      <td>0</td>\n",
       "      <td>0</td>\n",
       "      <td>0</td>\n",
       "      <td>0</td>\n",
       "      <td>0</td>\n",
       "      <td>0</td>\n",
       "      <td>0</td>\n",
       "      <td>0</td>\n",
       "      <td>0</td>\n",
       "      <td>0.0</td>\n",
       "      <td>0</td>\n",
       "      <td>1.0</td>\n",
       "      <td>0</td>\n",
       "      <td>0.0</td>\n",
       "      <td>1</td>\n",
       "      <td>1</td>\n",
       "      <td>0</td>\n",
       "      <td>0.0</td>\n",
       "      <td>0</td>\n",
       "      <td>0</td>\n",
       "      <td>0</td>\n",
       "      <td>0</td>\n",
       "    </tr>\n",
       "    <tr>\n",
       "      <th>1</th>\n",
       "      <td>1</td>\n",
       "      <td>0</td>\n",
       "      <td>0</td>\n",
       "      <td>1</td>\n",
       "      <td>0</td>\n",
       "      <td>0</td>\n",
       "      <td>0</td>\n",
       "      <td>0</td>\n",
       "      <td>0</td>\n",
       "      <td>0</td>\n",
       "      <td>1</td>\n",
       "      <td>0.0</td>\n",
       "      <td>0.0</td>\n",
       "      <td>0</td>\n",
       "      <td>0</td>\n",
       "      <td>0</td>\n",
       "      <td>0</td>\n",
       "      <td>0</td>\n",
       "      <td>0</td>\n",
       "      <td>0</td>\n",
       "      <td>0</td>\n",
       "      <td>0</td>\n",
       "      <td>0</td>\n",
       "      <td>0</td>\n",
       "      <td>0</td>\n",
       "      <td>0</td>\n",
       "      <td>0</td>\n",
       "      <td>1</td>\n",
       "      <td>0.0</td>\n",
       "      <td>0</td>\n",
       "      <td>NaN</td>\n",
       "      <td>0</td>\n",
       "      <td>1.0</td>\n",
       "      <td>1</td>\n",
       "      <td>1</td>\n",
       "      <td>0</td>\n",
       "      <td>0.0</td>\n",
       "      <td>0</td>\n",
       "      <td>0</td>\n",
       "      <td>0</td>\n",
       "      <td>0</td>\n",
       "    </tr>\n",
       "    <tr>\n",
       "      <th>2</th>\n",
       "      <td>1</td>\n",
       "      <td>0</td>\n",
       "      <td>0</td>\n",
       "      <td>1</td>\n",
       "      <td>0</td>\n",
       "      <td>0</td>\n",
       "      <td>0</td>\n",
       "      <td>0</td>\n",
       "      <td>1</td>\n",
       "      <td>0</td>\n",
       "      <td>1</td>\n",
       "      <td>0.0</td>\n",
       "      <td>1.0</td>\n",
       "      <td>0</td>\n",
       "      <td>1</td>\n",
       "      <td>0</td>\n",
       "      <td>0</td>\n",
       "      <td>0</td>\n",
       "      <td>0</td>\n",
       "      <td>0</td>\n",
       "      <td>0</td>\n",
       "      <td>0</td>\n",
       "      <td>0</td>\n",
       "      <td>0</td>\n",
       "      <td>0</td>\n",
       "      <td>0</td>\n",
       "      <td>0</td>\n",
       "      <td>0</td>\n",
       "      <td>0.0</td>\n",
       "      <td>0</td>\n",
       "      <td>NaN</td>\n",
       "      <td>1</td>\n",
       "      <td>1.0</td>\n",
       "      <td>0</td>\n",
       "      <td>1</td>\n",
       "      <td>0</td>\n",
       "      <td>0.0</td>\n",
       "      <td>1</td>\n",
       "      <td>0</td>\n",
       "      <td>0</td>\n",
       "      <td>0</td>\n",
       "    </tr>\n",
       "    <tr>\n",
       "      <th>3</th>\n",
       "      <td>1</td>\n",
       "      <td>0</td>\n",
       "      <td>1</td>\n",
       "      <td>1</td>\n",
       "      <td>0</td>\n",
       "      <td>0</td>\n",
       "      <td>1</td>\n",
       "      <td>0</td>\n",
       "      <td>0</td>\n",
       "      <td>0</td>\n",
       "      <td>1</td>\n",
       "      <td>NaN</td>\n",
       "      <td>NaN</td>\n",
       "      <td>0</td>\n",
       "      <td>0</td>\n",
       "      <td>0</td>\n",
       "      <td>0</td>\n",
       "      <td>0</td>\n",
       "      <td>0</td>\n",
       "      <td>1</td>\n",
       "      <td>0</td>\n",
       "      <td>0</td>\n",
       "      <td>0</td>\n",
       "      <td>0</td>\n",
       "      <td>0</td>\n",
       "      <td>0</td>\n",
       "      <td>0</td>\n",
       "      <td>0</td>\n",
       "      <td>0.0</td>\n",
       "      <td>0</td>\n",
       "      <td>1.0</td>\n",
       "      <td>0</td>\n",
       "      <td>1.0</td>\n",
       "      <td>1</td>\n",
       "      <td>1</td>\n",
       "      <td>0</td>\n",
       "      <td>0.0</td>\n",
       "      <td>0</td>\n",
       "      <td>0</td>\n",
       "      <td>0</td>\n",
       "      <td>0</td>\n",
       "    </tr>\n",
       "    <tr>\n",
       "      <th>4</th>\n",
       "      <td>1</td>\n",
       "      <td>0</td>\n",
       "      <td>1</td>\n",
       "      <td>1</td>\n",
       "      <td>0</td>\n",
       "      <td>0</td>\n",
       "      <td>1</td>\n",
       "      <td>0</td>\n",
       "      <td>0</td>\n",
       "      <td>0</td>\n",
       "      <td>1</td>\n",
       "      <td>0.0</td>\n",
       "      <td>0.0</td>\n",
       "      <td>0</td>\n",
       "      <td>0</td>\n",
       "      <td>0</td>\n",
       "      <td>0</td>\n",
       "      <td>0</td>\n",
       "      <td>0</td>\n",
       "      <td>1</td>\n",
       "      <td>0</td>\n",
       "      <td>0</td>\n",
       "      <td>0</td>\n",
       "      <td>0</td>\n",
       "      <td>0</td>\n",
       "      <td>0</td>\n",
       "      <td>0</td>\n",
       "      <td>0</td>\n",
       "      <td>0.0</td>\n",
       "      <td>0</td>\n",
       "      <td>1.0</td>\n",
       "      <td>0</td>\n",
       "      <td>1.0</td>\n",
       "      <td>1</td>\n",
       "      <td>1</td>\n",
       "      <td>0</td>\n",
       "      <td>0.0</td>\n",
       "      <td>0</td>\n",
       "      <td>0</td>\n",
       "      <td>0</td>\n",
       "      <td>0</td>\n",
       "    </tr>\n",
       "    <tr>\n",
       "      <th>...</th>\n",
       "      <td>...</td>\n",
       "      <td>...</td>\n",
       "      <td>...</td>\n",
       "      <td>...</td>\n",
       "      <td>...</td>\n",
       "      <td>...</td>\n",
       "      <td>...</td>\n",
       "      <td>...</td>\n",
       "      <td>...</td>\n",
       "      <td>...</td>\n",
       "      <td>...</td>\n",
       "      <td>...</td>\n",
       "      <td>...</td>\n",
       "      <td>...</td>\n",
       "      <td>...</td>\n",
       "      <td>...</td>\n",
       "      <td>...</td>\n",
       "      <td>...</td>\n",
       "      <td>...</td>\n",
       "      <td>...</td>\n",
       "      <td>...</td>\n",
       "      <td>...</td>\n",
       "      <td>...</td>\n",
       "      <td>...</td>\n",
       "      <td>...</td>\n",
       "      <td>...</td>\n",
       "      <td>...</td>\n",
       "      <td>...</td>\n",
       "      <td>...</td>\n",
       "      <td>...</td>\n",
       "      <td>...</td>\n",
       "      <td>...</td>\n",
       "      <td>...</td>\n",
       "      <td>...</td>\n",
       "      <td>...</td>\n",
       "      <td>...</td>\n",
       "      <td>...</td>\n",
       "      <td>...</td>\n",
       "      <td>...</td>\n",
       "      <td>...</td>\n",
       "      <td>...</td>\n",
       "    </tr>\n",
       "    <tr>\n",
       "      <th>125968</th>\n",
       "      <td>1</td>\n",
       "      <td>0</td>\n",
       "      <td>0</td>\n",
       "      <td>1</td>\n",
       "      <td>0</td>\n",
       "      <td>0</td>\n",
       "      <td>0</td>\n",
       "      <td>0</td>\n",
       "      <td>1</td>\n",
       "      <td>0</td>\n",
       "      <td>1</td>\n",
       "      <td>0.0</td>\n",
       "      <td>1.0</td>\n",
       "      <td>0</td>\n",
       "      <td>1</td>\n",
       "      <td>0</td>\n",
       "      <td>0</td>\n",
       "      <td>0</td>\n",
       "      <td>0</td>\n",
       "      <td>0</td>\n",
       "      <td>0</td>\n",
       "      <td>0</td>\n",
       "      <td>0</td>\n",
       "      <td>0</td>\n",
       "      <td>0</td>\n",
       "      <td>0</td>\n",
       "      <td>0</td>\n",
       "      <td>0</td>\n",
       "      <td>0.0</td>\n",
       "      <td>0</td>\n",
       "      <td>NaN</td>\n",
       "      <td>1</td>\n",
       "      <td>1.0</td>\n",
       "      <td>0</td>\n",
       "      <td>1</td>\n",
       "      <td>0</td>\n",
       "      <td>0.0</td>\n",
       "      <td>1</td>\n",
       "      <td>0</td>\n",
       "      <td>0</td>\n",
       "      <td>0</td>\n",
       "    </tr>\n",
       "    <tr>\n",
       "      <th>125969</th>\n",
       "      <td>1</td>\n",
       "      <td>0</td>\n",
       "      <td>1</td>\n",
       "      <td>1</td>\n",
       "      <td>0</td>\n",
       "      <td>0</td>\n",
       "      <td>0</td>\n",
       "      <td>0</td>\n",
       "      <td>0</td>\n",
       "      <td>0</td>\n",
       "      <td>1</td>\n",
       "      <td>0.0</td>\n",
       "      <td>0.0</td>\n",
       "      <td>1</td>\n",
       "      <td>0</td>\n",
       "      <td>0</td>\n",
       "      <td>0</td>\n",
       "      <td>0</td>\n",
       "      <td>0</td>\n",
       "      <td>0</td>\n",
       "      <td>0</td>\n",
       "      <td>0</td>\n",
       "      <td>0</td>\n",
       "      <td>0</td>\n",
       "      <td>0</td>\n",
       "      <td>0</td>\n",
       "      <td>0</td>\n",
       "      <td>1</td>\n",
       "      <td>0.0</td>\n",
       "      <td>0</td>\n",
       "      <td>1.0</td>\n",
       "      <td>0</td>\n",
       "      <td>1.0</td>\n",
       "      <td>1</td>\n",
       "      <td>1</td>\n",
       "      <td>0</td>\n",
       "      <td>0.0</td>\n",
       "      <td>0</td>\n",
       "      <td>0</td>\n",
       "      <td>0</td>\n",
       "      <td>0</td>\n",
       "    </tr>\n",
       "    <tr>\n",
       "      <th>125970</th>\n",
       "      <td>1</td>\n",
       "      <td>0</td>\n",
       "      <td>1</td>\n",
       "      <td>1</td>\n",
       "      <td>0</td>\n",
       "      <td>0</td>\n",
       "      <td>0</td>\n",
       "      <td>0</td>\n",
       "      <td>0</td>\n",
       "      <td>0</td>\n",
       "      <td>1</td>\n",
       "      <td>0.0</td>\n",
       "      <td>0.0</td>\n",
       "      <td>0</td>\n",
       "      <td>0</td>\n",
       "      <td>0</td>\n",
       "      <td>0</td>\n",
       "      <td>0</td>\n",
       "      <td>0</td>\n",
       "      <td>1</td>\n",
       "      <td>0</td>\n",
       "      <td>0</td>\n",
       "      <td>0</td>\n",
       "      <td>0</td>\n",
       "      <td>0</td>\n",
       "      <td>0</td>\n",
       "      <td>0</td>\n",
       "      <td>0</td>\n",
       "      <td>0.0</td>\n",
       "      <td>0</td>\n",
       "      <td>1.0</td>\n",
       "      <td>0</td>\n",
       "      <td>1.0</td>\n",
       "      <td>1</td>\n",
       "      <td>1</td>\n",
       "      <td>0</td>\n",
       "      <td>0.0</td>\n",
       "      <td>0</td>\n",
       "      <td>0</td>\n",
       "      <td>0</td>\n",
       "      <td>0</td>\n",
       "    </tr>\n",
       "    <tr>\n",
       "      <th>125971</th>\n",
       "      <td>1</td>\n",
       "      <td>0</td>\n",
       "      <td>0</td>\n",
       "      <td>1</td>\n",
       "      <td>0</td>\n",
       "      <td>0</td>\n",
       "      <td>0</td>\n",
       "      <td>0</td>\n",
       "      <td>1</td>\n",
       "      <td>0</td>\n",
       "      <td>1</td>\n",
       "      <td>0.0</td>\n",
       "      <td>1.0</td>\n",
       "      <td>0</td>\n",
       "      <td>1</td>\n",
       "      <td>0</td>\n",
       "      <td>0</td>\n",
       "      <td>0</td>\n",
       "      <td>0</td>\n",
       "      <td>0</td>\n",
       "      <td>0</td>\n",
       "      <td>0</td>\n",
       "      <td>0</td>\n",
       "      <td>0</td>\n",
       "      <td>0</td>\n",
       "      <td>0</td>\n",
       "      <td>0</td>\n",
       "      <td>0</td>\n",
       "      <td>0.0</td>\n",
       "      <td>0</td>\n",
       "      <td>NaN</td>\n",
       "      <td>1</td>\n",
       "      <td>1.0</td>\n",
       "      <td>0</td>\n",
       "      <td>1</td>\n",
       "      <td>0</td>\n",
       "      <td>0.0</td>\n",
       "      <td>1</td>\n",
       "      <td>0</td>\n",
       "      <td>0</td>\n",
       "      <td>0</td>\n",
       "    </tr>\n",
       "    <tr>\n",
       "      <th>125972</th>\n",
       "      <td>1</td>\n",
       "      <td>0</td>\n",
       "      <td>0</td>\n",
       "      <td>1</td>\n",
       "      <td>0</td>\n",
       "      <td>0</td>\n",
       "      <td>0</td>\n",
       "      <td>0</td>\n",
       "      <td>0</td>\n",
       "      <td>0</td>\n",
       "      <td>1</td>\n",
       "      <td>0.0</td>\n",
       "      <td>0.0</td>\n",
       "      <td>0</td>\n",
       "      <td>0</td>\n",
       "      <td>0</td>\n",
       "      <td>0</td>\n",
       "      <td>0</td>\n",
       "      <td>0</td>\n",
       "      <td>1</td>\n",
       "      <td>0</td>\n",
       "      <td>0</td>\n",
       "      <td>0</td>\n",
       "      <td>0</td>\n",
       "      <td>0</td>\n",
       "      <td>0</td>\n",
       "      <td>0</td>\n",
       "      <td>0</td>\n",
       "      <td>0.0</td>\n",
       "      <td>0</td>\n",
       "      <td>1.0</td>\n",
       "      <td>0</td>\n",
       "      <td>0.0</td>\n",
       "      <td>1</td>\n",
       "      <td>1</td>\n",
       "      <td>0</td>\n",
       "      <td>0.0</td>\n",
       "      <td>0</td>\n",
       "      <td>0</td>\n",
       "      <td>0</td>\n",
       "      <td>0</td>\n",
       "    </tr>\n",
       "  </tbody>\n",
       "</table>\n",
       "<p>125973 rows × 41 columns</p>\n",
       "</div>"
      ],
      "text/plain": [
       "        Count  Diff_srv_rate  Dst_bytes  Dst_host_count  \\\n",
       "0           1              0          0               1   \n",
       "1           1              0          0               1   \n",
       "2           1              0          0               1   \n",
       "3           1              0          1               1   \n",
       "4           1              0          1               1   \n",
       "...       ...            ...        ...             ...   \n",
       "125968      1              0          0               1   \n",
       "125969      1              0          1               1   \n",
       "125970      1              0          1               1   \n",
       "125971      1              0          0               1   \n",
       "125972      1              0          0               1   \n",
       "\n",
       "        Dst_host_diff_ srv_rate  Dst_host_rerro r_rate  \\\n",
       "0                             0                      0   \n",
       "1                             0                      0   \n",
       "2                             0                      0   \n",
       "3                             0                      0   \n",
       "4                             0                      0   \n",
       "...                         ...                    ...   \n",
       "125968                        0                      0   \n",
       "125969                        0                      0   \n",
       "125970                        0                      0   \n",
       "125971                        0                      0   \n",
       "125972                        0                      0   \n",
       "\n",
       "        Dst_host_same\\n_srv_rate  Dst_host_same _src_port_rate  \\\n",
       "0                              0                             0   \n",
       "1                              0                             0   \n",
       "2                              0                             0   \n",
       "3                              1                             0   \n",
       "4                              1                             0   \n",
       "...                          ...                           ...   \n",
       "125968                         0                             0   \n",
       "125969                         0                             0   \n",
       "125970                         0                             0   \n",
       "125971                         0                             0   \n",
       "125972                         0                             0   \n",
       "\n",
       "        Dst_host_serro r_rate  Dst_host_srv_ diff_host_rate  \\\n",
       "0                           0                             0   \n",
       "1                           0                             0   \n",
       "2                           1                             0   \n",
       "3                           0                             0   \n",
       "4                           0                             0   \n",
       "...                       ...                           ...   \n",
       "125968                      1                             0   \n",
       "125969                      0                             0   \n",
       "125970                      0                             0   \n",
       "125971                      1                             0   \n",
       "125972                      0                             0   \n",
       "\n",
       "        Dst_host_srv_count  Dst_host_srv_r error_rate  \\\n",
       "0                        1                        0.0   \n",
       "1                        1                        0.0   \n",
       "2                        1                        0.0   \n",
       "3                        1                        NaN   \n",
       "4                        1                        0.0   \n",
       "...                    ...                        ...   \n",
       "125968                   1                        0.0   \n",
       "125969                   1                        0.0   \n",
       "125970                   1                        0.0   \n",
       "125971                   1                        0.0   \n",
       "125972                   1                        0.0   \n",
       "\n",
       "        Dst_host_srv_s error_rate  Duration  Flag  Hot  Is_guest_login  \\\n",
       "0                             0.0         0     0    0               0   \n",
       "1                             0.0         0     0    0               0   \n",
       "2                             1.0         0     1    0               0   \n",
       "3                             NaN         0     0    0               0   \n",
       "4                             0.0         0     0    0               0   \n",
       "...                           ...       ...   ...  ...             ...   \n",
       "125968                        1.0         0     1    0               0   \n",
       "125969                        0.0         1     0    0               0   \n",
       "125970                        0.0         0     0    0               0   \n",
       "125971                        1.0         0     1    0               0   \n",
       "125972                        0.0         0     0    0               0   \n",
       "\n",
       "        Is_hot_login  Land  Logged_in  Num_access_files  Num_compromised  \\\n",
       "0                  0     0          0                 0                0   \n",
       "1                  0     0          0                 0                0   \n",
       "2                  0     0          0                 0                0   \n",
       "3                  0     0          1                 0                0   \n",
       "4                  0     0          1                 0                0   \n",
       "...              ...   ...        ...               ...              ...   \n",
       "125968             0     0          0                 0                0   \n",
       "125969             0     0          0                 0                0   \n",
       "125970             0     0          1                 0                0   \n",
       "125971             0     0          0                 0                0   \n",
       "125972             0     0          1                 0                0   \n",
       "\n",
       "        Num_failed_logins  Num_file_creations  Num_outbound_cmds  Num_root  \\\n",
       "0                       0                   0                  0         0   \n",
       "1                       0                   0                  0         0   \n",
       "2                       0                   0                  0         0   \n",
       "3                       0                   0                  0         0   \n",
       "4                       0                   0                  0         0   \n",
       "...                   ...                 ...                ...       ...   \n",
       "125968                  0                   0                  0         0   \n",
       "125969                  0                   0                  0         0   \n",
       "125970                  0                   0                  0         0   \n",
       "125971                  0                   0                  0         0   \n",
       "125972                  0                   0                  0         0   \n",
       "\n",
       "        Num_shells  Protocol_type  Rerror_rate  Root_shell  Same_srv_rate  \\\n",
       "0                0              0          0.0           0            1.0   \n",
       "1                0              1          0.0           0            NaN   \n",
       "2                0              0          0.0           0            NaN   \n",
       "3                0              0          0.0           0            1.0   \n",
       "4                0              0          0.0           0            1.0   \n",
       "...            ...            ...          ...         ...            ...   \n",
       "125968           0              0          0.0           0            NaN   \n",
       "125969           0              1          0.0           0            1.0   \n",
       "125970           0              0          0.0           0            1.0   \n",
       "125971           0              0          0.0           0            NaN   \n",
       "125972           0              0          0.0           0            1.0   \n",
       "\n",
       "        Serror_rate  Service  Src_bytes  Srv_count  Srv_diff_host_ rate  \\\n",
       "0                 0      0.0          1          1                    0   \n",
       "1                 0      1.0          1          1                    0   \n",
       "2                 1      1.0          0          1                    0   \n",
       "3                 0      1.0          1          1                    0   \n",
       "4                 0      1.0          1          1                    0   \n",
       "...             ...      ...        ...        ...                  ...   \n",
       "125968            1      1.0          0          1                    0   \n",
       "125969            0      1.0          1          1                    0   \n",
       "125970            0      1.0          1          1                    0   \n",
       "125971            1      1.0          0          1                    0   \n",
       "125972            0      0.0          1          1                    0   \n",
       "\n",
       "        Srv_error_rate  Srv_serror_rate  Su_attempted  Urgent  Wrong_fragment  \n",
       "0                  0.0                0             0       0               0  \n",
       "1                  0.0                0             0       0               0  \n",
       "2                  0.0                1             0       0               0  \n",
       "3                  0.0                0             0       0               0  \n",
       "4                  0.0                0             0       0               0  \n",
       "...                ...              ...           ...     ...             ...  \n",
       "125968             0.0                1             0       0               0  \n",
       "125969             0.0                0             0       0               0  \n",
       "125970             0.0                0             0       0               0  \n",
       "125971             0.0                1             0       0               0  \n",
       "125972             0.0                0             0       0               0  \n",
       "\n",
       "[125973 rows x 41 columns]"
      ]
     },
     "execution_count": 71,
     "metadata": {},
     "output_type": "execute_result"
    }
   ],
   "source": [
    "encoded"
   ]
  },
  {
   "cell_type": "code",
   "execution_count": 72,
   "id": "10065187",
   "metadata": {},
   "outputs": [],
   "source": [
    "encoded=encoded.dropna()"
   ]
  },
  {
   "cell_type": "code",
   "execution_count": 73,
   "id": "01c78486",
   "metadata": {},
   "outputs": [
    {
     "data": {
      "text/html": [
       "<div>\n",
       "<style scoped>\n",
       "    .dataframe tbody tr th:only-of-type {\n",
       "        vertical-align: middle;\n",
       "    }\n",
       "\n",
       "    .dataframe tbody tr th {\n",
       "        vertical-align: top;\n",
       "    }\n",
       "\n",
       "    .dataframe thead th {\n",
       "        text-align: right;\n",
       "    }\n",
       "</style>\n",
       "<table border=\"1\" class=\"dataframe\">\n",
       "  <thead>\n",
       "    <tr style=\"text-align: right;\">\n",
       "      <th></th>\n",
       "      <th>Count</th>\n",
       "      <th>Diff_srv_rate</th>\n",
       "      <th>Dst_bytes</th>\n",
       "      <th>Dst_host_count</th>\n",
       "      <th>Dst_host_diff_ srv_rate</th>\n",
       "      <th>Dst_host_rerro r_rate</th>\n",
       "      <th>Dst_host_same\\n_srv_rate</th>\n",
       "      <th>Dst_host_same _src_port_rate</th>\n",
       "      <th>Dst_host_serro r_rate</th>\n",
       "      <th>Dst_host_srv_ diff_host_rate</th>\n",
       "      <th>Dst_host_srv_count</th>\n",
       "      <th>Dst_host_srv_r error_rate</th>\n",
       "      <th>Dst_host_srv_s error_rate</th>\n",
       "      <th>Duration</th>\n",
       "      <th>Flag</th>\n",
       "      <th>Hot</th>\n",
       "      <th>Is_guest_login</th>\n",
       "      <th>Is_hot_login</th>\n",
       "      <th>Land</th>\n",
       "      <th>Logged_in</th>\n",
       "      <th>Num_access_files</th>\n",
       "      <th>Num_compromised</th>\n",
       "      <th>Num_failed_logins</th>\n",
       "      <th>Num_file_creations</th>\n",
       "      <th>Num_outbound_cmds</th>\n",
       "      <th>Num_root</th>\n",
       "      <th>Num_shells</th>\n",
       "      <th>Protocol_type</th>\n",
       "      <th>Rerror_rate</th>\n",
       "      <th>Root_shell</th>\n",
       "      <th>Same_srv_rate</th>\n",
       "      <th>Serror_rate</th>\n",
       "      <th>Service</th>\n",
       "      <th>Src_bytes</th>\n",
       "      <th>Srv_count</th>\n",
       "      <th>Srv_diff_host_ rate</th>\n",
       "      <th>Srv_error_rate</th>\n",
       "      <th>Srv_serror_rate</th>\n",
       "      <th>Su_attempted</th>\n",
       "      <th>Urgent</th>\n",
       "      <th>Wrong_fragment</th>\n",
       "    </tr>\n",
       "  </thead>\n",
       "  <tbody>\n",
       "    <tr>\n",
       "      <th>0</th>\n",
       "      <td>1</td>\n",
       "      <td>0</td>\n",
       "      <td>0</td>\n",
       "      <td>1</td>\n",
       "      <td>0</td>\n",
       "      <td>0</td>\n",
       "      <td>0</td>\n",
       "      <td>0</td>\n",
       "      <td>0</td>\n",
       "      <td>0</td>\n",
       "      <td>1</td>\n",
       "      <td>0.0</td>\n",
       "      <td>0.0</td>\n",
       "      <td>0</td>\n",
       "      <td>0</td>\n",
       "      <td>0</td>\n",
       "      <td>0</td>\n",
       "      <td>0</td>\n",
       "      <td>0</td>\n",
       "      <td>0</td>\n",
       "      <td>0</td>\n",
       "      <td>0</td>\n",
       "      <td>0</td>\n",
       "      <td>0</td>\n",
       "      <td>0</td>\n",
       "      <td>0</td>\n",
       "      <td>0</td>\n",
       "      <td>0</td>\n",
       "      <td>0.0</td>\n",
       "      <td>0</td>\n",
       "      <td>1.0</td>\n",
       "      <td>0</td>\n",
       "      <td>0.0</td>\n",
       "      <td>1</td>\n",
       "      <td>1</td>\n",
       "      <td>0</td>\n",
       "      <td>0.0</td>\n",
       "      <td>0</td>\n",
       "      <td>0</td>\n",
       "      <td>0</td>\n",
       "      <td>0</td>\n",
       "    </tr>\n",
       "    <tr>\n",
       "      <th>4</th>\n",
       "      <td>1</td>\n",
       "      <td>0</td>\n",
       "      <td>1</td>\n",
       "      <td>1</td>\n",
       "      <td>0</td>\n",
       "      <td>0</td>\n",
       "      <td>1</td>\n",
       "      <td>0</td>\n",
       "      <td>0</td>\n",
       "      <td>0</td>\n",
       "      <td>1</td>\n",
       "      <td>0.0</td>\n",
       "      <td>0.0</td>\n",
       "      <td>0</td>\n",
       "      <td>0</td>\n",
       "      <td>0</td>\n",
       "      <td>0</td>\n",
       "      <td>0</td>\n",
       "      <td>0</td>\n",
       "      <td>1</td>\n",
       "      <td>0</td>\n",
       "      <td>0</td>\n",
       "      <td>0</td>\n",
       "      <td>0</td>\n",
       "      <td>0</td>\n",
       "      <td>0</td>\n",
       "      <td>0</td>\n",
       "      <td>0</td>\n",
       "      <td>0.0</td>\n",
       "      <td>0</td>\n",
       "      <td>1.0</td>\n",
       "      <td>0</td>\n",
       "      <td>1.0</td>\n",
       "      <td>1</td>\n",
       "      <td>1</td>\n",
       "      <td>0</td>\n",
       "      <td>0.0</td>\n",
       "      <td>0</td>\n",
       "      <td>0</td>\n",
       "      <td>0</td>\n",
       "      <td>0</td>\n",
       "    </tr>\n",
       "    <tr>\n",
       "      <th>12</th>\n",
       "      <td>1</td>\n",
       "      <td>0</td>\n",
       "      <td>1</td>\n",
       "      <td>1</td>\n",
       "      <td>0</td>\n",
       "      <td>0</td>\n",
       "      <td>1</td>\n",
       "      <td>0</td>\n",
       "      <td>0</td>\n",
       "      <td>0</td>\n",
       "      <td>1</td>\n",
       "      <td>0.0</td>\n",
       "      <td>0.0</td>\n",
       "      <td>0</td>\n",
       "      <td>0</td>\n",
       "      <td>0</td>\n",
       "      <td>0</td>\n",
       "      <td>0</td>\n",
       "      <td>0</td>\n",
       "      <td>1</td>\n",
       "      <td>0</td>\n",
       "      <td>0</td>\n",
       "      <td>0</td>\n",
       "      <td>0</td>\n",
       "      <td>0</td>\n",
       "      <td>0</td>\n",
       "      <td>0</td>\n",
       "      <td>0</td>\n",
       "      <td>0.0</td>\n",
       "      <td>0</td>\n",
       "      <td>1.0</td>\n",
       "      <td>0</td>\n",
       "      <td>1.0</td>\n",
       "      <td>1</td>\n",
       "      <td>1</td>\n",
       "      <td>0</td>\n",
       "      <td>0.0</td>\n",
       "      <td>0</td>\n",
       "      <td>0</td>\n",
       "      <td>0</td>\n",
       "      <td>0</td>\n",
       "    </tr>\n",
       "    <tr>\n",
       "      <th>13</th>\n",
       "      <td>1</td>\n",
       "      <td>0</td>\n",
       "      <td>0</td>\n",
       "      <td>1</td>\n",
       "      <td>0</td>\n",
       "      <td>0</td>\n",
       "      <td>1</td>\n",
       "      <td>1</td>\n",
       "      <td>0</td>\n",
       "      <td>0</td>\n",
       "      <td>1</td>\n",
       "      <td>0.0</td>\n",
       "      <td>0.0</td>\n",
       "      <td>0</td>\n",
       "      <td>0</td>\n",
       "      <td>0</td>\n",
       "      <td>0</td>\n",
       "      <td>0</td>\n",
       "      <td>0</td>\n",
       "      <td>1</td>\n",
       "      <td>0</td>\n",
       "      <td>0</td>\n",
       "      <td>0</td>\n",
       "      <td>0</td>\n",
       "      <td>0</td>\n",
       "      <td>0</td>\n",
       "      <td>0</td>\n",
       "      <td>0</td>\n",
       "      <td>0.0</td>\n",
       "      <td>0</td>\n",
       "      <td>1.0</td>\n",
       "      <td>0</td>\n",
       "      <td>0.0</td>\n",
       "      <td>1</td>\n",
       "      <td>1</td>\n",
       "      <td>0</td>\n",
       "      <td>0.0</td>\n",
       "      <td>0</td>\n",
       "      <td>0</td>\n",
       "      <td>0</td>\n",
       "      <td>0</td>\n",
       "    </tr>\n",
       "    <tr>\n",
       "      <th>14</th>\n",
       "      <td>1</td>\n",
       "      <td>0</td>\n",
       "      <td>0</td>\n",
       "      <td>1</td>\n",
       "      <td>0</td>\n",
       "      <td>0</td>\n",
       "      <td>0</td>\n",
       "      <td>0</td>\n",
       "      <td>1</td>\n",
       "      <td>0</td>\n",
       "      <td>1</td>\n",
       "      <td>0.0</td>\n",
       "      <td>1.0</td>\n",
       "      <td>0</td>\n",
       "      <td>1</td>\n",
       "      <td>0</td>\n",
       "      <td>0</td>\n",
       "      <td>0</td>\n",
       "      <td>0</td>\n",
       "      <td>0</td>\n",
       "      <td>0</td>\n",
       "      <td>0</td>\n",
       "      <td>0</td>\n",
       "      <td>0</td>\n",
       "      <td>0</td>\n",
       "      <td>0</td>\n",
       "      <td>0</td>\n",
       "      <td>0</td>\n",
       "      <td>0.0</td>\n",
       "      <td>0</td>\n",
       "      <td>0.0</td>\n",
       "      <td>1</td>\n",
       "      <td>1.0</td>\n",
       "      <td>0</td>\n",
       "      <td>1</td>\n",
       "      <td>0</td>\n",
       "      <td>0.0</td>\n",
       "      <td>1</td>\n",
       "      <td>0</td>\n",
       "      <td>0</td>\n",
       "      <td>0</td>\n",
       "    </tr>\n",
       "    <tr>\n",
       "      <th>...</th>\n",
       "      <td>...</td>\n",
       "      <td>...</td>\n",
       "      <td>...</td>\n",
       "      <td>...</td>\n",
       "      <td>...</td>\n",
       "      <td>...</td>\n",
       "      <td>...</td>\n",
       "      <td>...</td>\n",
       "      <td>...</td>\n",
       "      <td>...</td>\n",
       "      <td>...</td>\n",
       "      <td>...</td>\n",
       "      <td>...</td>\n",
       "      <td>...</td>\n",
       "      <td>...</td>\n",
       "      <td>...</td>\n",
       "      <td>...</td>\n",
       "      <td>...</td>\n",
       "      <td>...</td>\n",
       "      <td>...</td>\n",
       "      <td>...</td>\n",
       "      <td>...</td>\n",
       "      <td>...</td>\n",
       "      <td>...</td>\n",
       "      <td>...</td>\n",
       "      <td>...</td>\n",
       "      <td>...</td>\n",
       "      <td>...</td>\n",
       "      <td>...</td>\n",
       "      <td>...</td>\n",
       "      <td>...</td>\n",
       "      <td>...</td>\n",
       "      <td>...</td>\n",
       "      <td>...</td>\n",
       "      <td>...</td>\n",
       "      <td>...</td>\n",
       "      <td>...</td>\n",
       "      <td>...</td>\n",
       "      <td>...</td>\n",
       "      <td>...</td>\n",
       "      <td>...</td>\n",
       "    </tr>\n",
       "    <tr>\n",
       "      <th>125965</th>\n",
       "      <td>1</td>\n",
       "      <td>0</td>\n",
       "      <td>1</td>\n",
       "      <td>1</td>\n",
       "      <td>0</td>\n",
       "      <td>0</td>\n",
       "      <td>1</td>\n",
       "      <td>1</td>\n",
       "      <td>0</td>\n",
       "      <td>1</td>\n",
       "      <td>1</td>\n",
       "      <td>0.0</td>\n",
       "      <td>0.0</td>\n",
       "      <td>0</td>\n",
       "      <td>0</td>\n",
       "      <td>0</td>\n",
       "      <td>0</td>\n",
       "      <td>0</td>\n",
       "      <td>0</td>\n",
       "      <td>1</td>\n",
       "      <td>0</td>\n",
       "      <td>0</td>\n",
       "      <td>0</td>\n",
       "      <td>0</td>\n",
       "      <td>0</td>\n",
       "      <td>0</td>\n",
       "      <td>0</td>\n",
       "      <td>0</td>\n",
       "      <td>0.0</td>\n",
       "      <td>0</td>\n",
       "      <td>1.0</td>\n",
       "      <td>0</td>\n",
       "      <td>1.0</td>\n",
       "      <td>1</td>\n",
       "      <td>1</td>\n",
       "      <td>0</td>\n",
       "      <td>0.0</td>\n",
       "      <td>0</td>\n",
       "      <td>0</td>\n",
       "      <td>0</td>\n",
       "      <td>0</td>\n",
       "    </tr>\n",
       "    <tr>\n",
       "      <th>125967</th>\n",
       "      <td>1</td>\n",
       "      <td>0</td>\n",
       "      <td>1</td>\n",
       "      <td>1</td>\n",
       "      <td>0</td>\n",
       "      <td>0</td>\n",
       "      <td>1</td>\n",
       "      <td>0</td>\n",
       "      <td>0</td>\n",
       "      <td>0</td>\n",
       "      <td>1</td>\n",
       "      <td>0.0</td>\n",
       "      <td>0.0</td>\n",
       "      <td>0</td>\n",
       "      <td>0</td>\n",
       "      <td>0</td>\n",
       "      <td>0</td>\n",
       "      <td>0</td>\n",
       "      <td>0</td>\n",
       "      <td>1</td>\n",
       "      <td>0</td>\n",
       "      <td>0</td>\n",
       "      <td>0</td>\n",
       "      <td>0</td>\n",
       "      <td>0</td>\n",
       "      <td>0</td>\n",
       "      <td>0</td>\n",
       "      <td>0</td>\n",
       "      <td>0.0</td>\n",
       "      <td>0</td>\n",
       "      <td>1.0</td>\n",
       "      <td>0</td>\n",
       "      <td>1.0</td>\n",
       "      <td>1</td>\n",
       "      <td>1</td>\n",
       "      <td>0</td>\n",
       "      <td>0.0</td>\n",
       "      <td>0</td>\n",
       "      <td>0</td>\n",
       "      <td>0</td>\n",
       "      <td>0</td>\n",
       "    </tr>\n",
       "    <tr>\n",
       "      <th>125969</th>\n",
       "      <td>1</td>\n",
       "      <td>0</td>\n",
       "      <td>1</td>\n",
       "      <td>1</td>\n",
       "      <td>0</td>\n",
       "      <td>0</td>\n",
       "      <td>0</td>\n",
       "      <td>0</td>\n",
       "      <td>0</td>\n",
       "      <td>0</td>\n",
       "      <td>1</td>\n",
       "      <td>0.0</td>\n",
       "      <td>0.0</td>\n",
       "      <td>1</td>\n",
       "      <td>0</td>\n",
       "      <td>0</td>\n",
       "      <td>0</td>\n",
       "      <td>0</td>\n",
       "      <td>0</td>\n",
       "      <td>0</td>\n",
       "      <td>0</td>\n",
       "      <td>0</td>\n",
       "      <td>0</td>\n",
       "      <td>0</td>\n",
       "      <td>0</td>\n",
       "      <td>0</td>\n",
       "      <td>0</td>\n",
       "      <td>1</td>\n",
       "      <td>0.0</td>\n",
       "      <td>0</td>\n",
       "      <td>1.0</td>\n",
       "      <td>0</td>\n",
       "      <td>1.0</td>\n",
       "      <td>1</td>\n",
       "      <td>1</td>\n",
       "      <td>0</td>\n",
       "      <td>0.0</td>\n",
       "      <td>0</td>\n",
       "      <td>0</td>\n",
       "      <td>0</td>\n",
       "      <td>0</td>\n",
       "    </tr>\n",
       "    <tr>\n",
       "      <th>125970</th>\n",
       "      <td>1</td>\n",
       "      <td>0</td>\n",
       "      <td>1</td>\n",
       "      <td>1</td>\n",
       "      <td>0</td>\n",
       "      <td>0</td>\n",
       "      <td>0</td>\n",
       "      <td>0</td>\n",
       "      <td>0</td>\n",
       "      <td>0</td>\n",
       "      <td>1</td>\n",
       "      <td>0.0</td>\n",
       "      <td>0.0</td>\n",
       "      <td>0</td>\n",
       "      <td>0</td>\n",
       "      <td>0</td>\n",
       "      <td>0</td>\n",
       "      <td>0</td>\n",
       "      <td>0</td>\n",
       "      <td>1</td>\n",
       "      <td>0</td>\n",
       "      <td>0</td>\n",
       "      <td>0</td>\n",
       "      <td>0</td>\n",
       "      <td>0</td>\n",
       "      <td>0</td>\n",
       "      <td>0</td>\n",
       "      <td>0</td>\n",
       "      <td>0.0</td>\n",
       "      <td>0</td>\n",
       "      <td>1.0</td>\n",
       "      <td>0</td>\n",
       "      <td>1.0</td>\n",
       "      <td>1</td>\n",
       "      <td>1</td>\n",
       "      <td>0</td>\n",
       "      <td>0.0</td>\n",
       "      <td>0</td>\n",
       "      <td>0</td>\n",
       "      <td>0</td>\n",
       "      <td>0</td>\n",
       "    </tr>\n",
       "    <tr>\n",
       "      <th>125972</th>\n",
       "      <td>1</td>\n",
       "      <td>0</td>\n",
       "      <td>0</td>\n",
       "      <td>1</td>\n",
       "      <td>0</td>\n",
       "      <td>0</td>\n",
       "      <td>0</td>\n",
       "      <td>0</td>\n",
       "      <td>0</td>\n",
       "      <td>0</td>\n",
       "      <td>1</td>\n",
       "      <td>0.0</td>\n",
       "      <td>0.0</td>\n",
       "      <td>0</td>\n",
       "      <td>0</td>\n",
       "      <td>0</td>\n",
       "      <td>0</td>\n",
       "      <td>0</td>\n",
       "      <td>0</td>\n",
       "      <td>1</td>\n",
       "      <td>0</td>\n",
       "      <td>0</td>\n",
       "      <td>0</td>\n",
       "      <td>0</td>\n",
       "      <td>0</td>\n",
       "      <td>0</td>\n",
       "      <td>0</td>\n",
       "      <td>0</td>\n",
       "      <td>0.0</td>\n",
       "      <td>0</td>\n",
       "      <td>1.0</td>\n",
       "      <td>0</td>\n",
       "      <td>0.0</td>\n",
       "      <td>1</td>\n",
       "      <td>1</td>\n",
       "      <td>0</td>\n",
       "      <td>0.0</td>\n",
       "      <td>0</td>\n",
       "      <td>0</td>\n",
       "      <td>0</td>\n",
       "      <td>0</td>\n",
       "    </tr>\n",
       "  </tbody>\n",
       "</table>\n",
       "<p>66712 rows × 41 columns</p>\n",
       "</div>"
      ],
      "text/plain": [
       "        Count  Diff_srv_rate  Dst_bytes  Dst_host_count  \\\n",
       "0           1              0          0               1   \n",
       "4           1              0          1               1   \n",
       "12          1              0          1               1   \n",
       "13          1              0          0               1   \n",
       "14          1              0          0               1   \n",
       "...       ...            ...        ...             ...   \n",
       "125965      1              0          1               1   \n",
       "125967      1              0          1               1   \n",
       "125969      1              0          1               1   \n",
       "125970      1              0          1               1   \n",
       "125972      1              0          0               1   \n",
       "\n",
       "        Dst_host_diff_ srv_rate  Dst_host_rerro r_rate  \\\n",
       "0                             0                      0   \n",
       "4                             0                      0   \n",
       "12                            0                      0   \n",
       "13                            0                      0   \n",
       "14                            0                      0   \n",
       "...                         ...                    ...   \n",
       "125965                        0                      0   \n",
       "125967                        0                      0   \n",
       "125969                        0                      0   \n",
       "125970                        0                      0   \n",
       "125972                        0                      0   \n",
       "\n",
       "        Dst_host_same\\n_srv_rate  Dst_host_same _src_port_rate  \\\n",
       "0                              0                             0   \n",
       "4                              1                             0   \n",
       "12                             1                             0   \n",
       "13                             1                             1   \n",
       "14                             0                             0   \n",
       "...                          ...                           ...   \n",
       "125965                         1                             1   \n",
       "125967                         1                             0   \n",
       "125969                         0                             0   \n",
       "125970                         0                             0   \n",
       "125972                         0                             0   \n",
       "\n",
       "        Dst_host_serro r_rate  Dst_host_srv_ diff_host_rate  \\\n",
       "0                           0                             0   \n",
       "4                           0                             0   \n",
       "12                          0                             0   \n",
       "13                          0                             0   \n",
       "14                          1                             0   \n",
       "...                       ...                           ...   \n",
       "125965                      0                             1   \n",
       "125967                      0                             0   \n",
       "125969                      0                             0   \n",
       "125970                      0                             0   \n",
       "125972                      0                             0   \n",
       "\n",
       "        Dst_host_srv_count  Dst_host_srv_r error_rate  \\\n",
       "0                        1                        0.0   \n",
       "4                        1                        0.0   \n",
       "12                       1                        0.0   \n",
       "13                       1                        0.0   \n",
       "14                       1                        0.0   \n",
       "...                    ...                        ...   \n",
       "125965                   1                        0.0   \n",
       "125967                   1                        0.0   \n",
       "125969                   1                        0.0   \n",
       "125970                   1                        0.0   \n",
       "125972                   1                        0.0   \n",
       "\n",
       "        Dst_host_srv_s error_rate  Duration  Flag  Hot  Is_guest_login  \\\n",
       "0                             0.0         0     0    0               0   \n",
       "4                             0.0         0     0    0               0   \n",
       "12                            0.0         0     0    0               0   \n",
       "13                            0.0         0     0    0               0   \n",
       "14                            1.0         0     1    0               0   \n",
       "...                           ...       ...   ...  ...             ...   \n",
       "125965                        0.0         0     0    0               0   \n",
       "125967                        0.0         0     0    0               0   \n",
       "125969                        0.0         1     0    0               0   \n",
       "125970                        0.0         0     0    0               0   \n",
       "125972                        0.0         0     0    0               0   \n",
       "\n",
       "        Is_hot_login  Land  Logged_in  Num_access_files  Num_compromised  \\\n",
       "0                  0     0          0                 0                0   \n",
       "4                  0     0          1                 0                0   \n",
       "12                 0     0          1                 0                0   \n",
       "13                 0     0          1                 0                0   \n",
       "14                 0     0          0                 0                0   \n",
       "...              ...   ...        ...               ...              ...   \n",
       "125965             0     0          1                 0                0   \n",
       "125967             0     0          1                 0                0   \n",
       "125969             0     0          0                 0                0   \n",
       "125970             0     0          1                 0                0   \n",
       "125972             0     0          1                 0                0   \n",
       "\n",
       "        Num_failed_logins  Num_file_creations  Num_outbound_cmds  Num_root  \\\n",
       "0                       0                   0                  0         0   \n",
       "4                       0                   0                  0         0   \n",
       "12                      0                   0                  0         0   \n",
       "13                      0                   0                  0         0   \n",
       "14                      0                   0                  0         0   \n",
       "...                   ...                 ...                ...       ...   \n",
       "125965                  0                   0                  0         0   \n",
       "125967                  0                   0                  0         0   \n",
       "125969                  0                   0                  0         0   \n",
       "125970                  0                   0                  0         0   \n",
       "125972                  0                   0                  0         0   \n",
       "\n",
       "        Num_shells  Protocol_type  Rerror_rate  Root_shell  Same_srv_rate  \\\n",
       "0                0              0          0.0           0            1.0   \n",
       "4                0              0          0.0           0            1.0   \n",
       "12               0              0          0.0           0            1.0   \n",
       "13               0              0          0.0           0            1.0   \n",
       "14               0              0          0.0           0            0.0   \n",
       "...            ...            ...          ...         ...            ...   \n",
       "125965           0              0          0.0           0            1.0   \n",
       "125967           0              0          0.0           0            1.0   \n",
       "125969           0              1          0.0           0            1.0   \n",
       "125970           0              0          0.0           0            1.0   \n",
       "125972           0              0          0.0           0            1.0   \n",
       "\n",
       "        Serror_rate  Service  Src_bytes  Srv_count  Srv_diff_host_ rate  \\\n",
       "0                 0      0.0          1          1                    0   \n",
       "4                 0      1.0          1          1                    0   \n",
       "12                0      1.0          1          1                    0   \n",
       "13                0      0.0          1          1                    0   \n",
       "14                1      1.0          0          1                    0   \n",
       "...             ...      ...        ...        ...                  ...   \n",
       "125965            0      1.0          1          1                    0   \n",
       "125967            0      1.0          1          1                    0   \n",
       "125969            0      1.0          1          1                    0   \n",
       "125970            0      1.0          1          1                    0   \n",
       "125972            0      0.0          1          1                    0   \n",
       "\n",
       "        Srv_error_rate  Srv_serror_rate  Su_attempted  Urgent  Wrong_fragment  \n",
       "0                  0.0                0             0       0               0  \n",
       "4                  0.0                0             0       0               0  \n",
       "12                 0.0                0             0       0               0  \n",
       "13                 0.0                0             0       0               0  \n",
       "14                 0.0                1             0       0               0  \n",
       "...                ...              ...           ...     ...             ...  \n",
       "125965             0.0                0             0       0               0  \n",
       "125967             0.0                0             0       0               0  \n",
       "125969             0.0                0             0       0               0  \n",
       "125970             0.0                0             0       0               0  \n",
       "125972             0.0                0             0       0               0  \n",
       "\n",
       "[66712 rows x 41 columns]"
      ]
     },
     "execution_count": 73,
     "metadata": {},
     "output_type": "execute_result"
    }
   ],
   "source": [
    "encoded"
   ]
  },
  {
   "cell_type": "code",
   "execution_count": 74,
   "id": "e819d63a",
   "metadata": {},
   "outputs": [
    {
     "name": "stderr",
     "output_type": "stream",
     "text": [
      "C:\\Users\\user\\AppData\\Roaming\\Python\\Python39\\site-packages\\mlxtend\\frequent_patterns\\fpcommon.py:111: DeprecationWarning: DataFrames with non-bool types result in worse computationalperformance and their support might be discontinued in the future.Please use a DataFrame with bool type\n",
      "  warnings.warn(\n"
     ]
    }
   ],
   "source": [
    "frequent_items= fpgrowth(encoded,min_support=0.6,use_colnames=True)\n"
   ]
  },
  {
   "cell_type": "code",
   "execution_count": 75,
   "id": "52284a4e",
   "metadata": {},
   "outputs": [],
   "source": [
    "\n",
    "#freq_items=apriori(encoded, min_support=0.3,min_confidence=0.8, min_lift=2, min_length=2, max_length=4)"
   ]
  },
  {
   "cell_type": "code",
   "execution_count": 76,
   "id": "85388551",
   "metadata": {},
   "outputs": [],
   "source": [
    "rules = association_rules(frequent_items, metric =\"lift\", min_threshold = 1)\n",
    "rules = rules.sort_values(by='confidence', ascending =False)\n"
   ]
  },
  {
   "cell_type": "code",
   "execution_count": 77,
   "id": "24f8eeab",
   "metadata": {},
   "outputs": [
    {
     "data": {
      "text/html": [
       "<div>\n",
       "<style scoped>\n",
       "    .dataframe tbody tr th:only-of-type {\n",
       "        vertical-align: middle;\n",
       "    }\n",
       "\n",
       "    .dataframe tbody tr th {\n",
       "        vertical-align: top;\n",
       "    }\n",
       "\n",
       "    .dataframe thead th {\n",
       "        text-align: right;\n",
       "    }\n",
       "</style>\n",
       "<table border=\"1\" class=\"dataframe\">\n",
       "  <thead>\n",
       "    <tr style=\"text-align: right;\">\n",
       "      <th></th>\n",
       "      <th>antecedents</th>\n",
       "      <th>consequents</th>\n",
       "      <th>antecedent support</th>\n",
       "      <th>consequent support</th>\n",
       "      <th>support</th>\n",
       "      <th>confidence</th>\n",
       "      <th>lift</th>\n",
       "      <th>leverage</th>\n",
       "      <th>conviction</th>\n",
       "    </tr>\n",
       "  </thead>\n",
       "  <tbody>\n",
       "    <tr>\n",
       "      <th>0</th>\n",
       "      <td>(Dst_host_count)</td>\n",
       "      <td>(Dst_host_srv_count)</td>\n",
       "      <td>0.999970</td>\n",
       "      <td>0.999970</td>\n",
       "      <td>0.999970</td>\n",
       "      <td>1.000000</td>\n",
       "      <td>1.00003</td>\n",
       "      <td>0.000030</td>\n",
       "      <td>inf</td>\n",
       "    </tr>\n",
       "    <tr>\n",
       "      <th>1379</th>\n",
       "      <td>(Dst_bytes, Dst_host_srv_count, Srv_count)</td>\n",
       "      <td>(Count)</td>\n",
       "      <td>0.710592</td>\n",
       "      <td>0.999820</td>\n",
       "      <td>0.710592</td>\n",
       "      <td>1.000000</td>\n",
       "      <td>1.00018</td>\n",
       "      <td>0.000128</td>\n",
       "      <td>inf</td>\n",
       "    </tr>\n",
       "    <tr>\n",
       "      <th>1420</th>\n",
       "      <td>(Dst_bytes, Dst_host_count, Dst_host_srv_count...</td>\n",
       "      <td>(Count)</td>\n",
       "      <td>0.710592</td>\n",
       "      <td>0.999820</td>\n",
       "      <td>0.710592</td>\n",
       "      <td>1.000000</td>\n",
       "      <td>1.00018</td>\n",
       "      <td>0.000128</td>\n",
       "      <td>inf</td>\n",
       "    </tr>\n",
       "    <tr>\n",
       "      <th>7989</th>\n",
       "      <td>(Logged_in, Same_srv_rate, Srv_count, Dst_host...</td>\n",
       "      <td>(Dst_host_count, Count)</td>\n",
       "      <td>0.602575</td>\n",
       "      <td>0.999790</td>\n",
       "      <td>0.602575</td>\n",
       "      <td>1.000000</td>\n",
       "      <td>1.00021</td>\n",
       "      <td>0.000126</td>\n",
       "      <td>inf</td>\n",
       "    </tr>\n",
       "    <tr>\n",
       "      <th>7990</th>\n",
       "      <td>(Logged_in, Same_srv_rate, Srv_count, Count, S...</td>\n",
       "      <td>(Dst_host_count, Dst_host_srv_count)</td>\n",
       "      <td>0.602575</td>\n",
       "      <td>0.999970</td>\n",
       "      <td>0.602575</td>\n",
       "      <td>1.000000</td>\n",
       "      <td>1.00003</td>\n",
       "      <td>0.000018</td>\n",
       "      <td>inf</td>\n",
       "    </tr>\n",
       "    <tr>\n",
       "      <th>...</th>\n",
       "      <td>...</td>\n",
       "      <td>...</td>\n",
       "      <td>...</td>\n",
       "      <td>...</td>\n",
       "      <td>...</td>\n",
       "      <td>...</td>\n",
       "      <td>...</td>\n",
       "      <td>...</td>\n",
       "      <td>...</td>\n",
       "    </tr>\n",
       "    <tr>\n",
       "      <th>7504</th>\n",
       "      <td>(Dst_host_srv_count)</td>\n",
       "      <td>(Srv_count, Src_bytes, Logged_in, Same_srv_rate)</td>\n",
       "      <td>0.999970</td>\n",
       "      <td>0.602575</td>\n",
       "      <td>0.602575</td>\n",
       "      <td>0.602593</td>\n",
       "      <td>1.00003</td>\n",
       "      <td>0.000018</td>\n",
       "      <td>1.000045</td>\n",
       "    </tr>\n",
       "    <tr>\n",
       "      <th>7444</th>\n",
       "      <td>(Dst_host_srv_count)</td>\n",
       "      <td>(Dst_host_count, Src_bytes, Logged_in, Same_sr...</td>\n",
       "      <td>0.999970</td>\n",
       "      <td>0.602575</td>\n",
       "      <td>0.602575</td>\n",
       "      <td>0.602593</td>\n",
       "      <td>1.00003</td>\n",
       "      <td>0.000018</td>\n",
       "      <td>1.000045</td>\n",
       "    </tr>\n",
       "    <tr>\n",
       "      <th>7774</th>\n",
       "      <td>(Dst_host_count)</td>\n",
       "      <td>(Logged_in, Same_srv_rate, Srv_count, Dst_host...</td>\n",
       "      <td>0.999970</td>\n",
       "      <td>0.602575</td>\n",
       "      <td>0.602575</td>\n",
       "      <td>0.602593</td>\n",
       "      <td>1.00003</td>\n",
       "      <td>0.000018</td>\n",
       "      <td>1.000045</td>\n",
       "    </tr>\n",
       "    <tr>\n",
       "      <th>7778</th>\n",
       "      <td>(Dst_host_srv_count)</td>\n",
       "      <td>(Dst_host_count, Logged_in, Same_srv_rate, Srv...</td>\n",
       "      <td>0.999970</td>\n",
       "      <td>0.602575</td>\n",
       "      <td>0.602575</td>\n",
       "      <td>0.602593</td>\n",
       "      <td>1.00003</td>\n",
       "      <td>0.000018</td>\n",
       "      <td>1.000045</td>\n",
       "    </tr>\n",
       "    <tr>\n",
       "      <th>7839</th>\n",
       "      <td>(Dst_host_srv_count)</td>\n",
       "      <td>(Dst_host_count, Logged_in, Same_srv_rate, Cou...</td>\n",
       "      <td>0.999970</td>\n",
       "      <td>0.602575</td>\n",
       "      <td>0.602575</td>\n",
       "      <td>0.602593</td>\n",
       "      <td>1.00003</td>\n",
       "      <td>0.000018</td>\n",
       "      <td>1.000045</td>\n",
       "    </tr>\n",
       "  </tbody>\n",
       "</table>\n",
       "<p>8092 rows × 9 columns</p>\n",
       "</div>"
      ],
      "text/plain": [
       "                                            antecedents  \\\n",
       "0                                      (Dst_host_count)   \n",
       "1379         (Dst_bytes, Dst_host_srv_count, Srv_count)   \n",
       "1420  (Dst_bytes, Dst_host_count, Dst_host_srv_count...   \n",
       "7989  (Logged_in, Same_srv_rate, Srv_count, Dst_host...   \n",
       "7990  (Logged_in, Same_srv_rate, Srv_count, Count, S...   \n",
       "...                                                 ...   \n",
       "7504                               (Dst_host_srv_count)   \n",
       "7444                               (Dst_host_srv_count)   \n",
       "7774                                   (Dst_host_count)   \n",
       "7778                               (Dst_host_srv_count)   \n",
       "7839                               (Dst_host_srv_count)   \n",
       "\n",
       "                                            consequents  antecedent support  \\\n",
       "0                                  (Dst_host_srv_count)            0.999970   \n",
       "1379                                            (Count)            0.710592   \n",
       "1420                                            (Count)            0.710592   \n",
       "7989                            (Dst_host_count, Count)            0.602575   \n",
       "7990               (Dst_host_count, Dst_host_srv_count)            0.602575   \n",
       "...                                                 ...                 ...   \n",
       "7504   (Srv_count, Src_bytes, Logged_in, Same_srv_rate)            0.999970   \n",
       "7444  (Dst_host_count, Src_bytes, Logged_in, Same_sr...            0.999970   \n",
       "7774  (Logged_in, Same_srv_rate, Srv_count, Dst_host...            0.999970   \n",
       "7778  (Dst_host_count, Logged_in, Same_srv_rate, Srv...            0.999970   \n",
       "7839  (Dst_host_count, Logged_in, Same_srv_rate, Cou...            0.999970   \n",
       "\n",
       "      consequent support   support  confidence     lift  leverage  conviction  \n",
       "0               0.999970  0.999970    1.000000  1.00003  0.000030         inf  \n",
       "1379            0.999820  0.710592    1.000000  1.00018  0.000128         inf  \n",
       "1420            0.999820  0.710592    1.000000  1.00018  0.000128         inf  \n",
       "7989            0.999790  0.602575    1.000000  1.00021  0.000126         inf  \n",
       "7990            0.999970  0.602575    1.000000  1.00003  0.000018         inf  \n",
       "...                  ...       ...         ...      ...       ...         ...  \n",
       "7504            0.602575  0.602575    0.602593  1.00003  0.000018    1.000045  \n",
       "7444            0.602575  0.602575    0.602593  1.00003  0.000018    1.000045  \n",
       "7774            0.602575  0.602575    0.602593  1.00003  0.000018    1.000045  \n",
       "7778            0.602575  0.602575    0.602593  1.00003  0.000018    1.000045  \n",
       "7839            0.602575  0.602575    0.602593  1.00003  0.000018    1.000045  \n",
       "\n",
       "[8092 rows x 9 columns]"
      ]
     },
     "execution_count": 77,
     "metadata": {},
     "output_type": "execute_result"
    }
   ],
   "source": [
    "rules"
   ]
  },
  {
   "cell_type": "code",
   "execution_count": 78,
   "id": "a4f3a779",
   "metadata": {},
   "outputs": [
    {
     "name": "stdout",
     "output_type": "stream",
     "text": [
      "(Count)                                                                                          0.022739\n",
      "(Srv_count)                                                                                      0.022739\n",
      "(Dst_host_count)                                                                                 0.021750\n",
      "(Dst_host_srv_count)                                                                             0.021750\n",
      "(Same_srv_rate)                                                                                  0.021256\n",
      "                                                                                                   ...   \n",
      "(Dst_host_count, Service, Same_srv_rate, Srv_count, Dst_bytes, Count, Src_bytes)                 0.000124\n",
      "(Dst_host_count, Service, Same_srv_rate, Dst_bytes, Dst_host_srv_count, Count, Src_bytes)        0.000124\n",
      "(Dst_host_count, Same_srv_rate, Srv_count, Dst_bytes, Dst_host_srv_count, Count, Src_bytes)      0.000124\n",
      "(Dst_host_count, Service, Srv_count, Dst_host_same\\n_srv_rate, Dst_host_srv_count, Count)        0.000124\n",
      "(Dst_host_count, Service, Same_srv_rate, Srv_count, Dst_bytes, Dst_host_srv_count, Src_bytes)    0.000124\n",
      "Name: antecedents, Length: 380, dtype: float64\n"
     ]
    }
   ],
   "source": [
    "print(rules[\"antecedents\"].value_counts(normalize=True))"
   ]
  }
 ],
 "metadata": {
  "kernelspec": {
   "display_name": "Python 3 (ipykernel)",
   "language": "python",
   "name": "python3"
  },
  "language_info": {
   "codemirror_mode": {
    "name": "ipython",
    "version": 3
   },
   "file_extension": ".py",
   "mimetype": "text/x-python",
   "name": "python",
   "nbconvert_exporter": "python",
   "pygments_lexer": "ipython3",
   "version": "3.9.12"
  }
 },
 "nbformat": 4,
 "nbformat_minor": 5
}

{
 "cells": [
  {
   "cell_type": "code",
   "execution_count": 1,
   "id": "d5585981",
   "metadata": {},
   "outputs": [],
   "source": [
    "#Importing libraries\n",
    "import numpy as np\n",
    "import pandas as pd\n",
    "pd.set_option('display.max_columns', None)\n",
    "import matplotlib.pyplot as plt\n",
    "import seaborn as sns\n",
    "import time"
   ]
  },
  {
   "cell_type": "code",
   "execution_count": 2,
   "id": "38a2796d",
   "metadata": {},
   "outputs": [],
   "source": [
    "#loading the train data and test data\n",
    "train=pd.read_csv(\"Dataset/20percent_labelled.csv\")\n",
    "test=pd.read_csv(\"Dataset/Test.csv\")"
   ]
  },
  {
   "cell_type": "markdown",
   "id": "72c4fc91",
   "metadata": {},
   "source": [
    "# Data Preprocessing"
   ]
  },
  {
   "cell_type": "code",
   "execution_count": 10,
   "id": "bba5e7ee",
   "metadata": {},
   "outputs": [],
   "source": [
    "train.replace([np.inf, -np.inf], np.nan, inplace=True)"
   ]
  },
  {
   "cell_type": "code",
   "execution_count": 12,
   "id": "1b6920eb",
   "metadata": {},
   "outputs": [],
   "source": [
    "train=train.dropna(subset=['Service'])"
   ]
  },
  {
   "cell_type": "code",
   "execution_count": 14,
   "id": "d63c367b",
   "metadata": {},
   "outputs": [
    {
     "data": {
      "text/plain": [
       "['Protocol_type', 'Service', 'Flag']"
      ]
     },
     "execution_count": 14,
     "metadata": {},
     "output_type": "execute_result"
    }
   ],
   "source": [
    "#finding categoritcal features\n",
    "numeric_columns=train._get_numeric_data().columns\n",
    "categorical_columns=list(set(train.columns)-set(numeric_columns))\n",
    "categorical_columns.remove('Result')\n",
    "categorical_columns"
   ]
  },
  {
   "cell_type": "code",
   "execution_count": 25,
   "id": "dc82d47a",
   "metadata": {},
   "outputs": [],
   "source": [
    "#analyzing the correlation,since Num_root and Num_compromised are highly correlated, so Num_root should be ignored during analysis\n",
    "train.drop('Num_root',axis=1,inplace=True)"
   ]
  },
  {
   "cell_type": "code",
   "execution_count": 27,
   "id": "42d0b336",
   "metadata": {},
   "outputs": [],
   "source": [
    "#highly correlated with serror_rate, so should be ignored(0.9983615072725952)\n",
    "\n",
    "train.drop('Srv_serror_rate',axis=1,inplace=True)"
   ]
  },
  {
   "cell_type": "code",
   "execution_count": 29,
   "id": "380abdc3",
   "metadata": {},
   "outputs": [],
   "source": [
    "#rerror_rate highly correlated with srv_error_rate,so srv_error_rate needs to be ignored(0.9890076529820789)\n",
    "train.drop('Srv_error_rate',axis=1,inplace=True)"
   ]
  },
  {
   "cell_type": "code",
   "execution_count": 30,
   "id": "68ccc0de",
   "metadata": {},
   "outputs": [],
   "source": [
    "#Dst_host_srv_serror_rate is high correlated with srv_serror_rate, so needs to be ignored.(0.9993041091850098)\n",
    "train.drop('Dst_host_srv_s error_rate',axis=1,inplace=True)"
   ]
  },
  {
   "cell_type": "code",
   "execution_count": 31,
   "id": "1cfbac58",
   "metadata": {},
   "outputs": [],
   "source": [
    "#Dst_host_serror_rate is high correlated with rerror_rate, so needs to be ignored.\n",
    "train.drop('Dst_host_serro r_rate',axis=1,inplace=True)"
   ]
  },
  {
   "cell_type": "code",
   "execution_count": 33,
   "id": "64aefe64",
   "metadata": {},
   "outputs": [],
   "source": [
    "#Dst_host_srv_rerror_rate is high correlated with Rerror_rate, so needs to be ignored.(0.964449764823)\n",
    "train.drop('Dst_host_srv_r error_rate',axis=1,inplace=True)"
   ]
  },
  {
   "cell_type": "code",
   "execution_count": 34,
   "id": "1b84cc1e",
   "metadata": {},
   "outputs": [],
   "source": [
    "#Dst_host_rerror_rate is high correlated with srv_error_rate, so needs to be ignored.(0.917822)\n",
    "train.drop('Dst_host_rerro r_rate',axis=1,inplace=True)"
   ]
  },
  {
   "cell_type": "code",
   "execution_count": 35,
   "id": "f2fad40c",
   "metadata": {},
   "outputs": [],
   "source": [
    "#Dst_host_same\\n_srv_rate is highly correlated with Dst_host_srv_count and should be ignored.(0.896663)\n",
    "train.drop('Dst_host_same\\n_srv_rate',axis=1,inplace=True)"
   ]
  },
  {
   "cell_type": "code",
   "execution_count": 36,
   "id": "0625547e",
   "metadata": {},
   "outputs": [],
   "source": [
    "train.drop('Num_outbound_cmds',axis=1,inplace=True)"
   ]
  },
  {
   "cell_type": "code",
   "execution_count": 42,
   "id": "61500268",
   "metadata": {},
   "outputs": [],
   "source": [
    "#converting categorical values into numeric \n",
    "#can be done in this way as well\n",
    "#from sklearn import preprocessing\n",
    "#label_encoder=preprocessing.LabelEncoder()\n",
    "#train['Flag']=label_encoder.fit_transform(train['Flag'])\n",
    "train.Protocol_type=train.Protocol_type.map({\"tcp\":0,\"udp\":1,\"icmp\":2})\n",
    "train.Service=train.Service.map({\"ftp_data\":0,\"other\":1,\"private\":2,\"http\":3,\"remote_job\":4,\"name\":5,\"netbios_dgm\":6,\"eco_i\":7,\"mtp\":8,\"telnet\":9,\"finger\":10,\"domain_u\":11,\"supdup\":12,\"uucp_path\":13,\"Z39_50\":14,\"smtp\":15,\"csnet_ns\":16,\"uucp\":17,\"netbios_dgm\":18,\"urp_i\":19,\"auth\":20,\"domain\":21,\"ftp\":22,\"bgp\":23,\"ldap\":24,\"ecr_i\":25,\"gopher\":26,\"vmnet\":27,\"systat\":28,\"http_433\":29,\"efs\":30,\"whois\":31,\"imap4\":32,\"iso_tsap\":33,\"echo\":34,\"klogin\":35,\"link\":36,\"sunrpc\":37,\"login\":38,\"kshell\":39,\"sql_net\":40,\"time\":41,\"hostnames\":42,\"exec\":43,\"ntp_u\":44,\"discard\":45,\"nntp\":46,\"courier\":47,\"ctf\":48,\"ssh\":49,\"daytime\":50,\"shell\":51,\"netstat\":52,\"pop3\":53,\"nnsp\":54,\"IRC\":55,\"pop_2\":56,\"printer\":57,\"tim_i\":58,\"pm_dump\":59,\"red_i\":60,\"netbios_ssn\":61,\"rje\":62,\"X11\":63,\"urh_i\":64,\"http_8001\":65,\"aol\":66,\"http_2784\":67,\"tftp_u\":68,\"harvest\":69})\n",
    "train.Flag=train.Flag.map({\"SF\":0,\"S0\":1,\"REJ\":2,\"RSTR\":3,\"SH\":4,\"RSTO\":5,\"S1\":6,\"RSTOS0\":7,\"S3\":8,\"S2\":9,\"OTH\":10})"
   ]
  },
  {
   "cell_type": "markdown",
   "id": "f40ddc1d",
   "metadata": {},
   "source": [
    "# Model Building"
   ]
  },
  {
   "cell_type": "code",
   "execution_count": 44,
   "id": "35d477b7",
   "metadata": {},
   "outputs": [],
   "source": [
    "predictors = train[train.columns.difference(['Result'])]"
   ]
  },
  {
   "cell_type": "code",
   "execution_count": 45,
   "id": "08439667",
   "metadata": {},
   "outputs": [],
   "source": [
    "#allocating the targeted columns\n",
    "X=predictors.values\n",
    "#assigning target variable\n",
    "Y=train.Result"
   ]
  },
  {
   "cell_type": "code",
   "execution_count": 46,
   "id": "76e43e19",
   "metadata": {},
   "outputs": [],
   "source": [
    "#using train_test_split function from sklearn to divide the train dataset\n",
    "#importing library\n",
    "from sklearn.model_selection import train_test_split"
   ]
  },
  {
   "cell_type": "code",
   "execution_count": 47,
   "id": "c653bc4f",
   "metadata": {},
   "outputs": [],
   "source": [
    "#split the data into train and cross validation \n",
    "#same train and test sets across different executions hence random_state=0.\n",
    "X_train,X_test,y_train,y_test=train_test_split(X,Y,test_size=0.3,random_state=0)"
   ]
  },
  {
   "cell_type": "code",
   "execution_count": 48,
   "id": "5488ba64",
   "metadata": {},
   "outputs": [],
   "source": [
    "#importing decision tree and accuracy_score from sklearn\n",
    "from sklearn.ensemble import RandomForestClassifier\n",
    "from sklearn.metrics import accuracy_score\n",
    "from sklearn import metrics"
   ]
  },
  {
   "cell_type": "code",
   "execution_count": 49,
   "id": "8bb9da6b",
   "metadata": {},
   "outputs": [],
   "source": [
    "X_train = np.nan_to_num(X_train.astype(np.float32))\n",
    "X_test = np.nan_to_num(X_test.astype(np.float32))"
   ]
  },
  {
   "cell_type": "code",
   "execution_count": 50,
   "id": "2a8348d9",
   "metadata": {},
   "outputs": [],
   "source": [
    "\n",
    "from sklearn.preprocessing import StandardScaler\n",
    "sc = StandardScaler()\n",
    "X_train = sc.fit_transform(X_train)\n",
    "X_test = sc.transform(X_test)"
   ]
  },
  {
   "cell_type": "code",
   "execution_count": 51,
   "id": "c9f7e098",
   "metadata": {},
   "outputs": [],
   "source": [
    "#Stacked Model\n",
    "from sklearn.ensemble import VotingClassifier\n",
    "from sklearn.linear_model import LogisticRegression\n",
    "from sklearn.tree import DecisionTreeClassifier"
   ]
  },
  {
   "cell_type": "code",
   "execution_count": 52,
   "id": "54370ff7",
   "metadata": {},
   "outputs": [],
   "source": [
    "from numpy import mean\n",
    "from numpy import std\n",
    "from sklearn.datasets import make_classification\n",
    "from sklearn.model_selection import cross_val_score\n",
    "from sklearn.model_selection import RepeatedStratifiedKFold\n",
    "from sklearn.tree import DecisionTreeClassifier\n",
    "from sklearn.linear_model import LogisticRegression\n",
    "from sklearn.naive_bayes import GaussianNB\n",
    "from sklearn.neighbors import KNeighborsClassifier\n",
    "from sklearn.svm import SVC\n",
    "from sklearn.model_selection import cross_val_score\n",
    "\n",
    "\n",
    "\n"
   ]
  },
  {
   "cell_type": "code",
   "execution_count": 56,
   "id": "a6fff2c3",
   "metadata": {},
   "outputs": [
    {
     "data": {
      "text/plain": [
       "0.9954633095157083"
      ]
     },
     "execution_count": 56,
     "metadata": {},
     "output_type": "execute_result"
    }
   ],
   "source": [
    "from sklearn.ensemble import BaggingClassifier\n",
    "bag_model=BaggingClassifier(\n",
    "    base_estimator=DecisionTreeClassifier(),\n",
    "    n_estimators=100,\n",
    "    max_samples=0.8,\n",
    "    oob_score=True\n",
    ")\n",
    "bag_model.fit(X_train,y_train)\n",
    "bag_model.oob_score_"
   ]
  },
  {
   "cell_type": "code",
   "execution_count": 57,
   "id": "09d7eb18",
   "metadata": {},
   "outputs": [
    {
     "data": {
      "text/plain": [
       "0.9964276263561789"
      ]
     },
     "execution_count": 57,
     "metadata": {},
     "output_type": "execute_result"
    }
   ],
   "source": [
    "bag_model.score(X_test,y_test)"
   ]
  },
  {
   "cell_type": "code",
   "execution_count": 58,
   "id": "0ff552f6",
   "metadata": {},
   "outputs": [
    {
     "name": "stderr",
     "output_type": "stream",
     "text": [
      "C:\\ProgramData\\Anaconda3\\lib\\site-packages\\sklearn\\model_selection\\_split.py:676: UserWarning: The least populated class in y has only 1 members, which is less than n_splits=5.\n",
      "  warnings.warn(\n"
     ]
    },
    {
     "data": {
      "text/plain": [
       "0.9943290724933546"
      ]
     },
     "execution_count": 58,
     "metadata": {},
     "output_type": "execute_result"
    }
   ],
   "source": [
    "scores=cross_val_score(bag_model,X_train,y_train)\n",
    "scores.mean()\n"
   ]
  },
  {
   "cell_type": "code",
   "execution_count": null,
   "id": "0a1a2383",
   "metadata": {},
   "outputs": [],
   "source": []
  },
  {
   "cell_type": "code",
   "execution_count": null,
   "id": "26d74f69",
   "metadata": {},
   "outputs": [],
   "source": []
  }
 ],
 "metadata": {
  "kernelspec": {
   "display_name": "Python 3 (ipykernel)",
   "language": "python",
   "name": "python3"
  },
  "language_info": {
   "codemirror_mode": {
    "name": "ipython",
    "version": 3
   },
   "file_extension": ".py",
   "mimetype": "text/x-python",
   "name": "python",
   "nbconvert_exporter": "python",
   "pygments_lexer": "ipython3",
   "version": "3.9.12"
  }
 },
 "nbformat": 4,
 "nbformat_minor": 5
}

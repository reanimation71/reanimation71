{
 "cells": [
  {
   "cell_type": "code",
   "execution_count": 1,
   "id": "d8861b52",
   "metadata": {},
   "outputs": [],
   "source": [
    "import numpy as np\n",
    "import pandas as pd\n",
    "%matplotlib inline"
   ]
  },
  {
   "cell_type": "code",
   "execution_count": 2,
   "id": "215c0704",
   "metadata": {},
   "outputs": [],
   "source": [
    "import matplotlib.pyplot as plt"
   ]
  },
  {
   "cell_type": "code",
   "execution_count": 3,
   "id": "74e72af6",
   "metadata": {},
   "outputs": [],
   "source": [
    "%matplotlib inline"
   ]
  },
  {
   "cell_type": "code",
   "execution_count": 4,
   "id": "36266652",
   "metadata": {},
   "outputs": [],
   "source": [
    "df=pd.read_csv(\"Dataset/Train.csv\")"
   ]
  },
  {
   "cell_type": "code",
   "execution_count": 5,
   "id": "fcbacdfb",
   "metadata": {},
   "outputs": [
    {
     "ename": "NameError",
     "evalue": "name 'sns' is not defined",
     "output_type": "error",
     "traceback": [
      "\u001b[1;31m---------------------------------------------------------------------------\u001b[0m",
      "\u001b[1;31mNameError\u001b[0m                                 Traceback (most recent call last)",
      "Input \u001b[1;32mIn [5]\u001b[0m, in \u001b[0;36m<cell line: 2>\u001b[1;34m()\u001b[0m\n\u001b[0;32m      1\u001b[0m df\u001b[38;5;241m.\u001b[39mhead()\n\u001b[1;32m----> 2\u001b[0m \u001b[43msns\u001b[49m\u001b[38;5;241m.\u001b[39mset(rc\u001b[38;5;241m=\u001b[39m{\u001b[38;5;124m'\u001b[39m\u001b[38;5;124mfigure.figsize\u001b[39m\u001b[38;5;124m'\u001b[39m:(\u001b[38;5;241m4\u001b[39m,\u001b[38;5;241m4\u001b[39m)})\n",
      "\u001b[1;31mNameError\u001b[0m: name 'sns' is not defined"
     ]
    }
   ],
   "source": [
    "df.head()\n",
    "sns.set(rc={'figure.figsize':(4,4)})"
   ]
  },
  {
   "cell_type": "code",
   "execution_count": null,
   "id": "2e67f352",
   "metadata": {},
   "outputs": [],
   "source": [
    "numeric_columns=df._get_numeric_data()\n",
    "cat_columns=list(set(df.columns)-set(numeric_columns))"
   ]
  },
  {
   "cell_type": "code",
   "execution_count": null,
   "id": "4e04931a",
   "metadata": {},
   "outputs": [],
   "source": [
    "df.drop(cat_columns,axis=1,inplace=True)"
   ]
  },
  {
   "cell_type": "code",
   "execution_count": null,
   "id": "27bdf931",
   "metadata": {},
   "outputs": [],
   "source": [
    "df"
   ]
  },
  {
   "cell_type": "code",
   "execution_count": null,
   "id": "f00ecc8b",
   "metadata": {},
   "outputs": [],
   "source": [
    "plt.plot(df[\"Duration\"],df[\"Land\"])\n",
    "plt.xlabel(\"XLABEL\")\n",
    "plt.ylabel(\"YLABEL\")\n",
    "plt.title(\"Title\")"
   ]
  },
  {
   "cell_type": "code",
   "execution_count": null,
   "id": "a9fc4276",
   "metadata": {},
   "outputs": [],
   "source": [
    "fig=plt.figure()\n",
    "axes=fig.add_axes([1,1,2,2])\n",
    "axes.plot(df[\"Duration\"],df[\"Land\"])"
   ]
  },
  {
   "cell_type": "code",
   "execution_count": null,
   "id": "31aa8cc2",
   "metadata": {},
   "outputs": [],
   "source": [
    "fig=plt.figure()\n",
    "axes=fig.add_axes([1,1,2,2])\n",
    "axes.plot(df[\"Duration\"],df[\"Land\"])\n",
    "plt.xlabel(\"Duration\")\n",
    "plt.ylabel(\"Land\")\n",
    "plt.title(\"Title\")"
   ]
  },
  {
   "cell_type": "code",
   "execution_count": null,
   "id": "f0fe9211",
   "metadata": {},
   "outputs": [],
   "source": [
    "fig=plt.figure(figsize=(5,5))\n",
    "fig.add_axes([1,1,2,2])"
   ]
  },
  {
   "cell_type": "code",
   "execution_count": null,
   "id": "8cb39999",
   "metadata": {},
   "outputs": [],
   "source": [
    "import seaborn as sns\n",
    "tips=sns.load_dataset('tips')"
   ]
  },
  {
   "cell_type": "code",
   "execution_count": null,
   "id": "406f7aea",
   "metadata": {},
   "outputs": [],
   "source": [
    "tips.head()"
   ]
  },
  {
   "cell_type": "code",
   "execution_count": null,
   "id": "6266b9f5",
   "metadata": {},
   "outputs": [],
   "source": [
    "sns.distplot(tips['tip'],kde=False,bins=50)"
   ]
  },
  {
   "cell_type": "code",
   "execution_count": null,
   "id": "ba8461b6",
   "metadata": {},
   "outputs": [],
   "source": [
    "#sns distplot for only one column\n",
    "#sns jointplot for more than one column"
   ]
  },
  {
   "cell_type": "code",
   "execution_count": null,
   "id": "58f00b5f",
   "metadata": {},
   "outputs": [],
   "source": [
    "sns.jointplot(x='tip',y='size',data=tips)"
   ]
  },
  {
   "cell_type": "code",
   "execution_count": null,
   "id": "981a733a",
   "metadata": {},
   "outputs": [],
   "source": [
    "sns.jointplot(x=\"tip\",y=\"size\",data=tips,kind='kde')"
   ]
  },
  {
   "cell_type": "code",
   "execution_count": null,
   "id": "8fe7578f",
   "metadata": {},
   "outputs": [],
   "source": [
    "import numpy as np"
   ]
  },
  {
   "cell_type": "code",
   "execution_count": null,
   "id": "44939838",
   "metadata": {},
   "outputs": [],
   "source": [
    "import pandas as pd"
   ]
  },
  {
   "cell_type": "code",
   "execution_count": null,
   "id": "9ab18865",
   "metadata": {},
   "outputs": [],
   "source": [
    "df=pd.read_csv(\"Dataset/Train.csv\")"
   ]
  },
  {
   "cell_type": "code",
   "execution_count": null,
   "id": "67c62297",
   "metadata": {},
   "outputs": [],
   "source": [
    "df.head()"
   ]
  },
  {
   "cell_type": "code",
   "execution_count": null,
   "id": "07389424",
   "metadata": {},
   "outputs": [],
   "source": [
    "sns.distplot(df['Duration'])"
   ]
  },
  {
   "cell_type": "code",
   "execution_count": null,
   "id": "d5999290",
   "metadata": {},
   "outputs": [],
   "source": [
    "sns.jointplot(x=\"Duration\",y=\"Service\",data=df)"
   ]
  },
  {
   "cell_type": "code",
   "execution_count": null,
   "id": "48a1878e",
   "metadata": {},
   "outputs": [],
   "source": [
    "#categorical plot"
   ]
  },
  {
   "cell_type": "code",
   "execution_count": null,
   "id": "a00edc53",
   "metadata": {},
   "outputs": [],
   "source": [
    "#This can be used in thesis\n",
    "\n",
    "\n",
    "sns.barplot(x=\"Result\",y=\"Duration\",data=df)"
   ]
  },
  {
   "cell_type": "code",
   "execution_count": null,
   "id": "509b496c",
   "metadata": {},
   "outputs": [],
   "source": [
    "sns.boxplot(x=\"Result\",y=\"Duration\",data=df,hue=\"Land\")\n",
    "#bahira ko point haru outliers ho"
   ]
  },
  {
   "cell_type": "code",
   "execution_count": null,
   "id": "087b2b11",
   "metadata": {},
   "outputs": [],
   "source": [
    "sns.stripplot(x=\"Result\",y=\"Duration\",data=df,jitter=True)"
   ]
  },
  {
   "cell_type": "code",
   "execution_count": null,
   "id": "8bbc5ea0",
   "metadata": {},
   "outputs": [],
   "source": [
    "#matrix plots"
   ]
  },
  {
   "cell_type": "code",
   "execution_count": null,
   "id": "69c4cbb7",
   "metadata": {},
   "outputs": [],
   "source": [
    "df.corr()"
   ]
  },
  {
   "cell_type": "code",
   "execution_count": null,
   "id": "e430c4b3",
   "metadata": {},
   "outputs": [],
   "source": [
    "df.dropna()"
   ]
  },
  {
   "cell_type": "code",
   "execution_count": null,
   "id": "9ec7fd9f",
   "metadata": {},
   "outputs": [],
   "source": [
    "df.corr()"
   ]
  },
  {
   "cell_type": "code",
   "execution_count": null,
   "id": "9de784e4",
   "metadata": {},
   "outputs": [],
   "source": [
    "df.drop(df[\"Num_outbound_cmds\"],axis=0,inplace=True)"
   ]
  },
  {
   "cell_type": "code",
   "execution_count": null,
   "id": "804af6f5",
   "metadata": {},
   "outputs": [],
   "source": [
    "df1=df.corr()"
   ]
  },
  {
   "cell_type": "code",
   "execution_count": null,
   "id": "b176b5a4",
   "metadata": {},
   "outputs": [],
   "source": [
    "sns.heatmap(df1,annot=True)"
   ]
  },
  {
   "cell_type": "code",
   "execution_count": null,
   "id": "2f68e177",
   "metadata": {},
   "outputs": [],
   "source": [
    "numeric_columns=df._get_numeric_data()\n",
    "cat_columns=list(set(df.columns)-set(numeric_columns))\n",
    "cat_columns"
   ]
  },
  {
   "cell_type": "code",
   "execution_count": null,
   "id": "5172d213",
   "metadata": {},
   "outputs": [],
   "source": [
    "df.drop(cat_columns,axis=1,inplace=True)"
   ]
  },
  {
   "cell_type": "code",
   "execution_count": null,
   "id": "3f5aee4e",
   "metadata": {},
   "outputs": [],
   "source": [
    "df"
   ]
  },
  {
   "cell_type": "code",
   "execution_count": null,
   "id": "83723bbc",
   "metadata": {},
   "outputs": [],
   "source": [
    "df.astype(int)"
   ]
  },
  {
   "cell_type": "code",
   "execution_count": null,
   "id": "1dc41cdc",
   "metadata": {},
   "outputs": [],
   "source": [
    "#clustermap to find the clusters\n",
    "#pairgrid for thesis\n"
   ]
  },
  {
   "cell_type": "code",
   "execution_count": null,
   "id": "743669dc",
   "metadata": {},
   "outputs": [],
   "source": [
    "#g=sns.PairGrid(df)\n",
    "#g.map(scatterplot)"
   ]
  },
  {
   "cell_type": "code",
   "execution_count": null,
   "id": "90f89ddb",
   "metadata": {},
   "outputs": [],
   "source": [
    "#sns.set_context(\"poster\",font_scale=3)"
   ]
  },
  {
   "cell_type": "code",
   "execution_count": null,
   "id": "baf201a4",
   "metadata": {},
   "outputs": [],
   "source": [
    "#pandas builtin data visualization"
   ]
  },
  {
   "cell_type": "code",
   "execution_count": null,
   "id": "ef50dd9d",
   "metadata": {},
   "outputs": [],
   "source": [
    "df.plot.area(alpha=0.4)"
   ]
  },
  {
   "cell_type": "code",
   "execution_count": null,
   "id": "75fc036e",
   "metadata": {},
   "outputs": [],
   "source": [
    "#line plot\n",
    "#df.plot.line(x=df.index,y=\"Duration\")"
   ]
  },
  {
   "cell_type": "code",
   "execution_count": null,
   "id": "169c3989",
   "metadata": {},
   "outputs": [],
   "source": [
    "from plotly import __version__"
   ]
  },
  {
   "cell_type": "code",
   "execution_count": null,
   "id": "bfddebb2",
   "metadata": {},
   "outputs": [],
   "source": [
    "print(__version__)"
   ]
  },
  {
   "cell_type": "code",
   "execution_count": null,
   "id": "eee26d49",
   "metadata": {},
   "outputs": [],
   "source": [
    "df3=pd.read_csv(\"Dataset/Train.csv\")"
   ]
  },
  {
   "cell_type": "code",
   "execution_count": null,
   "id": "4b6ed8db",
   "metadata": {},
   "outputs": [],
   "source": []
  },
  {
   "cell_type": "code",
   "execution_count": null,
   "id": "6d5ea004",
   "metadata": {},
   "outputs": [],
   "source": []
  },
  {
   "cell_type": "code",
   "execution_count": null,
   "id": "ce56071b",
   "metadata": {},
   "outputs": [],
   "source": [
    "df3\n"
   ]
  },
  {
   "cell_type": "markdown",
   "id": "37d97b13",
   "metadata": {},
   "source": [
    "!pip install cufflinks"
   ]
  },
  {
   "cell_type": "code",
   "execution_count": null,
   "id": "e340cf78",
   "metadata": {},
   "outputs": [],
   "source": [
    "!pip install cufflinks"
   ]
  },
  {
   "cell_type": "code",
   "execution_count": null,
   "id": "05b4e0f7",
   "metadata": {},
   "outputs": [],
   "source": [
    "import cufflinks as cf"
   ]
  },
  {
   "cell_type": "code",
   "execution_count": null,
   "id": "20697c8f",
   "metadata": {},
   "outputs": [],
   "source": [
    "from plotly.offline import download_plotlyjs,init_notebook_mode,plot,iplot"
   ]
  },
  {
   "cell_type": "code",
   "execution_count": null,
   "id": "244c8351",
   "metadata": {},
   "outputs": [],
   "source": [
    "init_notebook_mode(connected=True)"
   ]
  },
  {
   "cell_type": "code",
   "execution_count": null,
   "id": "a38f4d0c",
   "metadata": {},
   "outputs": [],
   "source": [
    "cf.go_offline()"
   ]
  },
  {
   "cell_type": "code",
   "execution_count": null,
   "id": "37a8d990",
   "metadata": {},
   "outputs": [],
   "source": [
    "df10=pd.DataFrame(np.random.randn(100,4),columns=\"A B C D\".split())"
   ]
  },
  {
   "cell_type": "code",
   "execution_count": null,
   "id": "17ec17cb",
   "metadata": {},
   "outputs": [],
   "source": [
    "df10"
   ]
  },
  {
   "cell_type": "code",
   "execution_count": null,
   "id": "cde99e47",
   "metadata": {},
   "outputs": [],
   "source": [
    "df11=pd.DataFrame({\"Category\":[\"A\",\"B\",\"C\"],\"Values\":[32,43,50]})"
   ]
  },
  {
   "cell_type": "code",
   "execution_count": null,
   "id": "aa55f4cc",
   "metadata": {},
   "outputs": [],
   "source": [
    "df11"
   ]
  },
  {
   "cell_type": "code",
   "execution_count": null,
   "id": "ce57ffcd",
   "metadata": {},
   "outputs": [],
   "source": [
    "%matplotlib inline"
   ]
  },
  {
   "cell_type": "code",
   "execution_count": null,
   "id": "78efae90",
   "metadata": {},
   "outputs": [],
   "source": [
    "df10.iplot"
   ]
  },
  {
   "cell_type": "code",
   "execution_count": null,
   "id": "30ee8ec7",
   "metadata": {},
   "outputs": [],
   "source": []
  }
 ],
 "metadata": {
  "kernelspec": {
   "display_name": "Python 3 (ipykernel)",
   "language": "python",
   "name": "python3"
  },
  "language_info": {
   "codemirror_mode": {
    "name": "ipython",
    "version": 3
   },
   "file_extension": ".py",
   "mimetype": "text/x-python",
   "name": "python",
   "nbconvert_exporter": "python",
   "pygments_lexer": "ipython3",
   "version": "3.9.12"
  }
 },
 "nbformat": 4,
 "nbformat_minor": 5
}

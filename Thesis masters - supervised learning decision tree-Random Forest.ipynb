{
 "cells": [
  {
   "cell_type": "code",
   "execution_count": 1,
   "id": "d5585981",
   "metadata": {},
   "outputs": [],
   "source": [
    "#Importing libraries\n",
    "import numpy as np\n",
    "import pandas as pd\n",
    "pd.set_option('display.max_columns', None)\n",
    "import matplotlib.pyplot as plt\n",
    "import seaborn as sns\n",
    "import time"
   ]
  },
  {
   "cell_type": "code",
   "execution_count": 2,
   "id": "38a2796d",
   "metadata": {},
   "outputs": [],
   "source": [
    "#loading the train data and test data\n",
    "train=pd.read_csv(\"Dataset/Train.csv\")\n",
    "test=pd.read_csv(\"Dataset/Test.csv\")"
   ]
  },
  {
   "cell_type": "code",
   "execution_count": 3,
   "id": "bba5e7ee",
   "metadata": {},
   "outputs": [],
   "source": [
    "train.replace([np.inf, -np.inf], np.nan, inplace=True)"
   ]
  },
  {
   "cell_type": "code",
   "execution_count": 4,
   "id": "1b6920eb",
   "metadata": {},
   "outputs": [],
   "source": [
    "train=train.dropna(subset=['Service'])"
   ]
  },
  {
   "cell_type": "code",
   "execution_count": 5,
   "id": "d63c367b",
   "metadata": {},
   "outputs": [
    {
     "data": {
      "text/plain": [
       "['Protocol_type', 'Service', 'Flag']"
      ]
     },
     "execution_count": 5,
     "metadata": {},
     "output_type": "execute_result"
    }
   ],
   "source": [
    "#finding categoritcal features\n",
    "numeric_columns=train._get_numeric_data().columns\n",
    "categorical_columns=list(set(train.columns)-set(numeric_columns))\n",
    "categorical_columns.remove('Result')\n",
    "categorical_columns"
   ]
  },
  {
   "cell_type": "code",
   "execution_count": 6,
   "id": "61500268",
   "metadata": {},
   "outputs": [],
   "source": [
    "#converting categorical values into numeric \n",
    "#can be done in this way as well\n",
    "#from sklearn import preprocessing\n",
    "#label_encoder=preprocessing.LabelEncoder()\n",
    "#train['Result']=label_encoder.fit_transform(train['Result'])\n",
    "train.Protocol_type=train.Protocol_type.map({\"tcp\":0,\"udp\":1,\"icmp\":2})\n",
    "train.Service=train.Service.map({\"ftp_data\":0,\"other\":1,\"private\":2,\"http\":3,\"remote_job\":4,\"name\":5,\"netbios_dgm\":6,\"eco_i\":7,\"mtp\":8,\"telnet\":9,\"finger\":10,\"domain_u\":11,\"supdup\":12,\"uucp_path\":13,\"Z39_50\":14,\"smtp\":15,\"csnet_ns\":16,\"uucp\":17,\"netbios_dgm\":18,\"urp_i\":19,\"auth\":20,\"domain\":21,\"ftp\":22,\"bgp\":23,\"ldap\":24,\"ecr_i\":25,\"gopher\":26,\"vmnet\":27,\"systat\":28,\"http_433\":29,\"efs\":30,\"whois\":31,\"imap4\":32,\"iso_tsap\":33,\"echo\":34,\"klogin\":35,\"link\":36,\"sunrpc\":37,\"login\":38,\"kshell\":39,\"sql_net\":40,\"time\":41,\"hostnames\":42,\"exec\":43,\"ntp_u\":44,\"discard\":45,\"nntp\":46,\"courier\":47,\"ctf\":48,\"ssh\":49,\"daytime\":50,\"shell\":51,\"netstat\":52,\"pop3\":53,\"nnsp\":54,\"IRC\":55,\"pop_2\":56,\"printer\":57,\"tim_i\":58,\"pm_dump\":59,\"red_i\":60,\"netbios_ssn\":61,\"rje\":62,\"X11\":63,\"urh_i\":64,\"http_8001\":65,\"aol\":66,\"http_2784\":67,\"tftp_u\":68,\"harvest\":69})\n",
    "train.Flag=train.Flag.map({\"SF\":0,\"S0\":1,\"REJ\":2,\"RSTR\":3,\"SH\":4,\"RSTO\":5,\"S1\":6,\"RSTOS0\":7,\"S3\":8,\"S2\":9,\"OTH\":10})"
   ]
  },
  {
   "cell_type": "code",
   "execution_count": 7,
   "id": "252433b4",
   "metadata": {},
   "outputs": [],
   "source": [
    "predictors = train[train.columns.difference(['Result'])]"
   ]
  },
  {
   "cell_type": "code",
   "execution_count": 8,
   "id": "74741213",
   "metadata": {},
   "outputs": [],
   "source": [
    "#allocating the targeted columns\n",
    "X=predictors.values\n",
    "#assigning target variable\n",
    "Y=train.Result"
   ]
  },
  {
   "cell_type": "code",
   "execution_count": 9,
   "id": "8a334598",
   "metadata": {},
   "outputs": [],
   "source": [
    "#using train_test_split function from sklearn to divide the train dataset\n",
    "#importing library\n",
    "from sklearn.model_selection import train_test_split"
   ]
  },
  {
   "cell_type": "code",
   "execution_count": 10,
   "id": "5b36e2e8",
   "metadata": {},
   "outputs": [],
   "source": [
    "#split the data into train and cross validation \n",
    "#same train and test sets across different executions hence random_state=0.\n",
    "X_train,X_test,y_train,y_test=train_test_split(X,Y,test_size=0.3,random_state=0)"
   ]
  },
  {
   "cell_type": "code",
   "execution_count": 11,
   "id": "e46414da",
   "metadata": {},
   "outputs": [
    {
     "data": {
      "text/plain": [
       "((88181, 41), (37792, 41), (88181,), (37792,))"
      ]
     },
     "execution_count": 11,
     "metadata": {},
     "output_type": "execute_result"
    }
   ],
   "source": [
    "#shaping the dimension of the data\n",
    "X_train.shape,X_test.shape,y_train.shape,y_test.shape"
   ]
  },
  {
   "cell_type": "code",
   "execution_count": 12,
   "id": "7825f557",
   "metadata": {},
   "outputs": [],
   "source": [
    "#importing decision tree and accuracy_score from sklearn\n",
    "from sklearn.ensemble import RandomForestClassifier\n",
    "from sklearn.metrics import accuracy_score\n",
    "from sklearn import metrics\n"
   ]
  },
  {
   "cell_type": "code",
   "execution_count": 13,
   "id": "298af6bb",
   "metadata": {},
   "outputs": [
    {
     "data": {
      "text/plain": [
       "0"
      ]
     },
     "execution_count": 13,
     "metadata": {},
     "output_type": "execute_result"
    }
   ],
   "source": [
    "\n",
    "np.isnan(X_train).sum()\n",
    "\n",
    "\n",
    "np.isinf(X_train).sum()\n"
   ]
  },
  {
   "cell_type": "code",
   "execution_count": 14,
   "id": "a78cb948",
   "metadata": {},
   "outputs": [],
   "source": [
    "X_train = np.nan_to_num(X_train.astype(np.float32))\n",
    "X_test = np.nan_to_num(X_test.astype(np.float32))"
   ]
  },
  {
   "cell_type": "code",
   "execution_count": 15,
   "id": "8af85f0e",
   "metadata": {},
   "outputs": [
    {
     "data": {
      "text/plain": [
       "RandomForestClassifier(n_estimators=20, random_state=0)"
      ]
     },
     "execution_count": 15,
     "metadata": {},
     "output_type": "execute_result"
    }
   ],
   "source": [
    " \n",
    "model=RandomForestClassifier(n_estimators=20,random_state=0)\n",
    "model.fit(X_train,y_train)"
   ]
  },
  {
   "cell_type": "code",
   "execution_count": 16,
   "id": "e1e1babf",
   "metadata": {},
   "outputs": [],
   "source": [
    "#X_test = test[predictors].values\n",
    "predicted= model.predict(X_test)"
   ]
  },
  {
   "cell_type": "code",
   "execution_count": 17,
   "id": "1dd8c1e0",
   "metadata": {},
   "outputs": [
    {
     "name": "stdout",
     "output_type": "stream",
     "text": [
      "[[  308     0     0     0     0     0     0     0     0     0     0     0\n",
      "      0     0     0     0     0     0     0     0     0]\n",
      " [    0     9     0     0     0     0     0     0     0     0     2     0\n",
      "      0     0     0     0     0     0     0     0     0]\n",
      " [    0     0     1     0     0     0     0     0     0     0     1     0\n",
      "      0     0     0     0     0     0     0     0     0]\n",
      " [    0     0     0    19     0     0     0     0     0     0     2     0\n",
      "      0     0     0     0     0     0     0     0     0]\n",
      " [    0     0     0     0     4     0     0     0     0     0     0     0\n",
      "      0     0     0     0     0     0     0     0     0]\n",
      " [    0     0     0     0     0  1065     0     0     0     5     1     0\n",
      "      0     0     0     0     0     0     0     0     0]\n",
      " [    0     0     0     0     0     0     2     0     1     0     2     0\n",
      "      0     0     0     0     0     0     0     0     0]\n",
      " [    0     1     0     0     0     0     0     1     0     0     0     0\n",
      "      0     0     0     0     0     0     0     0     1]\n",
      " [    0     0     0     0     0     0     0     0 12339     0     0     0\n",
      "      0     0     0     0     0     0     0     0     0]\n",
      " [    0     0     0     0     0     2     0     0     0   462     3     0\n",
      "      0     0     0     0     0     0     0     0     0]\n",
      " [    0     1     0     0     0     0     1     0     2     0 20151     0\n",
      "      0     0     0     4     0     0     0     2     0]\n",
      " [    0     0     0     0     0     0     0     0     0     0     1     0\n",
      "      0     0     0     0     0     0     0     0     0]\n",
      " [    0     0     0     0     0     0     0     0     0     0     0     0\n",
      "     64     0     0     0     0     0     0     0     0]\n",
      " [    0     0     0     0     0     1     0     0     1     0     4     0\n",
      "      0   927     0     1     0     0     0     0     0]\n",
      " [    0     0     0     0     0     0     0     0     0     0     4     0\n",
      "      0     0     0     0     0     0     0     0     0]\n",
      " [    0     0     0     0     0     0     0     0     0     0     6     0\n",
      "      0     2     0  1077     0     0     0     0     0]\n",
      " [    0     0     0     0     0     0     0     0     0     0     1     0\n",
      "      0     0     0     0   769     0     0     0     0]\n",
      " [    0     0     0     0     0     0     0     0     0     0     1     0\n",
      "      0     0     0     0     0     0     0     0     0]\n",
      " [    0     0     0     0     0     0     0     0     0     0     0     0\n",
      "      0     0     0     1     0     0   241     0     0]\n",
      " [    0     0     0     0     0     0     0     0     0     0     9     0\n",
      "      0     0     0     0     0     0     0   279     0]\n",
      " [    0     0     0     0     0     0     0     0     0     0     1     0\n",
      "      0     0     0     0     0     0     0     0    10]]\n"
     ]
    },
    {
     "name": "stderr",
     "output_type": "stream",
     "text": [
      "C:\\ProgramData\\Anaconda3\\lib\\site-packages\\sklearn\\metrics\\_classification.py:1318: UndefinedMetricWarning: Precision and F-score are ill-defined and being set to 0.0 in labels with no predicted samples. Use `zero_division` parameter to control this behavior.\n",
      "  _warn_prf(average, modifier, msg_start, len(result))\n",
      "C:\\ProgramData\\Anaconda3\\lib\\site-packages\\sklearn\\metrics\\_classification.py:1318: UndefinedMetricWarning: Precision and F-score are ill-defined and being set to 0.0 in labels with no predicted samples. Use `zero_division` parameter to control this behavior.\n",
      "  _warn_prf(average, modifier, msg_start, len(result))\n"
     ]
    },
    {
     "name": "stdout",
     "output_type": "stream",
     "text": [
      "                 precision    recall  f1-score   support\n",
      "\n",
      "           back       1.00      1.00      1.00       308\n",
      "buffer_overflow       0.82      0.82      0.82        11\n",
      "      ftp_write       1.00      0.50      0.67         2\n",
      "   guess_passwd       1.00      0.90      0.95        21\n",
      "           imap       1.00      1.00      1.00         4\n",
      "        ipsweep       1.00      0.99      1.00      1071\n",
      "           land       0.67      0.40      0.50         5\n",
      "       multihop       1.00      0.33      0.50         3\n",
      "        neptune       1.00      1.00      1.00     12339\n",
      "           nmap       0.99      0.99      0.99       467\n",
      "         normal       1.00      1.00      1.00     20161\n",
      "           perl       0.00      0.00      0.00         1\n",
      "            pod       1.00      1.00      1.00        64\n",
      "      portsweep       1.00      0.99      1.00       934\n",
      "        rootkit       0.00      0.00      0.00         4\n",
      "          satan       0.99      0.99      0.99      1085\n",
      "          smurf       1.00      1.00      1.00       770\n",
      "            spy       0.00      0.00      0.00         1\n",
      "       teardrop       1.00      1.00      1.00       242\n",
      "    warezclient       0.99      0.97      0.98       288\n",
      "    warezmaster       0.91      0.91      0.91        11\n",
      "\n",
      "       accuracy                           1.00     37792\n",
      "      macro avg       0.83      0.75      0.78     37792\n",
      "   weighted avg       1.00      1.00      1.00     37792\n",
      "\n",
      "0.9983065198983911\n"
     ]
    },
    {
     "name": "stderr",
     "output_type": "stream",
     "text": [
      "C:\\ProgramData\\Anaconda3\\lib\\site-packages\\sklearn\\metrics\\_classification.py:1318: UndefinedMetricWarning: Precision and F-score are ill-defined and being set to 0.0 in labels with no predicted samples. Use `zero_division` parameter to control this behavior.\n",
      "  _warn_prf(average, modifier, msg_start, len(result))\n"
     ]
    }
   ],
   "source": [
    "from sklearn.metrics import classification_report, confusion_matrix, accuracy_score\n",
    "\n",
    "print(confusion_matrix(y_test,predicted))\n",
    "print(classification_report(y_test,predicted))\n",
    "print(accuracy_score(y_test, predicted))"
   ]
  },
  {
   "cell_type": "code",
   "execution_count": 18,
   "id": "c060c9a7",
   "metadata": {},
   "outputs": [
    {
     "data": {
      "text/plain": [
       "0.9983065198983911"
      ]
     },
     "execution_count": 18,
     "metadata": {},
     "output_type": "execute_result"
    }
   ],
   "source": [
    "accuracy_score(y_test,predicted)"
   ]
  },
  {
   "cell_type": "code",
   "execution_count": 19,
   "id": "2aad604b",
   "metadata": {},
   "outputs": [],
   "source": [
    "confusion_matrix=metrics.confusion_matrix(y_test,predicted)"
   ]
  },
  {
   "cell_type": "code",
   "execution_count": 20,
   "id": "f00dc6ff",
   "metadata": {},
   "outputs": [],
   "source": [
    "FP = confusion_matrix.sum(axis=0) - np.diag(confusion_matrix)  \n",
    "FN = confusion_matrix.sum(axis=1) - np.diag(confusion_matrix)\n",
    "TP = np.diag(confusion_matrix)\n",
    "TN = confusion_matrix.sum() - (FP + FN + TP)"
   ]
  },
  {
   "cell_type": "code",
   "execution_count": 21,
   "id": "09af5a05",
   "metadata": {},
   "outputs": [],
   "source": [
    "FP_rate=FP/(FP+TN)"
   ]
  },
  {
   "cell_type": "code",
   "execution_count": 22,
   "id": "9bb45acf",
   "metadata": {},
   "outputs": [
    {
     "data": {
      "text/plain": [
       "array([0.00000000e+00, 5.29366613e-05, 0.00000000e+00, 0.00000000e+00,\n",
       "       0.00000000e+00, 8.16971215e-05, 2.64641279e-05, 0.00000000e+00,\n",
       "       1.57152399e-04, 1.33958473e-04, 2.15529465e-03, 0.00000000e+00,\n",
       "       0.00000000e+00, 5.42623040e-05, 0.00000000e+00, 1.63456561e-04,\n",
       "       0.00000000e+00, 0.00000000e+00, 0.00000000e+00, 5.33276451e-05,\n",
       "       2.64683306e-05])"
      ]
     },
     "execution_count": 22,
     "metadata": {},
     "output_type": "execute_result"
    }
   ],
   "source": [
    "FP_rate"
   ]
  },
  {
   "cell_type": "code",
   "execution_count": 23,
   "id": "bcafa923",
   "metadata": {},
   "outputs": [
    {
     "data": {
      "text/plain": [
       "RandomForestClassifier(random_state=0)"
      ]
     },
     "execution_count": 23,
     "metadata": {},
     "output_type": "execute_result"
    }
   ],
   "source": [
    "from sklearn.preprocessing import StandardScaler\n",
    "sc = StandardScaler()\n",
    "X_train = sc.fit_transform(X_train)\n",
    "X_test = sc.transform(X_test)\n",
    "model1=RandomForestClassifier(n_estimators=100,random_state=0)\n",
    "model1.fit(X_train,y_train)"
   ]
  },
  {
   "cell_type": "code",
   "execution_count": 24,
   "id": "cbb3476f",
   "metadata": {},
   "outputs": [],
   "source": [
    "predicted1=model1.predict(X_test)"
   ]
  },
  {
   "cell_type": "code",
   "execution_count": 25,
   "id": "57fad198",
   "metadata": {},
   "outputs": [],
   "source": [
    "accuracy1=accuracy_score(y_test,predicted1)"
   ]
  },
  {
   "cell_type": "code",
   "execution_count": 26,
   "id": "0042eb10",
   "metadata": {},
   "outputs": [
    {
     "data": {
      "text/plain": [
       "0.99854466553768"
      ]
     },
     "execution_count": 26,
     "metadata": {},
     "output_type": "execute_result"
    }
   ],
   "source": [
    "accuracy1"
   ]
  },
  {
   "cell_type": "code",
   "execution_count": 27,
   "id": "ac0e6ba3",
   "metadata": {},
   "outputs": [
    {
     "data": {
      "text/plain": [
       "RandomForestClassifier(n_estimators=50, random_state=0)"
      ]
     },
     "execution_count": 27,
     "metadata": {},
     "output_type": "execute_result"
    }
   ],
   "source": [
    "from sklearn.preprocessing import StandardScaler\n",
    "sc = StandardScaler()\n",
    "X_train = sc.fit_transform(X_train)\n",
    "X_test = sc.transform(X_test)\n",
    "model2=RandomForestClassifier(n_estimators=50,random_state=0)\n",
    "model2.fit(X_train,y_train)"
   ]
  },
  {
   "cell_type": "code",
   "execution_count": 28,
   "id": "231a671d",
   "metadata": {},
   "outputs": [],
   "source": [
    "predicted2=model2.predict(X_test)"
   ]
  },
  {
   "cell_type": "code",
   "execution_count": 29,
   "id": "e5c0ef76",
   "metadata": {},
   "outputs": [],
   "source": [
    "accuracy2=accuracy_score(y_test,predicted2)"
   ]
  },
  {
   "cell_type": "code",
   "execution_count": 30,
   "id": "e8948018",
   "metadata": {},
   "outputs": [
    {
     "data": {
      "text/plain": [
       "0.998465283657917"
      ]
     },
     "execution_count": 30,
     "metadata": {},
     "output_type": "execute_result"
    }
   ],
   "source": [
    "accuracy2"
   ]
  },
  {
   "cell_type": "code",
   "execution_count": null,
   "id": "d20329ad",
   "metadata": {},
   "outputs": [],
   "source": []
  }
 ],
 "metadata": {
  "kernelspec": {
   "display_name": "Python 3 (ipykernel)",
   "language": "python",
   "name": "python3"
  },
  "language_info": {
   "codemirror_mode": {
    "name": "ipython",
    "version": 3
   },
   "file_extension": ".py",
   "mimetype": "text/x-python",
   "name": "python",
   "nbconvert_exporter": "python",
   "pygments_lexer": "ipython3",
   "version": "3.9.12"
  }
 },
 "nbformat": 4,
 "nbformat_minor": 5
}

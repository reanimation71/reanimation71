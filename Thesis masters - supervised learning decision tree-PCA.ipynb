{
 "cells": [
  {
   "cell_type": "code",
   "execution_count": 1,
   "id": "d5585981",
   "metadata": {},
   "outputs": [],
   "source": [
    "#Importing libraries\n",
    "import numpy as np\n",
    "import pandas as pd\n",
    "pd.set_option('display.max_columns', None)\n",
    "import matplotlib.pyplot as plt\n",
    "import seaborn as sns\n",
    "import time"
   ]
  },
  {
   "cell_type": "code",
   "execution_count": 2,
   "id": "38a2796d",
   "metadata": {},
   "outputs": [],
   "source": [
    "#loading the train data and test data\n",
    "train=pd.read_csv(\"Dataset/Train.csv\")\n",
    "test=pd.read_csv(\"Dataset/Test.csv\")"
   ]
  },
  {
   "cell_type": "code",
   "execution_count": 3,
   "id": "bba5e7ee",
   "metadata": {},
   "outputs": [],
   "source": [
    "train.replace([np.inf, -np.inf], np.nan, inplace=True)"
   ]
  },
  {
   "cell_type": "code",
   "execution_count": 4,
   "id": "1b6920eb",
   "metadata": {},
   "outputs": [],
   "source": [
    "train=train.dropna(subset=['Service'])"
   ]
  },
  {
   "cell_type": "code",
   "execution_count": 5,
   "id": "9f396124",
   "metadata": {},
   "outputs": [
    {
     "data": {
      "text/plain": [
       "['Flag', 'Service', 'Protocol_type']"
      ]
     },
     "execution_count": 5,
     "metadata": {},
     "output_type": "execute_result"
    }
   ],
   "source": [
    "#finding categoritcal features\n",
    "numeric_columns=train._get_numeric_data().columns\n",
    "categorical_columns=list(set(train.columns)-set(numeric_columns))\n",
    "categorical_columns.remove('Result')\n",
    "categorical_columns"
   ]
  },
  {
   "cell_type": "code",
   "execution_count": 6,
   "id": "31ccc24f",
   "metadata": {},
   "outputs": [],
   "source": [
    "#converting categorical values into numeric \n",
    "#can be done in this way as well\n",
    "#from sklearn import preprocessing\n",
    "#label_encoder=preprocessing.LabelEncoder()\n",
    "#train['Flag']=label_encoder.fit_transform(train['Flag'])\n",
    "train.Protocol_type=train.Protocol_type.map({\"tcp\":0,\"udp\":1,\"icmp\":2})\n",
    "train.Service=train.Service.map({\"ftp_data\":0,\"other\":1,\"private\":2,\"http\":3,\"remote_job\":4,\"name\":5,\"netbios_dgm\":6,\"eco_i\":7,\"mtp\":8,\"telnet\":9,\"finger\":10,\"domain_u\":11,\"supdup\":12,\"uucp_path\":13,\"Z39_50\":14,\"smtp\":15,\"csnet_ns\":16,\"uucp\":17,\"netbios_dgm\":18,\"urp_i\":19,\"auth\":20,\"domain\":21,\"ftp\":22,\"bgp\":23,\"ldap\":24,\"ecr_i\":25,\"gopher\":26,\"vmnet\":27,\"systat\":28,\"http_433\":29,\"efs\":30,\"whois\":31,\"imap4\":32,\"iso_tsap\":33,\"echo\":34,\"klogin\":35,\"link\":36,\"sunrpc\":37,\"login\":38,\"kshell\":39,\"sql_net\":40,\"time\":41,\"hostnames\":42,\"exec\":43,\"ntp_u\":44,\"discard\":45,\"nntp\":46,\"courier\":47,\"ctf\":48,\"ssh\":49,\"daytime\":50,\"shell\":51,\"netstat\":52,\"pop3\":53,\"nnsp\":54,\"IRC\":55,\"pop_2\":56,\"printer\":57,\"tim_i\":58,\"pm_dump\":59,\"red_i\":60,\"netbios_ssn\":61,\"rje\":62,\"X11\":63,\"urh_i\":64,\"http_8001\":65,\"aol\":66,\"http_2784\":67,\"tftp_u\":68,\"harvest\":69})\n",
    "train.Flag=train.Flag.map({\"SF\":0,\"S0\":1,\"REJ\":2,\"RSTR\":3,\"SH\":4,\"RSTO\":5,\"S1\":6,\"RSTOS0\":7,\"S3\":8,\"S2\":9,\"OTH\":10})"
   ]
  },
  {
   "cell_type": "code",
   "execution_count": null,
   "id": "55f69bfd",
   "metadata": {},
   "outputs": [],
   "source": []
  },
  {
   "cell_type": "code",
   "execution_count": null,
   "id": "0edde730",
   "metadata": {},
   "outputs": [],
   "source": []
  },
  {
   "cell_type": "markdown",
   "id": "f40ddc1d",
   "metadata": {},
   "source": [
    "# Model Building"
   ]
  },
  {
   "cell_type": "code",
   "execution_count": 7,
   "id": "91563b20",
   "metadata": {},
   "outputs": [
    {
     "data": {
      "text/plain": [
       "Index(['Duration', 'Protocol_type', 'Service', 'Flag', 'Src_bytes',\n",
       "       'Dst_bytes', 'Land', 'Wrong_fragment', 'Urgent', 'Hot',\n",
       "       'Num_failed_logins', 'Logged_in', 'Num_compromised', 'Root_shell',\n",
       "       'Su_attempted', 'Num_root', 'Num_file_creations', 'Num_shells',\n",
       "       'Num_access_files', 'Num_outbound_cmds', 'Is_hot_login',\n",
       "       'Is_guest_login', 'Count', 'Srv_count', 'Serror_rate',\n",
       "       'Srv_serror_rate', 'Rerror_rate', 'Srv_error_rate', 'Same_srv_rate',\n",
       "       'Diff_srv_rate', 'Srv_diff_host_ rate', 'Dst_host_count',\n",
       "       'Dst_host_srv_count', 'Dst_host_same\\n_srv_rate',\n",
       "       'Dst_host_diff_ srv_rate', 'Dst_host_same _src_port_rate',\n",
       "       'Dst_host_srv_ diff_host_rate', 'Dst_host_serro r_rate',\n",
       "       'Dst_host_srv_s error_rate', 'Dst_host_rerro r_rate',\n",
       "       'Dst_host_srv_r error_rate', 'Result'],\n",
       "      dtype='object')"
      ]
     },
     "execution_count": 7,
     "metadata": {},
     "output_type": "execute_result"
    }
   ],
   "source": [
    "train.columns"
   ]
  },
  {
   "cell_type": "code",
   "execution_count": 8,
   "id": "252433b4",
   "metadata": {},
   "outputs": [],
   "source": [
    "predictors = train[train.columns.difference(['Result'])]"
   ]
  },
  {
   "cell_type": "code",
   "execution_count": 9,
   "id": "eabf78d6",
   "metadata": {},
   "outputs": [
    {
     "data": {
      "text/plain": [
       "Index(['Count', 'Diff_srv_rate', 'Dst_bytes', 'Dst_host_count',\n",
       "       'Dst_host_diff_ srv_rate', 'Dst_host_rerro r_rate',\n",
       "       'Dst_host_same\\n_srv_rate', 'Dst_host_same _src_port_rate',\n",
       "       'Dst_host_serro r_rate', 'Dst_host_srv_ diff_host_rate',\n",
       "       'Dst_host_srv_count', 'Dst_host_srv_r error_rate',\n",
       "       'Dst_host_srv_s error_rate', 'Duration', 'Flag', 'Hot',\n",
       "       'Is_guest_login', 'Is_hot_login', 'Land', 'Logged_in',\n",
       "       'Num_access_files', 'Num_compromised', 'Num_failed_logins',\n",
       "       'Num_file_creations', 'Num_outbound_cmds', 'Num_root', 'Num_shells',\n",
       "       'Protocol_type', 'Rerror_rate', 'Root_shell', 'Same_srv_rate',\n",
       "       'Serror_rate', 'Service', 'Src_bytes', 'Srv_count',\n",
       "       'Srv_diff_host_ rate', 'Srv_error_rate', 'Srv_serror_rate',\n",
       "       'Su_attempted', 'Urgent', 'Wrong_fragment'],\n",
       "      dtype='object')"
      ]
     },
     "execution_count": 9,
     "metadata": {},
     "output_type": "execute_result"
    }
   ],
   "source": [
    "predictors.columns"
   ]
  },
  {
   "cell_type": "code",
   "execution_count": 10,
   "id": "235908ec",
   "metadata": {},
   "outputs": [
    {
     "data": {
      "text/plain": [
       "(125973, 41)"
      ]
     },
     "execution_count": 10,
     "metadata": {},
     "output_type": "execute_result"
    }
   ],
   "source": [
    "predictors.shape"
   ]
  },
  {
   "cell_type": "code",
   "execution_count": 11,
   "id": "0a752621",
   "metadata": {},
   "outputs": [
    {
     "data": {
      "text/html": [
       "<div>\n",
       "<style scoped>\n",
       "    .dataframe tbody tr th:only-of-type {\n",
       "        vertical-align: middle;\n",
       "    }\n",
       "\n",
       "    .dataframe tbody tr th {\n",
       "        vertical-align: top;\n",
       "    }\n",
       "\n",
       "    .dataframe thead th {\n",
       "        text-align: right;\n",
       "    }\n",
       "</style>\n",
       "<table border=\"1\" class=\"dataframe\">\n",
       "  <thead>\n",
       "    <tr style=\"text-align: right;\">\n",
       "      <th></th>\n",
       "      <th>Count</th>\n",
       "      <th>Diff_srv_rate</th>\n",
       "      <th>Dst_bytes</th>\n",
       "      <th>Dst_host_count</th>\n",
       "      <th>Dst_host_diff_ srv_rate</th>\n",
       "      <th>Dst_host_rerro r_rate</th>\n",
       "      <th>Dst_host_same\\n_srv_rate</th>\n",
       "      <th>Dst_host_same _src_port_rate</th>\n",
       "      <th>Dst_host_serro r_rate</th>\n",
       "      <th>Dst_host_srv_ diff_host_rate</th>\n",
       "      <th>Dst_host_srv_count</th>\n",
       "      <th>Dst_host_srv_r error_rate</th>\n",
       "      <th>Dst_host_srv_s error_rate</th>\n",
       "      <th>Duration</th>\n",
       "      <th>Flag</th>\n",
       "      <th>Hot</th>\n",
       "      <th>Is_guest_login</th>\n",
       "      <th>Is_hot_login</th>\n",
       "      <th>Land</th>\n",
       "      <th>Logged_in</th>\n",
       "      <th>Num_access_files</th>\n",
       "      <th>Num_compromised</th>\n",
       "      <th>Num_failed_logins</th>\n",
       "      <th>Num_file_creations</th>\n",
       "      <th>Num_outbound_cmds</th>\n",
       "      <th>Num_root</th>\n",
       "      <th>Num_shells</th>\n",
       "      <th>Protocol_type</th>\n",
       "      <th>Rerror_rate</th>\n",
       "      <th>Root_shell</th>\n",
       "      <th>Same_srv_rate</th>\n",
       "      <th>Serror_rate</th>\n",
       "      <th>Service</th>\n",
       "      <th>Src_bytes</th>\n",
       "      <th>Srv_count</th>\n",
       "      <th>Srv_diff_host_ rate</th>\n",
       "      <th>Srv_error_rate</th>\n",
       "      <th>Srv_serror_rate</th>\n",
       "      <th>Su_attempted</th>\n",
       "      <th>Urgent</th>\n",
       "      <th>Wrong_fragment</th>\n",
       "    </tr>\n",
       "  </thead>\n",
       "  <tbody>\n",
       "    <tr>\n",
       "      <th>0</th>\n",
       "      <td>2</td>\n",
       "      <td>0.00</td>\n",
       "      <td>0</td>\n",
       "      <td>150</td>\n",
       "      <td>0.03</td>\n",
       "      <td>0.05</td>\n",
       "      <td>0.17</td>\n",
       "      <td>0.17</td>\n",
       "      <td>0.00</td>\n",
       "      <td>0.00</td>\n",
       "      <td>25</td>\n",
       "      <td>0.00</td>\n",
       "      <td>0.00</td>\n",
       "      <td>0</td>\n",
       "      <td>0</td>\n",
       "      <td>0</td>\n",
       "      <td>0</td>\n",
       "      <td>0</td>\n",
       "      <td>0</td>\n",
       "      <td>0</td>\n",
       "      <td>0</td>\n",
       "      <td>0</td>\n",
       "      <td>0</td>\n",
       "      <td>0</td>\n",
       "      <td>0</td>\n",
       "      <td>0</td>\n",
       "      <td>0</td>\n",
       "      <td>0</td>\n",
       "      <td>0.0</td>\n",
       "      <td>0</td>\n",
       "      <td>1.00</td>\n",
       "      <td>0.0</td>\n",
       "      <td>0.0</td>\n",
       "      <td>491</td>\n",
       "      <td>2</td>\n",
       "      <td>0.00</td>\n",
       "      <td>0.0</td>\n",
       "      <td>0.0</td>\n",
       "      <td>0</td>\n",
       "      <td>0</td>\n",
       "      <td>0</td>\n",
       "    </tr>\n",
       "    <tr>\n",
       "      <th>1</th>\n",
       "      <td>13</td>\n",
       "      <td>0.15</td>\n",
       "      <td>0</td>\n",
       "      <td>255</td>\n",
       "      <td>0.60</td>\n",
       "      <td>0.00</td>\n",
       "      <td>0.00</td>\n",
       "      <td>0.88</td>\n",
       "      <td>0.00</td>\n",
       "      <td>0.00</td>\n",
       "      <td>1</td>\n",
       "      <td>0.00</td>\n",
       "      <td>0.00</td>\n",
       "      <td>0</td>\n",
       "      <td>0</td>\n",
       "      <td>0</td>\n",
       "      <td>0</td>\n",
       "      <td>0</td>\n",
       "      <td>0</td>\n",
       "      <td>0</td>\n",
       "      <td>0</td>\n",
       "      <td>0</td>\n",
       "      <td>0</td>\n",
       "      <td>0</td>\n",
       "      <td>0</td>\n",
       "      <td>0</td>\n",
       "      <td>0</td>\n",
       "      <td>1</td>\n",
       "      <td>0.0</td>\n",
       "      <td>0</td>\n",
       "      <td>0.08</td>\n",
       "      <td>0.0</td>\n",
       "      <td>1.0</td>\n",
       "      <td>146</td>\n",
       "      <td>1</td>\n",
       "      <td>0.00</td>\n",
       "      <td>0.0</td>\n",
       "      <td>0.0</td>\n",
       "      <td>0</td>\n",
       "      <td>0</td>\n",
       "      <td>0</td>\n",
       "    </tr>\n",
       "    <tr>\n",
       "      <th>2</th>\n",
       "      <td>123</td>\n",
       "      <td>0.07</td>\n",
       "      <td>0</td>\n",
       "      <td>255</td>\n",
       "      <td>0.05</td>\n",
       "      <td>0.00</td>\n",
       "      <td>0.10</td>\n",
       "      <td>0.00</td>\n",
       "      <td>1.00</td>\n",
       "      <td>0.00</td>\n",
       "      <td>26</td>\n",
       "      <td>0.00</td>\n",
       "      <td>1.00</td>\n",
       "      <td>0</td>\n",
       "      <td>1</td>\n",
       "      <td>0</td>\n",
       "      <td>0</td>\n",
       "      <td>0</td>\n",
       "      <td>0</td>\n",
       "      <td>0</td>\n",
       "      <td>0</td>\n",
       "      <td>0</td>\n",
       "      <td>0</td>\n",
       "      <td>0</td>\n",
       "      <td>0</td>\n",
       "      <td>0</td>\n",
       "      <td>0</td>\n",
       "      <td>0</td>\n",
       "      <td>0.0</td>\n",
       "      <td>0</td>\n",
       "      <td>0.05</td>\n",
       "      <td>1.0</td>\n",
       "      <td>2.0</td>\n",
       "      <td>0</td>\n",
       "      <td>6</td>\n",
       "      <td>0.00</td>\n",
       "      <td>0.0</td>\n",
       "      <td>1.0</td>\n",
       "      <td>0</td>\n",
       "      <td>0</td>\n",
       "      <td>0</td>\n",
       "    </tr>\n",
       "    <tr>\n",
       "      <th>3</th>\n",
       "      <td>5</td>\n",
       "      <td>0.00</td>\n",
       "      <td>8153</td>\n",
       "      <td>30</td>\n",
       "      <td>0.00</td>\n",
       "      <td>0.00</td>\n",
       "      <td>1.00</td>\n",
       "      <td>0.03</td>\n",
       "      <td>0.03</td>\n",
       "      <td>0.04</td>\n",
       "      <td>255</td>\n",
       "      <td>0.01</td>\n",
       "      <td>0.01</td>\n",
       "      <td>0</td>\n",
       "      <td>0</td>\n",
       "      <td>0</td>\n",
       "      <td>0</td>\n",
       "      <td>0</td>\n",
       "      <td>0</td>\n",
       "      <td>1</td>\n",
       "      <td>0</td>\n",
       "      <td>0</td>\n",
       "      <td>0</td>\n",
       "      <td>0</td>\n",
       "      <td>0</td>\n",
       "      <td>0</td>\n",
       "      <td>0</td>\n",
       "      <td>0</td>\n",
       "      <td>0.0</td>\n",
       "      <td>0</td>\n",
       "      <td>1.00</td>\n",
       "      <td>0.2</td>\n",
       "      <td>3.0</td>\n",
       "      <td>232</td>\n",
       "      <td>5</td>\n",
       "      <td>0.00</td>\n",
       "      <td>0.0</td>\n",
       "      <td>0.2</td>\n",
       "      <td>0</td>\n",
       "      <td>0</td>\n",
       "      <td>0</td>\n",
       "    </tr>\n",
       "    <tr>\n",
       "      <th>4</th>\n",
       "      <td>30</td>\n",
       "      <td>0.00</td>\n",
       "      <td>420</td>\n",
       "      <td>255</td>\n",
       "      <td>0.00</td>\n",
       "      <td>0.00</td>\n",
       "      <td>1.00</td>\n",
       "      <td>0.00</td>\n",
       "      <td>0.00</td>\n",
       "      <td>0.00</td>\n",
       "      <td>255</td>\n",
       "      <td>0.00</td>\n",
       "      <td>0.00</td>\n",
       "      <td>0</td>\n",
       "      <td>0</td>\n",
       "      <td>0</td>\n",
       "      <td>0</td>\n",
       "      <td>0</td>\n",
       "      <td>0</td>\n",
       "      <td>1</td>\n",
       "      <td>0</td>\n",
       "      <td>0</td>\n",
       "      <td>0</td>\n",
       "      <td>0</td>\n",
       "      <td>0</td>\n",
       "      <td>0</td>\n",
       "      <td>0</td>\n",
       "      <td>0</td>\n",
       "      <td>0.0</td>\n",
       "      <td>0</td>\n",
       "      <td>1.00</td>\n",
       "      <td>0.0</td>\n",
       "      <td>3.0</td>\n",
       "      <td>199</td>\n",
       "      <td>32</td>\n",
       "      <td>0.09</td>\n",
       "      <td>0.0</td>\n",
       "      <td>0.0</td>\n",
       "      <td>0</td>\n",
       "      <td>0</td>\n",
       "      <td>0</td>\n",
       "    </tr>\n",
       "  </tbody>\n",
       "</table>\n",
       "</div>"
      ],
      "text/plain": [
       "   Count  Diff_srv_rate  Dst_bytes  Dst_host_count  Dst_host_diff_ srv_rate  \\\n",
       "0      2           0.00          0             150                     0.03   \n",
       "1     13           0.15          0             255                     0.60   \n",
       "2    123           0.07          0             255                     0.05   \n",
       "3      5           0.00       8153              30                     0.00   \n",
       "4     30           0.00        420             255                     0.00   \n",
       "\n",
       "   Dst_host_rerro r_rate  Dst_host_same\\n_srv_rate  \\\n",
       "0                   0.05                      0.17   \n",
       "1                   0.00                      0.00   \n",
       "2                   0.00                      0.10   \n",
       "3                   0.00                      1.00   \n",
       "4                   0.00                      1.00   \n",
       "\n",
       "   Dst_host_same _src_port_rate  Dst_host_serro r_rate  \\\n",
       "0                          0.17                   0.00   \n",
       "1                          0.88                   0.00   \n",
       "2                          0.00                   1.00   \n",
       "3                          0.03                   0.03   \n",
       "4                          0.00                   0.00   \n",
       "\n",
       "   Dst_host_srv_ diff_host_rate  Dst_host_srv_count  \\\n",
       "0                          0.00                  25   \n",
       "1                          0.00                   1   \n",
       "2                          0.00                  26   \n",
       "3                          0.04                 255   \n",
       "4                          0.00                 255   \n",
       "\n",
       "   Dst_host_srv_r error_rate  Dst_host_srv_s error_rate  Duration  Flag  Hot  \\\n",
       "0                       0.00                       0.00         0     0    0   \n",
       "1                       0.00                       0.00         0     0    0   \n",
       "2                       0.00                       1.00         0     1    0   \n",
       "3                       0.01                       0.01         0     0    0   \n",
       "4                       0.00                       0.00         0     0    0   \n",
       "\n",
       "   Is_guest_login  Is_hot_login  Land  Logged_in  Num_access_files  \\\n",
       "0               0             0     0          0                 0   \n",
       "1               0             0     0          0                 0   \n",
       "2               0             0     0          0                 0   \n",
       "3               0             0     0          1                 0   \n",
       "4               0             0     0          1                 0   \n",
       "\n",
       "   Num_compromised  Num_failed_logins  Num_file_creations  Num_outbound_cmds  \\\n",
       "0                0                  0                   0                  0   \n",
       "1                0                  0                   0                  0   \n",
       "2                0                  0                   0                  0   \n",
       "3                0                  0                   0                  0   \n",
       "4                0                  0                   0                  0   \n",
       "\n",
       "   Num_root  Num_shells  Protocol_type  Rerror_rate  Root_shell  \\\n",
       "0         0           0              0          0.0           0   \n",
       "1         0           0              1          0.0           0   \n",
       "2         0           0              0          0.0           0   \n",
       "3         0           0              0          0.0           0   \n",
       "4         0           0              0          0.0           0   \n",
       "\n",
       "   Same_srv_rate  Serror_rate  Service  Src_bytes  Srv_count  \\\n",
       "0           1.00          0.0      0.0        491          2   \n",
       "1           0.08          0.0      1.0        146          1   \n",
       "2           0.05          1.0      2.0          0          6   \n",
       "3           1.00          0.2      3.0        232          5   \n",
       "4           1.00          0.0      3.0        199         32   \n",
       "\n",
       "   Srv_diff_host_ rate  Srv_error_rate  Srv_serror_rate  Su_attempted  Urgent  \\\n",
       "0                 0.00             0.0              0.0             0       0   \n",
       "1                 0.00             0.0              0.0             0       0   \n",
       "2                 0.00             0.0              1.0             0       0   \n",
       "3                 0.00             0.0              0.2             0       0   \n",
       "4                 0.09             0.0              0.0             0       0   \n",
       "\n",
       "   Wrong_fragment  \n",
       "0               0  \n",
       "1               0  \n",
       "2               0  \n",
       "3               0  \n",
       "4               0  "
      ]
     },
     "execution_count": 11,
     "metadata": {},
     "output_type": "execute_result"
    }
   ],
   "source": [
    "predictors.head()"
   ]
  },
  {
   "cell_type": "code",
   "execution_count": 12,
   "id": "735add5d",
   "metadata": {},
   "outputs": [
    {
     "data": {
      "text/html": [
       "<div>\n",
       "<style scoped>\n",
       "    .dataframe tbody tr th:only-of-type {\n",
       "        vertical-align: middle;\n",
       "    }\n",
       "\n",
       "    .dataframe tbody tr th {\n",
       "        vertical-align: top;\n",
       "    }\n",
       "\n",
       "    .dataframe thead th {\n",
       "        text-align: right;\n",
       "    }\n",
       "</style>\n",
       "<table border=\"1\" class=\"dataframe\">\n",
       "  <thead>\n",
       "    <tr style=\"text-align: right;\">\n",
       "      <th></th>\n",
       "      <th>Duration</th>\n",
       "      <th>Protocol_type</th>\n",
       "      <th>Service</th>\n",
       "      <th>Flag</th>\n",
       "      <th>Src_bytes</th>\n",
       "      <th>Dst_bytes</th>\n",
       "      <th>Land</th>\n",
       "      <th>Wrong_fragment</th>\n",
       "      <th>Urgent</th>\n",
       "      <th>Hot</th>\n",
       "      <th>Num_failed_logins</th>\n",
       "      <th>Logged_in</th>\n",
       "      <th>Num_compromised</th>\n",
       "      <th>Root_shell</th>\n",
       "      <th>Su_attempted</th>\n",
       "      <th>Num_root</th>\n",
       "      <th>Num_file_creations</th>\n",
       "      <th>Num_shells</th>\n",
       "      <th>Num_access_files</th>\n",
       "      <th>Num_outbound_cmds</th>\n",
       "      <th>Is_hot_login</th>\n",
       "      <th>Is_guest_login</th>\n",
       "      <th>Count</th>\n",
       "      <th>Srv_count</th>\n",
       "      <th>Serror_rate</th>\n",
       "      <th>Srv_serror_rate</th>\n",
       "      <th>Rerror_rate</th>\n",
       "      <th>Srv_error_rate</th>\n",
       "      <th>Same_srv_rate</th>\n",
       "      <th>Diff_srv_rate</th>\n",
       "      <th>Srv_diff_host_ rate</th>\n",
       "      <th>Dst_host_count</th>\n",
       "      <th>Dst_host_srv_count</th>\n",
       "      <th>Dst_host_same\\n_srv_rate</th>\n",
       "      <th>Dst_host_diff_ srv_rate</th>\n",
       "      <th>Dst_host_same _src_port_rate</th>\n",
       "      <th>Dst_host_srv_ diff_host_rate</th>\n",
       "      <th>Dst_host_serro r_rate</th>\n",
       "      <th>Dst_host_srv_s error_rate</th>\n",
       "      <th>Dst_host_rerro r_rate</th>\n",
       "      <th>Dst_host_srv_r error_rate</th>\n",
       "      <th>Result</th>\n",
       "    </tr>\n",
       "  </thead>\n",
       "  <tbody>\n",
       "    <tr>\n",
       "      <th>0</th>\n",
       "      <td>0</td>\n",
       "      <td>0</td>\n",
       "      <td>0.0</td>\n",
       "      <td>0</td>\n",
       "      <td>491</td>\n",
       "      <td>0</td>\n",
       "      <td>0</td>\n",
       "      <td>0</td>\n",
       "      <td>0</td>\n",
       "      <td>0</td>\n",
       "      <td>0</td>\n",
       "      <td>0</td>\n",
       "      <td>0</td>\n",
       "      <td>0</td>\n",
       "      <td>0</td>\n",
       "      <td>0</td>\n",
       "      <td>0</td>\n",
       "      <td>0</td>\n",
       "      <td>0</td>\n",
       "      <td>0</td>\n",
       "      <td>0</td>\n",
       "      <td>0</td>\n",
       "      <td>2</td>\n",
       "      <td>2</td>\n",
       "      <td>0.0</td>\n",
       "      <td>0.0</td>\n",
       "      <td>0.0</td>\n",
       "      <td>0.0</td>\n",
       "      <td>1.00</td>\n",
       "      <td>0.00</td>\n",
       "      <td>0.00</td>\n",
       "      <td>150</td>\n",
       "      <td>25</td>\n",
       "      <td>0.17</td>\n",
       "      <td>0.03</td>\n",
       "      <td>0.17</td>\n",
       "      <td>0.00</td>\n",
       "      <td>0.00</td>\n",
       "      <td>0.00</td>\n",
       "      <td>0.05</td>\n",
       "      <td>0.00</td>\n",
       "      <td>normal</td>\n",
       "    </tr>\n",
       "    <tr>\n",
       "      <th>1</th>\n",
       "      <td>0</td>\n",
       "      <td>1</td>\n",
       "      <td>1.0</td>\n",
       "      <td>0</td>\n",
       "      <td>146</td>\n",
       "      <td>0</td>\n",
       "      <td>0</td>\n",
       "      <td>0</td>\n",
       "      <td>0</td>\n",
       "      <td>0</td>\n",
       "      <td>0</td>\n",
       "      <td>0</td>\n",
       "      <td>0</td>\n",
       "      <td>0</td>\n",
       "      <td>0</td>\n",
       "      <td>0</td>\n",
       "      <td>0</td>\n",
       "      <td>0</td>\n",
       "      <td>0</td>\n",
       "      <td>0</td>\n",
       "      <td>0</td>\n",
       "      <td>0</td>\n",
       "      <td>13</td>\n",
       "      <td>1</td>\n",
       "      <td>0.0</td>\n",
       "      <td>0.0</td>\n",
       "      <td>0.0</td>\n",
       "      <td>0.0</td>\n",
       "      <td>0.08</td>\n",
       "      <td>0.15</td>\n",
       "      <td>0.00</td>\n",
       "      <td>255</td>\n",
       "      <td>1</td>\n",
       "      <td>0.00</td>\n",
       "      <td>0.60</td>\n",
       "      <td>0.88</td>\n",
       "      <td>0.00</td>\n",
       "      <td>0.00</td>\n",
       "      <td>0.00</td>\n",
       "      <td>0.00</td>\n",
       "      <td>0.00</td>\n",
       "      <td>normal</td>\n",
       "    </tr>\n",
       "    <tr>\n",
       "      <th>2</th>\n",
       "      <td>0</td>\n",
       "      <td>0</td>\n",
       "      <td>2.0</td>\n",
       "      <td>1</td>\n",
       "      <td>0</td>\n",
       "      <td>0</td>\n",
       "      <td>0</td>\n",
       "      <td>0</td>\n",
       "      <td>0</td>\n",
       "      <td>0</td>\n",
       "      <td>0</td>\n",
       "      <td>0</td>\n",
       "      <td>0</td>\n",
       "      <td>0</td>\n",
       "      <td>0</td>\n",
       "      <td>0</td>\n",
       "      <td>0</td>\n",
       "      <td>0</td>\n",
       "      <td>0</td>\n",
       "      <td>0</td>\n",
       "      <td>0</td>\n",
       "      <td>0</td>\n",
       "      <td>123</td>\n",
       "      <td>6</td>\n",
       "      <td>1.0</td>\n",
       "      <td>1.0</td>\n",
       "      <td>0.0</td>\n",
       "      <td>0.0</td>\n",
       "      <td>0.05</td>\n",
       "      <td>0.07</td>\n",
       "      <td>0.00</td>\n",
       "      <td>255</td>\n",
       "      <td>26</td>\n",
       "      <td>0.10</td>\n",
       "      <td>0.05</td>\n",
       "      <td>0.00</td>\n",
       "      <td>0.00</td>\n",
       "      <td>1.00</td>\n",
       "      <td>1.00</td>\n",
       "      <td>0.00</td>\n",
       "      <td>0.00</td>\n",
       "      <td>neptune</td>\n",
       "    </tr>\n",
       "    <tr>\n",
       "      <th>3</th>\n",
       "      <td>0</td>\n",
       "      <td>0</td>\n",
       "      <td>3.0</td>\n",
       "      <td>0</td>\n",
       "      <td>232</td>\n",
       "      <td>8153</td>\n",
       "      <td>0</td>\n",
       "      <td>0</td>\n",
       "      <td>0</td>\n",
       "      <td>0</td>\n",
       "      <td>0</td>\n",
       "      <td>1</td>\n",
       "      <td>0</td>\n",
       "      <td>0</td>\n",
       "      <td>0</td>\n",
       "      <td>0</td>\n",
       "      <td>0</td>\n",
       "      <td>0</td>\n",
       "      <td>0</td>\n",
       "      <td>0</td>\n",
       "      <td>0</td>\n",
       "      <td>0</td>\n",
       "      <td>5</td>\n",
       "      <td>5</td>\n",
       "      <td>0.2</td>\n",
       "      <td>0.2</td>\n",
       "      <td>0.0</td>\n",
       "      <td>0.0</td>\n",
       "      <td>1.00</td>\n",
       "      <td>0.00</td>\n",
       "      <td>0.00</td>\n",
       "      <td>30</td>\n",
       "      <td>255</td>\n",
       "      <td>1.00</td>\n",
       "      <td>0.00</td>\n",
       "      <td>0.03</td>\n",
       "      <td>0.04</td>\n",
       "      <td>0.03</td>\n",
       "      <td>0.01</td>\n",
       "      <td>0.00</td>\n",
       "      <td>0.01</td>\n",
       "      <td>normal</td>\n",
       "    </tr>\n",
       "    <tr>\n",
       "      <th>4</th>\n",
       "      <td>0</td>\n",
       "      <td>0</td>\n",
       "      <td>3.0</td>\n",
       "      <td>0</td>\n",
       "      <td>199</td>\n",
       "      <td>420</td>\n",
       "      <td>0</td>\n",
       "      <td>0</td>\n",
       "      <td>0</td>\n",
       "      <td>0</td>\n",
       "      <td>0</td>\n",
       "      <td>1</td>\n",
       "      <td>0</td>\n",
       "      <td>0</td>\n",
       "      <td>0</td>\n",
       "      <td>0</td>\n",
       "      <td>0</td>\n",
       "      <td>0</td>\n",
       "      <td>0</td>\n",
       "      <td>0</td>\n",
       "      <td>0</td>\n",
       "      <td>0</td>\n",
       "      <td>30</td>\n",
       "      <td>32</td>\n",
       "      <td>0.0</td>\n",
       "      <td>0.0</td>\n",
       "      <td>0.0</td>\n",
       "      <td>0.0</td>\n",
       "      <td>1.00</td>\n",
       "      <td>0.00</td>\n",
       "      <td>0.09</td>\n",
       "      <td>255</td>\n",
       "      <td>255</td>\n",
       "      <td>1.00</td>\n",
       "      <td>0.00</td>\n",
       "      <td>0.00</td>\n",
       "      <td>0.00</td>\n",
       "      <td>0.00</td>\n",
       "      <td>0.00</td>\n",
       "      <td>0.00</td>\n",
       "      <td>0.00</td>\n",
       "      <td>normal</td>\n",
       "    </tr>\n",
       "  </tbody>\n",
       "</table>\n",
       "</div>"
      ],
      "text/plain": [
       "   Duration  Protocol_type  Service  Flag  Src_bytes  Dst_bytes  Land  \\\n",
       "0         0              0      0.0     0        491          0     0   \n",
       "1         0              1      1.0     0        146          0     0   \n",
       "2         0              0      2.0     1          0          0     0   \n",
       "3         0              0      3.0     0        232       8153     0   \n",
       "4         0              0      3.0     0        199        420     0   \n",
       "\n",
       "   Wrong_fragment  Urgent  Hot  Num_failed_logins  Logged_in  Num_compromised  \\\n",
       "0               0       0    0                  0          0                0   \n",
       "1               0       0    0                  0          0                0   \n",
       "2               0       0    0                  0          0                0   \n",
       "3               0       0    0                  0          1                0   \n",
       "4               0       0    0                  0          1                0   \n",
       "\n",
       "   Root_shell  Su_attempted  Num_root  Num_file_creations  Num_shells  \\\n",
       "0           0             0         0                   0           0   \n",
       "1           0             0         0                   0           0   \n",
       "2           0             0         0                   0           0   \n",
       "3           0             0         0                   0           0   \n",
       "4           0             0         0                   0           0   \n",
       "\n",
       "   Num_access_files  Num_outbound_cmds  Is_hot_login  Is_guest_login  Count  \\\n",
       "0                 0                  0             0               0      2   \n",
       "1                 0                  0             0               0     13   \n",
       "2                 0                  0             0               0    123   \n",
       "3                 0                  0             0               0      5   \n",
       "4                 0                  0             0               0     30   \n",
       "\n",
       "   Srv_count  Serror_rate  Srv_serror_rate  Rerror_rate  Srv_error_rate  \\\n",
       "0          2          0.0              0.0          0.0             0.0   \n",
       "1          1          0.0              0.0          0.0             0.0   \n",
       "2          6          1.0              1.0          0.0             0.0   \n",
       "3          5          0.2              0.2          0.0             0.0   \n",
       "4         32          0.0              0.0          0.0             0.0   \n",
       "\n",
       "   Same_srv_rate  Diff_srv_rate  Srv_diff_host_ rate  Dst_host_count  \\\n",
       "0           1.00           0.00                 0.00             150   \n",
       "1           0.08           0.15                 0.00             255   \n",
       "2           0.05           0.07                 0.00             255   \n",
       "3           1.00           0.00                 0.00              30   \n",
       "4           1.00           0.00                 0.09             255   \n",
       "\n",
       "   Dst_host_srv_count  Dst_host_same\\n_srv_rate  Dst_host_diff_ srv_rate  \\\n",
       "0                  25                      0.17                     0.03   \n",
       "1                   1                      0.00                     0.60   \n",
       "2                  26                      0.10                     0.05   \n",
       "3                 255                      1.00                     0.00   \n",
       "4                 255                      1.00                     0.00   \n",
       "\n",
       "   Dst_host_same _src_port_rate  Dst_host_srv_ diff_host_rate  \\\n",
       "0                          0.17                          0.00   \n",
       "1                          0.88                          0.00   \n",
       "2                          0.00                          0.00   \n",
       "3                          0.03                          0.04   \n",
       "4                          0.00                          0.00   \n",
       "\n",
       "   Dst_host_serro r_rate  Dst_host_srv_s error_rate  Dst_host_rerro r_rate  \\\n",
       "0                   0.00                       0.00                   0.05   \n",
       "1                   0.00                       0.00                   0.00   \n",
       "2                   1.00                       1.00                   0.00   \n",
       "3                   0.03                       0.01                   0.00   \n",
       "4                   0.00                       0.00                   0.00   \n",
       "\n",
       "   Dst_host_srv_r error_rate   Result  \n",
       "0                       0.00   normal  \n",
       "1                       0.00   normal  \n",
       "2                       0.00  neptune  \n",
       "3                       0.01   normal  \n",
       "4                       0.00   normal  "
      ]
     },
     "execution_count": 12,
     "metadata": {},
     "output_type": "execute_result"
    }
   ],
   "source": [
    "train.head()"
   ]
  },
  {
   "cell_type": "code",
   "execution_count": null,
   "id": "f738f622",
   "metadata": {},
   "outputs": [],
   "source": []
  },
  {
   "cell_type": "code",
   "execution_count": 13,
   "id": "74741213",
   "metadata": {},
   "outputs": [],
   "source": [
    "#allocating the targeted columns\n",
    "X=predictors.values\n",
    "#assigning target variable\n",
    "Y=train.Result"
   ]
  },
  {
   "cell_type": "code",
   "execution_count": 14,
   "id": "ba34aeaa",
   "metadata": {},
   "outputs": [
    {
     "data": {
      "text/plain": [
       "(array([[2.00e+00, 0.00e+00, 0.00e+00, ..., 0.00e+00, 0.00e+00, 0.00e+00],\n",
       "        [1.30e+01, 1.50e-01, 0.00e+00, ..., 0.00e+00, 0.00e+00, 0.00e+00],\n",
       "        [1.23e+02, 7.00e-02, 0.00e+00, ..., 0.00e+00, 0.00e+00, 0.00e+00],\n",
       "        ...,\n",
       "        [1.00e+00, 0.00e+00, 3.84e+02, ..., 0.00e+00, 0.00e+00, 0.00e+00],\n",
       "        [1.44e+02, 5.00e-02, 0.00e+00, ..., 0.00e+00, 0.00e+00, 0.00e+00],\n",
       "        [1.00e+00, 0.00e+00, 0.00e+00, ..., 0.00e+00, 0.00e+00, 0.00e+00]]),\n",
       " 0          normal\n",
       " 1          normal\n",
       " 2         neptune\n",
       " 3          normal\n",
       " 4          normal\n",
       "            ...   \n",
       " 125968    neptune\n",
       " 125969     normal\n",
       " 125970     normal\n",
       " 125971    neptune\n",
       " 125972     normal\n",
       " Name: Result, Length: 125973, dtype: object)"
      ]
     },
     "execution_count": 14,
     "metadata": {},
     "output_type": "execute_result"
    }
   ],
   "source": [
    "X,Y"
   ]
  },
  {
   "cell_type": "code",
   "execution_count": 15,
   "id": "8a334598",
   "metadata": {},
   "outputs": [],
   "source": [
    "#using train_test_split function from sklearn to divide the train dataset\n",
    "#importing library\n",
    "from sklearn.model_selection import train_test_split"
   ]
  },
  {
   "cell_type": "code",
   "execution_count": 16,
   "id": "5b36e2e8",
   "metadata": {},
   "outputs": [],
   "source": [
    "#split the data into train and cross validation \n",
    "#same train and test sets across different executions hence random_state=0.\n",
    "X_train,X_test,y_train,y_test=train_test_split(X,Y,test_size=0.3,random_state=0)"
   ]
  },
  {
   "cell_type": "code",
   "execution_count": 17,
   "id": "e46414da",
   "metadata": {},
   "outputs": [
    {
     "data": {
      "text/plain": [
       "((88181, 41), (37792, 41), (88181,), (37792,))"
      ]
     },
     "execution_count": 17,
     "metadata": {},
     "output_type": "execute_result"
    }
   ],
   "source": [
    "#shaping the dimension of the data\n",
    "X_train.shape,X_test.shape,y_train.shape,y_test.shape"
   ]
  },
  {
   "cell_type": "code",
   "execution_count": 18,
   "id": "7825f557",
   "metadata": {},
   "outputs": [],
   "source": [
    "#importing decision tree and accuracy_score from sklearn\n",
    "from sklearn.tree import DecisionTreeClassifier\n",
    "from sklearn.metrics import accuracy_score\n",
    "from sklearn import metrics\n"
   ]
  },
  {
   "cell_type": "code",
   "execution_count": null,
   "id": "298af6bb",
   "metadata": {},
   "outputs": [],
   "source": [
    "\n"
   ]
  },
  {
   "cell_type": "code",
   "execution_count": 19,
   "id": "a78cb948",
   "metadata": {},
   "outputs": [],
   "source": [
    "X_train = np.nan_to_num(X_train.astype(np.float32))\n",
    "X_test = np.nan_to_num(X_test.astype(np.float32))"
   ]
  },
  {
   "cell_type": "code",
   "execution_count": 20,
   "id": "8af85f0e",
   "metadata": {},
   "outputs": [
    {
     "data": {
      "text/plain": [
       "DecisionTreeClassifier()"
      ]
     },
     "execution_count": 20,
     "metadata": {},
     "output_type": "execute_result"
    }
   ],
   "source": [
    "#fit the model\n",
    "model=DecisionTreeClassifier()\n",
    "model.fit(X_train,y_train)"
   ]
  },
  {
   "cell_type": "code",
   "execution_count": 21,
   "id": "e1e1babf",
   "metadata": {},
   "outputs": [],
   "source": [
    "#X_test = test[predictors].values\n",
    "predicted= model.predict(X_test)"
   ]
  },
  {
   "cell_type": "code",
   "execution_count": 22,
   "id": "1dd8c1e0",
   "metadata": {},
   "outputs": [
    {
     "data": {
      "text/plain": [
       "0.9969305673158341"
      ]
     },
     "execution_count": 22,
     "metadata": {},
     "output_type": "execute_result"
    }
   ],
   "source": [
    "accuracy_score(y_test,predicted)"
   ]
  },
  {
   "cell_type": "code",
   "execution_count": 23,
   "id": "c060c9a7",
   "metadata": {},
   "outputs": [
    {
     "name": "stderr",
     "output_type": "stream",
     "text": [
      "C:\\ProgramData\\Anaconda3\\lib\\site-packages\\sklearn\\metrics\\_classification.py:1318: UndefinedMetricWarning: Precision and F-score are ill-defined and being set to 0.0 in labels with no predicted samples. Use `zero_division` parameter to control this behavior.\n",
      "  _warn_prf(average, modifier, msg_start, len(result))\n",
      "C:\\ProgramData\\Anaconda3\\lib\\site-packages\\sklearn\\metrics\\_classification.py:1318: UndefinedMetricWarning: Recall and F-score are ill-defined and being set to 0.0 in labels with no true samples. Use `zero_division` parameter to control this behavior.\n",
      "  _warn_prf(average, modifier, msg_start, len(result))\n",
      "C:\\ProgramData\\Anaconda3\\lib\\site-packages\\sklearn\\metrics\\_classification.py:1318: UndefinedMetricWarning: Precision and F-score are ill-defined and being set to 0.0 in labels with no predicted samples. Use `zero_division` parameter to control this behavior.\n",
      "  _warn_prf(average, modifier, msg_start, len(result))\n",
      "C:\\ProgramData\\Anaconda3\\lib\\site-packages\\sklearn\\metrics\\_classification.py:1318: UndefinedMetricWarning: Recall and F-score are ill-defined and being set to 0.0 in labels with no true samples. Use `zero_division` parameter to control this behavior.\n",
      "  _warn_prf(average, modifier, msg_start, len(result))\n"
     ]
    },
    {
     "name": "stdout",
     "output_type": "stream",
     "text": [
      "                 precision    recall  f1-score   support\n",
      "\n",
      "           back       0.99      1.00      1.00       308\n",
      "buffer_overflow       0.67      0.55      0.60        11\n",
      "      ftp_write       0.50      0.50      0.50         2\n",
      "   guess_passwd       1.00      0.90      0.95        21\n",
      "           imap       0.60      0.75      0.67         4\n",
      "        ipsweep       0.99      1.00      1.00      1071\n",
      "           land       0.75      0.60      0.67         5\n",
      "     loadmodule       0.00      0.00      0.00         0\n",
      "       multihop       0.50      0.33      0.40         3\n",
      "        neptune       1.00      1.00      1.00     12339\n",
      "           nmap       0.99      0.99      0.99       467\n",
      "         normal       1.00      1.00      1.00     20161\n",
      "           perl       0.33      1.00      0.50         1\n",
      "            pod       1.00      1.00      1.00        64\n",
      "      portsweep       0.99      0.99      0.99       934\n",
      "        rootkit       0.00      0.00      0.00         4\n",
      "          satan       0.99      0.99      0.99      1085\n",
      "          smurf       1.00      1.00      1.00       770\n",
      "            spy       0.00      0.00      0.00         1\n",
      "       teardrop       1.00      1.00      1.00       242\n",
      "    warezclient       0.96      0.98      0.97       288\n",
      "    warezmaster       1.00      0.82      0.90        11\n",
      "\n",
      "       accuracy                           1.00     37792\n",
      "      macro avg       0.74      0.74      0.73     37792\n",
      "   weighted avg       1.00      1.00      1.00     37792\n",
      "\n"
     ]
    },
    {
     "name": "stderr",
     "output_type": "stream",
     "text": [
      "C:\\ProgramData\\Anaconda3\\lib\\site-packages\\sklearn\\metrics\\_classification.py:1318: UndefinedMetricWarning: Precision and F-score are ill-defined and being set to 0.0 in labels with no predicted samples. Use `zero_division` parameter to control this behavior.\n",
      "  _warn_prf(average, modifier, msg_start, len(result))\n",
      "C:\\ProgramData\\Anaconda3\\lib\\site-packages\\sklearn\\metrics\\_classification.py:1318: UndefinedMetricWarning: Recall and F-score are ill-defined and being set to 0.0 in labels with no true samples. Use `zero_division` parameter to control this behavior.\n",
      "  _warn_prf(average, modifier, msg_start, len(result))\n"
     ]
    }
   ],
   "source": [
    "print(metrics.classification_report(y_test,predicted,))\n",
    "confusion_matrix=metrics.confusion_matrix(y_test,predicted)"
   ]
  },
  {
   "cell_type": "code",
   "execution_count": 24,
   "id": "2aad604b",
   "metadata": {},
   "outputs": [],
   "source": [
    "FP = confusion_matrix.sum(axis=0) - np.diag(confusion_matrix)  \n",
    "FN = confusion_matrix.sum(axis=1) - np.diag(confusion_matrix)\n",
    "TP = np.diag(confusion_matrix)\n",
    "TN = confusion_matrix.sum() - (FP + FN + TP)"
   ]
  },
  {
   "cell_type": "code",
   "execution_count": 25,
   "id": "f00dc6ff",
   "metadata": {},
   "outputs": [],
   "source": [
    "FP_rate=FP/(FP+TN)"
   ]
  },
  {
   "cell_type": "code",
   "execution_count": 26,
   "id": "09af5a05",
   "metadata": {},
   "outputs": [
    {
     "data": {
      "text/plain": [
       "array([8.00341479e-05, 7.94049919e-05, 2.64620270e-05, 0.00000000e+00,\n",
       "       5.29268551e-05, 1.63394243e-04, 2.64641279e-05, 2.64606266e-04,\n",
       "       2.64627272e-05, 2.75016697e-04, 1.33958473e-04, 1.98513981e-03,\n",
       "       5.29226535e-05, 0.00000000e+00, 1.62786912e-04, 1.58780565e-04,\n",
       "       4.08641404e-04, 0.00000000e+00, 0.00000000e+00, 0.00000000e+00,\n",
       "       3.46629693e-04, 0.00000000e+00])"
      ]
     },
     "execution_count": 26,
     "metadata": {},
     "output_type": "execute_result"
    }
   ],
   "source": [
    "FP_rate"
   ]
  },
  {
   "cell_type": "code",
   "execution_count": 27,
   "id": "9bb45acf",
   "metadata": {},
   "outputs": [],
   "source": [
    "from sklearn.decomposition import PCA"
   ]
  },
  {
   "cell_type": "code",
   "execution_count": 40,
   "id": "bcafa923",
   "metadata": {},
   "outputs": [],
   "source": [
    "pca=PCA(n_components=40)"
   ]
  },
  {
   "cell_type": "code",
   "execution_count": 41,
   "id": "11e81df0",
   "metadata": {},
   "outputs": [],
   "source": [
    "predictors = np.nan_to_num(predictors.astype(np.float32))"
   ]
  },
  {
   "cell_type": "code",
   "execution_count": 42,
   "id": "cbb3476f",
   "metadata": {},
   "outputs": [],
   "source": [
    "xpca=pca.fit_transform(predictors)"
   ]
  },
  {
   "cell_type": "code",
   "execution_count": 43,
   "id": "57fad198",
   "metadata": {},
   "outputs": [
    {
     "data": {
      "text/plain": [
       "(125973, 40)"
      ]
     },
     "execution_count": 43,
     "metadata": {},
     "output_type": "execute_result"
    }
   ],
   "source": [
    "xpca.shape"
   ]
  },
  {
   "cell_type": "code",
   "execution_count": 44,
   "id": "0042eb10",
   "metadata": {},
   "outputs": [],
   "source": [
    "X_trainpca,X_testpca,y_trainpca,y_testpca=train_test_split(xpca,Y,test_size=0.2,random_state=30)"
   ]
  },
  {
   "cell_type": "code",
   "execution_count": 45,
   "id": "c2166ffa",
   "metadata": {},
   "outputs": [
    {
     "data": {
      "text/plain": [
       "((100778, 40), (25195, 40), (100778,), (25195,))"
      ]
     },
     "execution_count": 45,
     "metadata": {},
     "output_type": "execute_result"
    }
   ],
   "source": [
    "X_trainpca.shape,X_testpca.shape,y_trainpca.shape,y_testpca.shape"
   ]
  },
  {
   "cell_type": "code",
   "execution_count": 46,
   "id": "af2ae166",
   "metadata": {},
   "outputs": [
    {
     "data": {
      "text/plain": [
       "DecisionTreeClassifier()"
      ]
     },
     "execution_count": 46,
     "metadata": {},
     "output_type": "execute_result"
    }
   ],
   "source": [
    "modelpca=DecisionTreeClassifier()\n",
    "modelpca.fit(X_trainpca,y_trainpca)"
   ]
  },
  {
   "cell_type": "code",
   "execution_count": 47,
   "id": "956e364d",
   "metadata": {},
   "outputs": [],
   "source": [
    "predictedpca= modelpca.predict(X_testpca)"
   ]
  },
  {
   "cell_type": "code",
   "execution_count": 48,
   "id": "97e609ce",
   "metadata": {},
   "outputs": [
    {
     "data": {
      "text/plain": [
       "0.9958325064496923"
      ]
     },
     "execution_count": 48,
     "metadata": {},
     "output_type": "execute_result"
    }
   ],
   "source": [
    "accuracy_score(y_testpca,predictedpca)"
   ]
  },
  {
   "cell_type": "code",
   "execution_count": null,
   "id": "22d4f0f6",
   "metadata": {},
   "outputs": [],
   "source": []
  }
 ],
 "metadata": {
  "kernelspec": {
   "display_name": "Python 3 (ipykernel)",
   "language": "python",
   "name": "python3"
  },
  "language_info": {
   "codemirror_mode": {
    "name": "ipython",
    "version": 3
   },
   "file_extension": ".py",
   "mimetype": "text/x-python",
   "name": "python",
   "nbconvert_exporter": "python",
   "pygments_lexer": "ipython3",
   "version": "3.9.12"
  }
 },
 "nbformat": 4,
 "nbformat_minor": 5
}
